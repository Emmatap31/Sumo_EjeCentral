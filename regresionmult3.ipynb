{
 "cells": [
  {
   "cell_type": "code",
   "execution_count": 2,
   "id": "3675905e",
   "metadata": {},
   "outputs": [],
   "source": [
    "from sklearn.preprocessing import PolynomialFeatures\n",
    "from sklearn.linear_model import LinearRegression\n",
    "from sklearn.pipeline import make_pipeline\n",
    "from sklearn.model_selection import train_test_split\n",
    "from sklearn.preprocessing import StandardScaler\n",
    "import numpy as np\n",
    "import pandas as pd\n"
   ]
  },
  {
   "cell_type": "code",
   "execution_count": 3,
   "id": "b5ddeb17",
   "metadata": {},
   "outputs": [],
   "source": [
    "data = pd.read_csv('Valores.csv')\n",
    "\n",
    "variables_independientes = ['GGrr (s)','yyrr (s)','rrGG (s)','rryy (s)','Autos r_0', 'Autos r_1']\n",
    "variable_dependiente = 'Tiempo promedio'\n",
    "\n",
    "X = data[variables_independientes]\n",
    "y = data[variable_dependiente]"
   ]
  },
  {
   "cell_type": "code",
   "execution_count": 4,
   "id": "52e0deab",
   "metadata": {},
   "outputs": [
    {
     "name": "stdout",
     "output_type": "stream",
     "text": [
      "c:\\Users\\emman\\AppData\\Local\\Programs\\Python\\Python39\\python.exe\n"
     ]
    }
   ],
   "source": [
    "import sys\n",
    "print(sys.executable)"
   ]
  },
  {
   "cell_type": "code",
   "execution_count": 5,
   "id": "4fb18d19-3f6a-44cb-834b-e11b53916bcd",
   "metadata": {},
   "outputs": [],
   "source": [
    "X_train, X_test, y_train, y_test = train_test_split(X, y, test_size=0.2, random_state=42)"
   ]
  },
  {
   "cell_type": "code",
   "execution_count": 6,
   "id": "0f3a0a7f",
   "metadata": {},
   "outputs": [
    {
     "data": {
      "application/vnd.microsoft.datawrangler.viewer.v0+json": {
       "columns": [
        {
         "name": "index",
         "rawType": "int64",
         "type": "integer"
        },
        {
         "name": "GGrr (s)",
         "rawType": "int64",
         "type": "integer"
        },
        {
         "name": "yyrr (s)",
         "rawType": "int64",
         "type": "integer"
        },
        {
         "name": "rrGG (s)",
         "rawType": "int64",
         "type": "integer"
        },
        {
         "name": "rryy (s)",
         "rawType": "int64",
         "type": "integer"
        },
        {
         "name": "Autos r_0",
         "rawType": "int64",
         "type": "integer"
        },
        {
         "name": "Autos r_1",
         "rawType": "int64",
         "type": "integer"
        }
       ],
       "ref": "bffaf91d-60c2-416d-89d3-b7bdf878e35f",
       "rows": [
        [
         "29",
         "54",
         "2",
         "49",
         "2",
         "15000",
         "28000"
        ],
        [
         "535",
         "32",
         "4",
         "10",
         "2",
         "3500",
         "16000"
        ],
        [
         "695",
         "40",
         "2",
         "54",
         "2",
         "3500",
         "14000"
        ],
        [
         "557",
         "17",
         "5",
         "60",
         "5",
         "7500",
         "14000"
        ],
        [
         "836",
         "35",
         "3",
         "46",
         "3",
         "3500",
         "8000"
        ],
        [
         "596",
         "38",
         "3",
         "25",
         "4",
         "7500",
         "22000"
        ],
        [
         "165",
         "20",
         "2",
         "24",
         "2",
         "6500",
         "18000"
        ],
        [
         "918",
         "38",
         "5",
         "10",
         "3",
         "15500",
         "20000"
        ],
        [
         "495",
         "11",
         "2",
         "37",
         "3",
         "5500",
         "8000"
        ],
        [
         "824",
         "57",
         "5",
         "24",
         "4",
         "21500",
         "16000"
        ],
        [
         "65",
         "50",
         "5",
         "50",
         "3",
         "7500",
         "14000"
        ],
        [
         "141",
         "46",
         "5",
         "33",
         "5",
         "2500",
         "8000"
        ],
        [
         "925",
         "54",
         "4",
         "56",
         "5",
         "13500",
         "20000"
        ],
        [
         "827",
         "27",
         "5",
         "36",
         "3",
         "9500",
         "4000"
        ],
        [
         "655",
         "54",
         "3",
         "40",
         "2",
         "21500",
         "16000"
        ],
        [
         "331",
         "33",
         "2",
         "44",
         "2",
         "11500",
         "20000"
        ],
        [
         "664",
         "33",
         "4",
         "41",
         "5",
         "3500",
         "4000"
        ],
        [
         "249",
         "19",
         "3",
         "50",
         "2",
         "13500",
         "8000"
        ],
        [
         "907",
         "54",
         "5",
         "52",
         "5",
         "1500",
         "18000"
        ],
        [
         "708",
         "22",
         "5",
         "28",
         "5",
         "15500",
         "20000"
        ],
        [
         "305",
         "60",
         "5",
         "42",
         "2",
         "7500",
         "4000"
        ],
        [
         "734",
         "28",
         "2",
         "43",
         "3",
         "1500",
         "20000"
        ],
        [
         "975",
         "34",
         "5",
         "59",
         "5",
         "21500",
         "18000"
        ],
        [
         "49",
         "36",
         "2",
         "12",
         "2",
         "3000",
         "22000"
        ],
        [
         "896",
         "48",
         "4",
         "43",
         "3",
         "19500",
         "14000"
        ],
        [
         "2",
         "27",
         "2",
         "30",
         "4",
         "15000",
         "2000"
        ],
        [
         "544",
         "60",
         "2",
         "44",
         "2",
         "13500",
         "20000"
        ],
        [
         "350",
         "46",
         "5",
         "46",
         "5",
         "5500",
         "10000"
        ],
        [
         "904",
         "60",
         "3",
         "39",
         "5",
         "21500",
         "22000"
        ],
        [
         "536",
         "41",
         "3",
         "50",
         "2",
         "11500",
         "16000"
        ],
        [
         "344",
         "49",
         "3",
         "13",
         "5",
         "15500",
         "16000"
        ],
        [
         "994",
         "43",
         "2",
         "11",
         "3",
         "3500",
         "28000"
        ],
        [
         "481",
         "32",
         "2",
         "31",
         "4",
         "9500",
         "26000"
        ],
        [
         "575",
         "55",
         "2",
         "49",
         "2",
         "13500",
         "12000"
        ],
        [
         "33",
         "19",
         "5",
         "37",
         "5",
         "10500",
         "16000"
        ],
        [
         "31",
         "60",
         "3",
         "50",
         "3",
         "9000",
         "2000"
        ],
        [
         "231",
         "32",
         "2",
         "13",
         "4",
         "11500",
         "18000"
        ],
        [
         "963",
         "52",
         "5",
         "47",
         "4",
         "11500",
         "14000"
        ],
        [
         "192",
         "33",
         "3",
         "50",
         "3",
         "3500",
         "26000"
        ],
        [
         "333",
         "26",
         "5",
         "13",
         "5",
         "1500",
         "2000"
        ],
        [
         "3",
         "13",
         "4",
         "58",
         "3",
         "25500",
         "26000"
        ],
        [
         "204",
         "48",
         "3",
         "20",
         "2",
         "13500",
         "20000"
        ],
        [
         "514",
         "56",
         "4",
         "58",
         "4",
         "19500",
         "28000"
        ],
        [
         "799",
         "17",
         "4",
         "53",
         "5",
         "23500",
         "26000"
        ],
        [
         "306",
         "50",
         "2",
         "38",
         "2",
         "13500",
         "24000"
        ],
        [
         "109",
         "57",
         "5",
         "53",
         "2",
         "9500",
         "8000"
        ],
        [
         "430",
         "53",
         "5",
         "55",
         "5",
         "1500",
         "4000"
        ],
        [
         "77",
         "10",
         "2",
         "21",
         "5",
         "18000",
         "18000"
        ],
        [
         "84",
         "17",
         "5",
         "16",
         "4",
         "6000",
         "8000"
        ],
        [
         "286",
         "55",
         "5",
         "23",
         "5",
         "1500",
         "16000"
        ]
       ],
       "shape": {
        "columns": 6,
        "rows": 800
       }
      },
      "text/html": [
       "<div>\n",
       "<style scoped>\n",
       "    .dataframe tbody tr th:only-of-type {\n",
       "        vertical-align: middle;\n",
       "    }\n",
       "\n",
       "    .dataframe tbody tr th {\n",
       "        vertical-align: top;\n",
       "    }\n",
       "\n",
       "    .dataframe thead th {\n",
       "        text-align: right;\n",
       "    }\n",
       "</style>\n",
       "<table border=\"1\" class=\"dataframe\">\n",
       "  <thead>\n",
       "    <tr style=\"text-align: right;\">\n",
       "      <th></th>\n",
       "      <th>GGrr (s)</th>\n",
       "      <th>yyrr (s)</th>\n",
       "      <th>rrGG (s)</th>\n",
       "      <th>rryy (s)</th>\n",
       "      <th>Autos r_0</th>\n",
       "      <th>Autos r_1</th>\n",
       "    </tr>\n",
       "  </thead>\n",
       "  <tbody>\n",
       "    <tr>\n",
       "      <th>29</th>\n",
       "      <td>54</td>\n",
       "      <td>2</td>\n",
       "      <td>49</td>\n",
       "      <td>2</td>\n",
       "      <td>15000</td>\n",
       "      <td>28000</td>\n",
       "    </tr>\n",
       "    <tr>\n",
       "      <th>535</th>\n",
       "      <td>32</td>\n",
       "      <td>4</td>\n",
       "      <td>10</td>\n",
       "      <td>2</td>\n",
       "      <td>3500</td>\n",
       "      <td>16000</td>\n",
       "    </tr>\n",
       "    <tr>\n",
       "      <th>695</th>\n",
       "      <td>40</td>\n",
       "      <td>2</td>\n",
       "      <td>54</td>\n",
       "      <td>2</td>\n",
       "      <td>3500</td>\n",
       "      <td>14000</td>\n",
       "    </tr>\n",
       "    <tr>\n",
       "      <th>557</th>\n",
       "      <td>17</td>\n",
       "      <td>5</td>\n",
       "      <td>60</td>\n",
       "      <td>5</td>\n",
       "      <td>7500</td>\n",
       "      <td>14000</td>\n",
       "    </tr>\n",
       "    <tr>\n",
       "      <th>836</th>\n",
       "      <td>35</td>\n",
       "      <td>3</td>\n",
       "      <td>46</td>\n",
       "      <td>3</td>\n",
       "      <td>3500</td>\n",
       "      <td>8000</td>\n",
       "    </tr>\n",
       "    <tr>\n",
       "      <th>...</th>\n",
       "      <td>...</td>\n",
       "      <td>...</td>\n",
       "      <td>...</td>\n",
       "      <td>...</td>\n",
       "      <td>...</td>\n",
       "      <td>...</td>\n",
       "    </tr>\n",
       "    <tr>\n",
       "      <th>106</th>\n",
       "      <td>10</td>\n",
       "      <td>5</td>\n",
       "      <td>25</td>\n",
       "      <td>4</td>\n",
       "      <td>4500</td>\n",
       "      <td>18000</td>\n",
       "    </tr>\n",
       "    <tr>\n",
       "      <th>270</th>\n",
       "      <td>59</td>\n",
       "      <td>3</td>\n",
       "      <td>57</td>\n",
       "      <td>4</td>\n",
       "      <td>17500</td>\n",
       "      <td>10000</td>\n",
       "    </tr>\n",
       "    <tr>\n",
       "      <th>860</th>\n",
       "      <td>58</td>\n",
       "      <td>3</td>\n",
       "      <td>28</td>\n",
       "      <td>5</td>\n",
       "      <td>1500</td>\n",
       "      <td>12000</td>\n",
       "    </tr>\n",
       "    <tr>\n",
       "      <th>435</th>\n",
       "      <td>51</td>\n",
       "      <td>5</td>\n",
       "      <td>43</td>\n",
       "      <td>4</td>\n",
       "      <td>15500</td>\n",
       "      <td>2000</td>\n",
       "    </tr>\n",
       "    <tr>\n",
       "      <th>102</th>\n",
       "      <td>21</td>\n",
       "      <td>3</td>\n",
       "      <td>27</td>\n",
       "      <td>3</td>\n",
       "      <td>11500</td>\n",
       "      <td>28000</td>\n",
       "    </tr>\n",
       "  </tbody>\n",
       "</table>\n",
       "<p>800 rows × 6 columns</p>\n",
       "</div>"
      ],
      "text/plain": [
       "     GGrr (s)  yyrr (s)  rrGG (s)  rryy (s)  Autos r_0  Autos r_1\n",
       "29         54         2        49         2      15000      28000\n",
       "535        32         4        10         2       3500      16000\n",
       "695        40         2        54         2       3500      14000\n",
       "557        17         5        60         5       7500      14000\n",
       "836        35         3        46         3       3500       8000\n",
       "..        ...       ...       ...       ...        ...        ...\n",
       "106        10         5        25         4       4500      18000\n",
       "270        59         3        57         4      17500      10000\n",
       "860        58         3        28         5       1500      12000\n",
       "435        51         5        43         4      15500       2000\n",
       "102        21         3        27         3      11500      28000\n",
       "\n",
       "[800 rows x 6 columns]"
      ]
     },
     "execution_count": 6,
     "metadata": {},
     "output_type": "execute_result"
    }
   ],
   "source": [
    "X_train"
   ]
  },
  {
   "cell_type": "code",
   "execution_count": 7,
   "id": "269ea904",
   "metadata": {},
   "outputs": [],
   "source": [
    "scaler = StandardScaler()\n",
    "scaler.fit(X_train) \n",
    "X_train_scaled = scaler.transform(X_train)\n",
    "X_test_scaled = scaler.transform(X_test)"
   ]
  },
  {
   "cell_type": "code",
   "execution_count": 8,
   "id": "8196a9bd",
   "metadata": {},
   "outputs": [],
   "source": [
    "modelo1 = make_pipeline( PolynomialFeatures(degree=1), LinearRegression())"
   ]
  },
  {
   "cell_type": "code",
   "execution_count": 9,
   "id": "c1e4d2a2",
   "metadata": {},
   "outputs": [
    {
     "data": {
      "text/html": [
       "<style>#sk-container-id-1 {\n",
       "  /* Definition of color scheme common for light and dark mode */\n",
       "  --sklearn-color-text: #000;\n",
       "  --sklearn-color-text-muted: #666;\n",
       "  --sklearn-color-line: gray;\n",
       "  /* Definition of color scheme for unfitted estimators */\n",
       "  --sklearn-color-unfitted-level-0: #fff5e6;\n",
       "  --sklearn-color-unfitted-level-1: #f6e4d2;\n",
       "  --sklearn-color-unfitted-level-2: #ffe0b3;\n",
       "  --sklearn-color-unfitted-level-3: chocolate;\n",
       "  /* Definition of color scheme for fitted estimators */\n",
       "  --sklearn-color-fitted-level-0: #f0f8ff;\n",
       "  --sklearn-color-fitted-level-1: #d4ebff;\n",
       "  --sklearn-color-fitted-level-2: #b3dbfd;\n",
       "  --sklearn-color-fitted-level-3: cornflowerblue;\n",
       "\n",
       "  /* Specific color for light theme */\n",
       "  --sklearn-color-text-on-default-background: var(--sg-text-color, var(--theme-code-foreground, var(--jp-content-font-color1, black)));\n",
       "  --sklearn-color-background: var(--sg-background-color, var(--theme-background, var(--jp-layout-color0, white)));\n",
       "  --sklearn-color-border-box: var(--sg-text-color, var(--theme-code-foreground, var(--jp-content-font-color1, black)));\n",
       "  --sklearn-color-icon: #696969;\n",
       "\n",
       "  @media (prefers-color-scheme: dark) {\n",
       "    /* Redefinition of color scheme for dark theme */\n",
       "    --sklearn-color-text-on-default-background: var(--sg-text-color, var(--theme-code-foreground, var(--jp-content-font-color1, white)));\n",
       "    --sklearn-color-background: var(--sg-background-color, var(--theme-background, var(--jp-layout-color0, #111)));\n",
       "    --sklearn-color-border-box: var(--sg-text-color, var(--theme-code-foreground, var(--jp-content-font-color1, white)));\n",
       "    --sklearn-color-icon: #878787;\n",
       "  }\n",
       "}\n",
       "\n",
       "#sk-container-id-1 {\n",
       "  color: var(--sklearn-color-text);\n",
       "}\n",
       "\n",
       "#sk-container-id-1 pre {\n",
       "  padding: 0;\n",
       "}\n",
       "\n",
       "#sk-container-id-1 input.sk-hidden--visually {\n",
       "  border: 0;\n",
       "  clip: rect(1px 1px 1px 1px);\n",
       "  clip: rect(1px, 1px, 1px, 1px);\n",
       "  height: 1px;\n",
       "  margin: -1px;\n",
       "  overflow: hidden;\n",
       "  padding: 0;\n",
       "  position: absolute;\n",
       "  width: 1px;\n",
       "}\n",
       "\n",
       "#sk-container-id-1 div.sk-dashed-wrapped {\n",
       "  border: 1px dashed var(--sklearn-color-line);\n",
       "  margin: 0 0.4em 0.5em 0.4em;\n",
       "  box-sizing: border-box;\n",
       "  padding-bottom: 0.4em;\n",
       "  background-color: var(--sklearn-color-background);\n",
       "}\n",
       "\n",
       "#sk-container-id-1 div.sk-container {\n",
       "  /* jupyter's `normalize.less` sets `[hidden] { display: none; }`\n",
       "     but bootstrap.min.css set `[hidden] { display: none !important; }`\n",
       "     so we also need the `!important` here to be able to override the\n",
       "     default hidden behavior on the sphinx rendered scikit-learn.org.\n",
       "     See: https://github.com/scikit-learn/scikit-learn/issues/21755 */\n",
       "  display: inline-block !important;\n",
       "  position: relative;\n",
       "}\n",
       "\n",
       "#sk-container-id-1 div.sk-text-repr-fallback {\n",
       "  display: none;\n",
       "}\n",
       "\n",
       "div.sk-parallel-item,\n",
       "div.sk-serial,\n",
       "div.sk-item {\n",
       "  /* draw centered vertical line to link estimators */\n",
       "  background-image: linear-gradient(var(--sklearn-color-text-on-default-background), var(--sklearn-color-text-on-default-background));\n",
       "  background-size: 2px 100%;\n",
       "  background-repeat: no-repeat;\n",
       "  background-position: center center;\n",
       "}\n",
       "\n",
       "/* Parallel-specific style estimator block */\n",
       "\n",
       "#sk-container-id-1 div.sk-parallel-item::after {\n",
       "  content: \"\";\n",
       "  width: 100%;\n",
       "  border-bottom: 2px solid var(--sklearn-color-text-on-default-background);\n",
       "  flex-grow: 1;\n",
       "}\n",
       "\n",
       "#sk-container-id-1 div.sk-parallel {\n",
       "  display: flex;\n",
       "  align-items: stretch;\n",
       "  justify-content: center;\n",
       "  background-color: var(--sklearn-color-background);\n",
       "  position: relative;\n",
       "}\n",
       "\n",
       "#sk-container-id-1 div.sk-parallel-item {\n",
       "  display: flex;\n",
       "  flex-direction: column;\n",
       "}\n",
       "\n",
       "#sk-container-id-1 div.sk-parallel-item:first-child::after {\n",
       "  align-self: flex-end;\n",
       "  width: 50%;\n",
       "}\n",
       "\n",
       "#sk-container-id-1 div.sk-parallel-item:last-child::after {\n",
       "  align-self: flex-start;\n",
       "  width: 50%;\n",
       "}\n",
       "\n",
       "#sk-container-id-1 div.sk-parallel-item:only-child::after {\n",
       "  width: 0;\n",
       "}\n",
       "\n",
       "/* Serial-specific style estimator block */\n",
       "\n",
       "#sk-container-id-1 div.sk-serial {\n",
       "  display: flex;\n",
       "  flex-direction: column;\n",
       "  align-items: center;\n",
       "  background-color: var(--sklearn-color-background);\n",
       "  padding-right: 1em;\n",
       "  padding-left: 1em;\n",
       "}\n",
       "\n",
       "\n",
       "/* Toggleable style: style used for estimator/Pipeline/ColumnTransformer box that is\n",
       "clickable and can be expanded/collapsed.\n",
       "- Pipeline and ColumnTransformer use this feature and define the default style\n",
       "- Estimators will overwrite some part of the style using the `sk-estimator` class\n",
       "*/\n",
       "\n",
       "/* Pipeline and ColumnTransformer style (default) */\n",
       "\n",
       "#sk-container-id-1 div.sk-toggleable {\n",
       "  /* Default theme specific background. It is overwritten whether we have a\n",
       "  specific estimator or a Pipeline/ColumnTransformer */\n",
       "  background-color: var(--sklearn-color-background);\n",
       "}\n",
       "\n",
       "/* Toggleable label */\n",
       "#sk-container-id-1 label.sk-toggleable__label {\n",
       "  cursor: pointer;\n",
       "  display: flex;\n",
       "  width: 100%;\n",
       "  margin-bottom: 0;\n",
       "  padding: 0.5em;\n",
       "  box-sizing: border-box;\n",
       "  text-align: center;\n",
       "  align-items: start;\n",
       "  justify-content: space-between;\n",
       "  gap: 0.5em;\n",
       "}\n",
       "\n",
       "#sk-container-id-1 label.sk-toggleable__label .caption {\n",
       "  font-size: 0.6rem;\n",
       "  font-weight: lighter;\n",
       "  color: var(--sklearn-color-text-muted);\n",
       "}\n",
       "\n",
       "#sk-container-id-1 label.sk-toggleable__label-arrow:before {\n",
       "  /* Arrow on the left of the label */\n",
       "  content: \"▸\";\n",
       "  float: left;\n",
       "  margin-right: 0.25em;\n",
       "  color: var(--sklearn-color-icon);\n",
       "}\n",
       "\n",
       "#sk-container-id-1 label.sk-toggleable__label-arrow:hover:before {\n",
       "  color: var(--sklearn-color-text);\n",
       "}\n",
       "\n",
       "/* Toggleable content - dropdown */\n",
       "\n",
       "#sk-container-id-1 div.sk-toggleable__content {\n",
       "  max-height: 0;\n",
       "  max-width: 0;\n",
       "  overflow: hidden;\n",
       "  text-align: left;\n",
       "  /* unfitted */\n",
       "  background-color: var(--sklearn-color-unfitted-level-0);\n",
       "}\n",
       "\n",
       "#sk-container-id-1 div.sk-toggleable__content.fitted {\n",
       "  /* fitted */\n",
       "  background-color: var(--sklearn-color-fitted-level-0);\n",
       "}\n",
       "\n",
       "#sk-container-id-1 div.sk-toggleable__content pre {\n",
       "  margin: 0.2em;\n",
       "  border-radius: 0.25em;\n",
       "  color: var(--sklearn-color-text);\n",
       "  /* unfitted */\n",
       "  background-color: var(--sklearn-color-unfitted-level-0);\n",
       "}\n",
       "\n",
       "#sk-container-id-1 div.sk-toggleable__content.fitted pre {\n",
       "  /* unfitted */\n",
       "  background-color: var(--sklearn-color-fitted-level-0);\n",
       "}\n",
       "\n",
       "#sk-container-id-1 input.sk-toggleable__control:checked~div.sk-toggleable__content {\n",
       "  /* Expand drop-down */\n",
       "  max-height: 200px;\n",
       "  max-width: 100%;\n",
       "  overflow: auto;\n",
       "}\n",
       "\n",
       "#sk-container-id-1 input.sk-toggleable__control:checked~label.sk-toggleable__label-arrow:before {\n",
       "  content: \"▾\";\n",
       "}\n",
       "\n",
       "/* Pipeline/ColumnTransformer-specific style */\n",
       "\n",
       "#sk-container-id-1 div.sk-label input.sk-toggleable__control:checked~label.sk-toggleable__label {\n",
       "  color: var(--sklearn-color-text);\n",
       "  background-color: var(--sklearn-color-unfitted-level-2);\n",
       "}\n",
       "\n",
       "#sk-container-id-1 div.sk-label.fitted input.sk-toggleable__control:checked~label.sk-toggleable__label {\n",
       "  background-color: var(--sklearn-color-fitted-level-2);\n",
       "}\n",
       "\n",
       "/* Estimator-specific style */\n",
       "\n",
       "/* Colorize estimator box */\n",
       "#sk-container-id-1 div.sk-estimator input.sk-toggleable__control:checked~label.sk-toggleable__label {\n",
       "  /* unfitted */\n",
       "  background-color: var(--sklearn-color-unfitted-level-2);\n",
       "}\n",
       "\n",
       "#sk-container-id-1 div.sk-estimator.fitted input.sk-toggleable__control:checked~label.sk-toggleable__label {\n",
       "  /* fitted */\n",
       "  background-color: var(--sklearn-color-fitted-level-2);\n",
       "}\n",
       "\n",
       "#sk-container-id-1 div.sk-label label.sk-toggleable__label,\n",
       "#sk-container-id-1 div.sk-label label {\n",
       "  /* The background is the default theme color */\n",
       "  color: var(--sklearn-color-text-on-default-background);\n",
       "}\n",
       "\n",
       "/* On hover, darken the color of the background */\n",
       "#sk-container-id-1 div.sk-label:hover label.sk-toggleable__label {\n",
       "  color: var(--sklearn-color-text);\n",
       "  background-color: var(--sklearn-color-unfitted-level-2);\n",
       "}\n",
       "\n",
       "/* Label box, darken color on hover, fitted */\n",
       "#sk-container-id-1 div.sk-label.fitted:hover label.sk-toggleable__label.fitted {\n",
       "  color: var(--sklearn-color-text);\n",
       "  background-color: var(--sklearn-color-fitted-level-2);\n",
       "}\n",
       "\n",
       "/* Estimator label */\n",
       "\n",
       "#sk-container-id-1 div.sk-label label {\n",
       "  font-family: monospace;\n",
       "  font-weight: bold;\n",
       "  display: inline-block;\n",
       "  line-height: 1.2em;\n",
       "}\n",
       "\n",
       "#sk-container-id-1 div.sk-label-container {\n",
       "  text-align: center;\n",
       "}\n",
       "\n",
       "/* Estimator-specific */\n",
       "#sk-container-id-1 div.sk-estimator {\n",
       "  font-family: monospace;\n",
       "  border: 1px dotted var(--sklearn-color-border-box);\n",
       "  border-radius: 0.25em;\n",
       "  box-sizing: border-box;\n",
       "  margin-bottom: 0.5em;\n",
       "  /* unfitted */\n",
       "  background-color: var(--sklearn-color-unfitted-level-0);\n",
       "}\n",
       "\n",
       "#sk-container-id-1 div.sk-estimator.fitted {\n",
       "  /* fitted */\n",
       "  background-color: var(--sklearn-color-fitted-level-0);\n",
       "}\n",
       "\n",
       "/* on hover */\n",
       "#sk-container-id-1 div.sk-estimator:hover {\n",
       "  /* unfitted */\n",
       "  background-color: var(--sklearn-color-unfitted-level-2);\n",
       "}\n",
       "\n",
       "#sk-container-id-1 div.sk-estimator.fitted:hover {\n",
       "  /* fitted */\n",
       "  background-color: var(--sklearn-color-fitted-level-2);\n",
       "}\n",
       "\n",
       "/* Specification for estimator info (e.g. \"i\" and \"?\") */\n",
       "\n",
       "/* Common style for \"i\" and \"?\" */\n",
       "\n",
       ".sk-estimator-doc-link,\n",
       "a:link.sk-estimator-doc-link,\n",
       "a:visited.sk-estimator-doc-link {\n",
       "  float: right;\n",
       "  font-size: smaller;\n",
       "  line-height: 1em;\n",
       "  font-family: monospace;\n",
       "  background-color: var(--sklearn-color-background);\n",
       "  border-radius: 1em;\n",
       "  height: 1em;\n",
       "  width: 1em;\n",
       "  text-decoration: none !important;\n",
       "  margin-left: 0.5em;\n",
       "  text-align: center;\n",
       "  /* unfitted */\n",
       "  border: var(--sklearn-color-unfitted-level-1) 1pt solid;\n",
       "  color: var(--sklearn-color-unfitted-level-1);\n",
       "}\n",
       "\n",
       ".sk-estimator-doc-link.fitted,\n",
       "a:link.sk-estimator-doc-link.fitted,\n",
       "a:visited.sk-estimator-doc-link.fitted {\n",
       "  /* fitted */\n",
       "  border: var(--sklearn-color-fitted-level-1) 1pt solid;\n",
       "  color: var(--sklearn-color-fitted-level-1);\n",
       "}\n",
       "\n",
       "/* On hover */\n",
       "div.sk-estimator:hover .sk-estimator-doc-link:hover,\n",
       ".sk-estimator-doc-link:hover,\n",
       "div.sk-label-container:hover .sk-estimator-doc-link:hover,\n",
       ".sk-estimator-doc-link:hover {\n",
       "  /* unfitted */\n",
       "  background-color: var(--sklearn-color-unfitted-level-3);\n",
       "  color: var(--sklearn-color-background);\n",
       "  text-decoration: none;\n",
       "}\n",
       "\n",
       "div.sk-estimator.fitted:hover .sk-estimator-doc-link.fitted:hover,\n",
       ".sk-estimator-doc-link.fitted:hover,\n",
       "div.sk-label-container:hover .sk-estimator-doc-link.fitted:hover,\n",
       ".sk-estimator-doc-link.fitted:hover {\n",
       "  /* fitted */\n",
       "  background-color: var(--sklearn-color-fitted-level-3);\n",
       "  color: var(--sklearn-color-background);\n",
       "  text-decoration: none;\n",
       "}\n",
       "\n",
       "/* Span, style for the box shown on hovering the info icon */\n",
       ".sk-estimator-doc-link span {\n",
       "  display: none;\n",
       "  z-index: 9999;\n",
       "  position: relative;\n",
       "  font-weight: normal;\n",
       "  right: .2ex;\n",
       "  padding: .5ex;\n",
       "  margin: .5ex;\n",
       "  width: min-content;\n",
       "  min-width: 20ex;\n",
       "  max-width: 50ex;\n",
       "  color: var(--sklearn-color-text);\n",
       "  box-shadow: 2pt 2pt 4pt #999;\n",
       "  /* unfitted */\n",
       "  background: var(--sklearn-color-unfitted-level-0);\n",
       "  border: .5pt solid var(--sklearn-color-unfitted-level-3);\n",
       "}\n",
       "\n",
       ".sk-estimator-doc-link.fitted span {\n",
       "  /* fitted */\n",
       "  background: var(--sklearn-color-fitted-level-0);\n",
       "  border: var(--sklearn-color-fitted-level-3);\n",
       "}\n",
       "\n",
       ".sk-estimator-doc-link:hover span {\n",
       "  display: block;\n",
       "}\n",
       "\n",
       "/* \"?\"-specific style due to the `<a>` HTML tag */\n",
       "\n",
       "#sk-container-id-1 a.estimator_doc_link {\n",
       "  float: right;\n",
       "  font-size: 1rem;\n",
       "  line-height: 1em;\n",
       "  font-family: monospace;\n",
       "  background-color: var(--sklearn-color-background);\n",
       "  border-radius: 1rem;\n",
       "  height: 1rem;\n",
       "  width: 1rem;\n",
       "  text-decoration: none;\n",
       "  /* unfitted */\n",
       "  color: var(--sklearn-color-unfitted-level-1);\n",
       "  border: var(--sklearn-color-unfitted-level-1) 1pt solid;\n",
       "}\n",
       "\n",
       "#sk-container-id-1 a.estimator_doc_link.fitted {\n",
       "  /* fitted */\n",
       "  border: var(--sklearn-color-fitted-level-1) 1pt solid;\n",
       "  color: var(--sklearn-color-fitted-level-1);\n",
       "}\n",
       "\n",
       "/* On hover */\n",
       "#sk-container-id-1 a.estimator_doc_link:hover {\n",
       "  /* unfitted */\n",
       "  background-color: var(--sklearn-color-unfitted-level-3);\n",
       "  color: var(--sklearn-color-background);\n",
       "  text-decoration: none;\n",
       "}\n",
       "\n",
       "#sk-container-id-1 a.estimator_doc_link.fitted:hover {\n",
       "  /* fitted */\n",
       "  background-color: var(--sklearn-color-fitted-level-3);\n",
       "}\n",
       "</style><div id=\"sk-container-id-1\" class=\"sk-top-container\"><div class=\"sk-text-repr-fallback\"><pre>Pipeline(steps=[(&#x27;polynomialfeatures&#x27;, PolynomialFeatures(degree=1)),\n",
       "                (&#x27;linearregression&#x27;, LinearRegression())])</pre><b>In a Jupyter environment, please rerun this cell to show the HTML representation or trust the notebook. <br />On GitHub, the HTML representation is unable to render, please try loading this page with nbviewer.org.</b></div><div class=\"sk-container\" hidden><div class=\"sk-item sk-dashed-wrapped\"><div class=\"sk-label-container\"><div class=\"sk-label fitted sk-toggleable\"><input class=\"sk-toggleable__control sk-hidden--visually\" id=\"sk-estimator-id-1\" type=\"checkbox\" ><label for=\"sk-estimator-id-1\" class=\"sk-toggleable__label fitted sk-toggleable__label-arrow\"><div><div>Pipeline</div></div><div><a class=\"sk-estimator-doc-link fitted\" rel=\"noreferrer\" target=\"_blank\" href=\"https://scikit-learn.org/1.6/modules/generated/sklearn.pipeline.Pipeline.html\">?<span>Documentation for Pipeline</span></a><span class=\"sk-estimator-doc-link fitted\">i<span>Fitted</span></span></div></label><div class=\"sk-toggleable__content fitted\"><pre>Pipeline(steps=[(&#x27;polynomialfeatures&#x27;, PolynomialFeatures(degree=1)),\n",
       "                (&#x27;linearregression&#x27;, LinearRegression())])</pre></div> </div></div><div class=\"sk-serial\"><div class=\"sk-item\"><div class=\"sk-estimator fitted sk-toggleable\"><input class=\"sk-toggleable__control sk-hidden--visually\" id=\"sk-estimator-id-2\" type=\"checkbox\" ><label for=\"sk-estimator-id-2\" class=\"sk-toggleable__label fitted sk-toggleable__label-arrow\"><div><div>PolynomialFeatures</div></div><div><a class=\"sk-estimator-doc-link fitted\" rel=\"noreferrer\" target=\"_blank\" href=\"https://scikit-learn.org/1.6/modules/generated/sklearn.preprocessing.PolynomialFeatures.html\">?<span>Documentation for PolynomialFeatures</span></a></div></label><div class=\"sk-toggleable__content fitted\"><pre>PolynomialFeatures(degree=1)</pre></div> </div></div><div class=\"sk-item\"><div class=\"sk-estimator fitted sk-toggleable\"><input class=\"sk-toggleable__control sk-hidden--visually\" id=\"sk-estimator-id-3\" type=\"checkbox\" ><label for=\"sk-estimator-id-3\" class=\"sk-toggleable__label fitted sk-toggleable__label-arrow\"><div><div>LinearRegression</div></div><div><a class=\"sk-estimator-doc-link fitted\" rel=\"noreferrer\" target=\"_blank\" href=\"https://scikit-learn.org/1.6/modules/generated/sklearn.linear_model.LinearRegression.html\">?<span>Documentation for LinearRegression</span></a></div></label><div class=\"sk-toggleable__content fitted\"><pre>LinearRegression()</pre></div> </div></div></div></div></div></div>"
      ],
      "text/plain": [
       "Pipeline(steps=[('polynomialfeatures', PolynomialFeatures(degree=1)),\n",
       "                ('linearregression', LinearRegression())])"
      ]
     },
     "execution_count": 9,
     "metadata": {},
     "output_type": "execute_result"
    }
   ],
   "source": [
    "modelo1.fit(X_train, y_train)"
   ]
  },
  {
   "cell_type": "code",
   "execution_count": 10,
   "id": "93405296",
   "metadata": {},
   "outputs": [],
   "source": [
    "y_pred= modelo1.predict(X_test)"
   ]
  },
  {
   "cell_type": "code",
   "execution_count": 11,
   "id": "c62c7e74",
   "metadata": {},
   "outputs": [
    {
     "name": "stdout",
     "output_type": "stream",
     "text": [
      "Error cuadrático medio: 225.88111688665765\n",
      "R^2 = 0.023028979356689572\n"
     ]
    }
   ],
   "source": [
    "from sklearn.metrics import mean_squared_error, r2_score\n",
    "\n",
    "mse = mean_squared_error(y_test, y_pred)\n",
    "r2 = r2_score(y_test, y_pred)\n",
    "print(f\"Error cuadrático medio: {mse}\")\n",
    "print(f\"R^2 = {r2}\")"
   ]
  },
  {
   "cell_type": "code",
   "execution_count": 12,
   "id": "2ddaf2de-7bd1-468e-a115-fc75deec488b",
   "metadata": {},
   "outputs": [
    {
     "name": "stdout",
     "output_type": "stream",
     "text": [
      "Error cuadrático medio: 67.04123537701591\n",
      "R^2 = 0.7100362126138378\n"
     ]
    }
   ],
   "source": [
    "modelo2 = make_pipeline( PolynomialFeatures(degree=2), LinearRegression())\n",
    "modelo2.fit(X_train, y_train)\n",
    "y_pred2= modelo2.predict(X_test)\n",
    "from sklearn.metrics import mean_squared_error, r2_score\n",
    "\n",
    "mse = mean_squared_error(y_test, y_pred2)\n",
    "r2 = r2_score(y_test, y_pred2)\n",
    "print(f\"Error cuadrático medio: {mse}\")\n",
    "print(f\"R^2 = {r2}\")"
   ]
  },
  {
   "cell_type": "code",
   "execution_count": 13,
   "id": "7817fb07-e5f6-4723-8bee-f40c5be84536",
   "metadata": {},
   "outputs": [
    {
     "name": "stdout",
     "output_type": "stream",
     "text": [
      "Error cuadrático medio: 39.50582539422286\n",
      "R^2 = 0.8291311505418268\n"
     ]
    }
   ],
   "source": [
    "modelo3 = make_pipeline( PolynomialFeatures(degree=3), LinearRegression())\n",
    "modelo3.fit(X_train, y_train)\n",
    "y_pred3= modelo3.predict(X_test)\n",
    "\n",
    "\n",
    "mse = mean_squared_error(y_test, y_pred3)\n",
    "r2 = r2_score(y_test, y_pred3)\n",
    "print(f\"Error cuadrático medio: {mse}\")\n",
    "print(f\"R^2 = {r2}\")"
   ]
  },
  {
   "cell_type": "code",
   "execution_count": 93,
   "id": "4b366fa1",
   "metadata": {},
   "outputs": [
    {
     "data": {
      "application/vnd.microsoft.datawrangler.viewer.v0+json": {
       "columns": [
        {
         "name": "index",
         "rawType": "int64",
         "type": "integer"
        },
        {
         "name": "GGrr (s)",
         "rawType": "int64",
         "type": "integer"
        },
        {
         "name": "yyrr (s)",
         "rawType": "int64",
         "type": "integer"
        },
        {
         "name": "rrGG (s)",
         "rawType": "int64",
         "type": "integer"
        },
        {
         "name": "rryy (s)",
         "rawType": "int64",
         "type": "integer"
        },
        {
         "name": "Autos r_0",
         "rawType": "int64",
         "type": "integer"
        },
        {
         "name": "Autos r_1",
         "rawType": "int64",
         "type": "integer"
        }
       ],
       "ref": "a4476a75-62e2-4a81-b77f-a070aa6d2209",
       "rows": [
        [
         "521",
         "22",
         "5",
         "47",
         "5",
         "9500",
         "12000"
        ]
       ],
       "shape": {
        "columns": 6,
        "rows": 1
       }
      },
      "text/html": [
       "<div>\n",
       "<style scoped>\n",
       "    .dataframe tbody tr th:only-of-type {\n",
       "        vertical-align: middle;\n",
       "    }\n",
       "\n",
       "    .dataframe tbody tr th {\n",
       "        vertical-align: top;\n",
       "    }\n",
       "\n",
       "    .dataframe thead th {\n",
       "        text-align: right;\n",
       "    }\n",
       "</style>\n",
       "<table border=\"1\" class=\"dataframe\">\n",
       "  <thead>\n",
       "    <tr style=\"text-align: right;\">\n",
       "      <th></th>\n",
       "      <th>GGrr (s)</th>\n",
       "      <th>yyrr (s)</th>\n",
       "      <th>rrGG (s)</th>\n",
       "      <th>rryy (s)</th>\n",
       "      <th>Autos r_0</th>\n",
       "      <th>Autos r_1</th>\n",
       "    </tr>\n",
       "  </thead>\n",
       "  <tbody>\n",
       "    <tr>\n",
       "      <th>521</th>\n",
       "      <td>22</td>\n",
       "      <td>5</td>\n",
       "      <td>47</td>\n",
       "      <td>5</td>\n",
       "      <td>9500</td>\n",
       "      <td>12000</td>\n",
       "    </tr>\n",
       "  </tbody>\n",
       "</table>\n",
       "</div>"
      ],
      "text/plain": [
       "     GGrr (s)  yyrr (s)  rrGG (s)  rryy (s)  Autos r_0  Autos r_1\n",
       "521        22         5        47         5       9500      12000"
      ]
     },
     "execution_count": 93,
     "metadata": {},
     "output_type": "execute_result"
    }
   ],
   "source": [
    "X_test[:1]"
   ]
  },
  {
   "cell_type": "code",
   "execution_count": 69,
   "id": "a2272b3e",
   "metadata": {},
   "outputs": [
    {
     "data": {
      "text/plain": [
       "array([58.99380588, 68.82973357, 57.16854498, 67.05947438, 69.10196113,\n",
       "       51.15827186, 50.84640713, 54.903072  , 46.80017633, 60.88663911,\n",
       "       40.95712868, 56.45233909, 45.98921493, 42.85854198, 46.09270379,\n",
       "       65.13709111, 65.77555151, 72.9671646 , 43.89842241, 70.79075048,\n",
       "       49.38729328, 45.76183468, 49.29564605, 53.84652085, 43.64478129,\n",
       "       53.86015108, 66.05931856, 64.99898356, 49.44047814, 67.33285858,\n",
       "       53.79931031, 87.63664787, 70.51253342, 56.65779355, 50.72303059,\n",
       "       79.86677103, 47.74771914, 90.80492568, 55.36842361, 74.85080223,\n",
       "       44.30135956, 49.60758081, 51.37982334, 46.32814246, 46.84168248,\n",
       "       69.94449086, 58.32491951, 73.18195876, 44.01040564, 92.61097704,\n",
       "       55.87109313, 50.14578402, 93.96598346, 49.64146369, 50.3055498 ,\n",
       "       44.63600282, 67.63621777, 61.62605467, 50.30058496, 49.98266758,\n",
       "       45.1848984 , 61.66890768, 46.25491996, 67.29005927, 54.30135072,\n",
       "       51.11967251, 60.0991673 , 52.28217171, 49.81843664, 43.9751163 ,\n",
       "       53.9196836 , 50.67386602, 56.26999846, 48.67526477, 48.45350374,\n",
       "       69.96159897, 99.30049268, 47.34532291, 71.84917396, 92.95897162,\n",
       "       57.44592869, 45.86784936, 62.50209308, 48.76837281, 75.65295183,\n",
       "       44.01851565, 53.00162959, 46.68666938, 57.8997961 , 48.83523706,\n",
       "       47.51990755, 53.84046665, 75.18456425, 77.07916207, 51.10636864,\n",
       "       51.84372567, 57.42482852, 47.64154785, 80.89346014, 98.16282866,\n",
       "       53.36453541, 62.63214726, 52.68991144, 54.78742248, 45.84470801,\n",
       "       44.61499327, 43.98112199, 53.32182864, 94.09178953, 43.94772521,\n",
       "       44.82143674, 92.4731577 , 53.5016755 , 82.5580473 , 43.18128177,\n",
       "       54.58291358, 65.08641299, 55.06487577, 70.29751352, 66.32335096,\n",
       "       90.19988518, 59.1349097 , 50.50044101, 73.26057997, 90.92247096,\n",
       "       43.8369545 , 58.41921017, 67.72925214, 63.62674467, 67.73774096,\n",
       "       91.70181301, 84.83984439, 56.187066  , 62.0806716 , 58.14825279,\n",
       "       57.82896308, 49.33416194, 57.22564523, 50.4044122 , 50.06767132,\n",
       "       55.11743249, 47.4098044 , 66.6309831 , 45.90244863, 81.60117893,\n",
       "       50.89937449, 98.85394768, 81.58259812, 56.03100024, 51.8748183 ,\n",
       "       53.53909302, 44.34620013, 46.00171825, 60.1499101 , 52.63842668,\n",
       "       53.43078808, 45.62560296, 53.55546917, 48.51314439, 49.62346016,\n",
       "       53.36180005, 80.33818343, 44.31269268, 54.0471083 , 65.59621623,\n",
       "       61.23820396, 55.49969474, 47.16868308, 84.90340309, 55.33510964,\n",
       "       76.6861726 , 74.35189487, 48.71094937, 49.29824497, 50.39172644,\n",
       "       98.04845446, 51.70997711, 47.03623232, 82.85996079, 43.9962474 ,\n",
       "       58.94902141, 97.82469872, 63.49139403, 63.96244912, 58.23917769,\n",
       "       73.80595914, 48.06162773, 46.87622749, 59.07599437, 49.01625399,\n",
       "       44.5655992 , 44.57307146, 49.63617505, 49.85621374, 46.05883544,\n",
       "       45.05920752, 46.98206958, 68.81091138, 83.41681576, 47.68701687])"
      ]
     },
     "execution_count": 69,
     "metadata": {},
     "output_type": "execute_result"
    }
   ],
   "source": [
    "y_pred3"
   ]
  },
  {
   "cell_type": "code",
   "execution_count": 14,
   "id": "aea35e7b",
   "metadata": {},
   "outputs": [
    {
     "name": "stdout",
     "output_type": "stream",
     "text": [
      "Error cuadrático medio: 49.113058191115186\n",
      "R^2 = 0.7875783719806713\n"
     ]
    }
   ],
   "source": [
    "modelo4 = make_pipeline( PolynomialFeatures(degree=4), LinearRegression())\n",
    "modelo4.fit(X_train, y_train)\n",
    "y_pred4= modelo4.predict(X_test)\n",
    "\n",
    "\n",
    "mse = mean_squared_error(y_test, y_pred4)\n",
    "r2 = r2_score(y_test, y_pred4)\n",
    "print(f\"Error cuadrático medio: {mse}\")\n",
    "print(f\"R^2 = {r2}\")"
   ]
  },
  {
   "cell_type": "code",
   "execution_count": 15,
   "id": "853a473d-9311-4267-9daf-9782582f291c",
   "metadata": {},
   "outputs": [
    {
     "name": "stdout",
     "output_type": "stream",
     "text": [
      "Error cuadrático medio: 39.131896777291125\n",
      "R^2 = 0.8220114356424766\n"
     ]
    }
   ],
   "source": [
    "modelo4 = make_pipeline( PolynomialFeatures(degree=4), LinearRegression())\n",
    "modelo4.fit(X_train, y_train)\n",
    "y_pred4b= modelo4.predict(X_train)\n",
    "\n",
    "\n",
    "mse = mean_squared_error(y_train, y_pred4b)\n",
    "r2 = r2_score(y_train, y_pred4b)\n",
    "print(f\"Error cuadrático medio: {mse}\")\n",
    "print(f\"R^2 = {r2}\")"
   ]
  },
  {
   "cell_type": "code",
   "execution_count": 16,
   "id": "f3519545-4f11-48b6-a754-f13a8c2a9c22",
   "metadata": {},
   "outputs": [
    {
     "name": "stdout",
     "output_type": "stream",
     "text": [
      "Error cuadrático medio: 34.04077070462721\n",
      "R^2 = 0.8451680494348973\n"
     ]
    }
   ],
   "source": [
    "y_pred3b= modelo3.predict(X_train)\n",
    "\n",
    "\n",
    "mse = mean_squared_error(y_train, y_pred3b)\n",
    "r2 = r2_score(y_train, y_pred3b)\n",
    "print(f\"Error cuadrático medio: {mse}\")\n",
    "print(f\"R^2 = {r2}\")"
   ]
  },
  {
   "cell_type": "code",
   "execution_count": 17,
   "id": "0229ebae-c5dd-4a85-9000-ff0959d5e12d",
   "metadata": {},
   "outputs": [
    {
     "name": "stdout",
     "output_type": "stream",
     "text": [
      "1: 0.0\n",
      "GGrr (s): -0.0910411227979311\n",
      "yyrr (s): 0.8153865553952901\n",
      "rrGG (s): -0.34745829821886554\n",
      "rryy (s): 1.011248313975718\n",
      "Autos r_0: -3.118191127514244e-05\n",
      "Autos r_1: 3.74218187110798e-05\n"
     ]
    }
   ],
   "source": [
    "# Obtener los nombres de las características transformadas\n",
    "modelo_p1 = modelo1.named_steps['linearregression']\n",
    "transformador = modelo1.named_steps['polynomialfeatures']\n",
    "nombres_variables = transformador.get_feature_names_out(input_features=X_train.columns)\n",
    "\n",
    "# Asociar coeficientes a los nombres de las variables\n",
    "for nombre, coef in zip(nombres_variables, modelo_p1.coef_):\n",
    "    print(f\"{nombre}: {coef}\")"
   ]
  },
  {
   "cell_type": "code",
   "execution_count": 18,
   "id": "9c0b3573-848a-47ff-bdf2-02af1a8c5307",
   "metadata": {},
   "outputs": [
    {
     "name": "stdout",
     "output_type": "stream",
     "text": [
      "1: 2.353724977796336e-08\n",
      "GGrr (s): -0.7316757468281192\n",
      "yyrr (s): 7.625696509746962\n",
      "rrGG (s): -0.8238065968474048\n",
      "rryy (s): 3.1578461786545757\n",
      "Autos r_0: 9.76703267092507e-05\n",
      "Autos r_1: 0.0002732586681514916\n",
      "GGrr (s)^2: 0.03047033841117656\n",
      "GGrr (s) yyrr (s): -0.010683439965149914\n",
      "GGrr (s) rrGG (s): -0.038711261905141195\n",
      "GGrr (s) rryy (s): -0.008784410215157879\n",
      "GGrr (s) Autos r_0: -2.0393911168676263e-06\n",
      "GGrr (s) Autos r_1: 1.3596441233510508e-07\n",
      "yyrr (s)^2: -0.4042938002395106\n",
      "yyrr (s) rrGG (s): -0.04684851417383641\n",
      "yyrr (s) rryy (s): -0.33073191829882326\n",
      "yyrr (s) Autos r_0: 9.697031994942408e-07\n",
      "yyrr (s) Autos r_1: -2.9058956329716625e-05\n",
      "rrGG (s)^2: 0.029560360672308383\n",
      "rrGG (s) rryy (s): -0.025227724249159866\n",
      "rrGG (s) Autos r_0: -1.2677579397787116e-06\n",
      "rrGG (s) Autos r_1: -3.1087436444588485e-07\n",
      "rryy (s)^2: 0.10414468638729707\n",
      "rryy (s) Autos r_0: -2.2964579423440077e-06\n",
      "rryy (s) Autos r_1: -2.052531914273084e-05\n",
      "Autos r_0^2: 5.017207027620164e-10\n",
      "Autos r_0 Autos r_1: 1.830980037038307e-09\n",
      "Autos r_1^2: -2.9349913506253726e-09\n"
     ]
    }
   ],
   "source": [
    "# Obtener los nombres de las características transformadas\n",
    "modelo_p2 = modelo2.named_steps['linearregression']\n",
    "transformador = modelo2.named_steps['polynomialfeatures']\n",
    "nombres_variables = transformador.get_feature_names_out(input_features=X_train.columns)\n",
    "\n",
    "# Asociar coeficientes a los nombres de las variables\n",
    "for nombre, coef in zip(nombres_variables, modelo_p2.coef_):\n",
    "    print(f\"{nombre}: {coef}\")\n"
   ]
  },
  {
   "cell_type": "code",
   "execution_count": 19,
   "id": "4effb696-f91c-4434-8507-342dfa547082",
   "metadata": {},
   "outputs": [
    {
     "name": "stdout",
     "output_type": "stream",
     "text": [
      "1: 3.0982786977334566e-06\n",
      "GGrr (s): 0.0029476580559175025\n",
      "yyrr (s): 0.00037836995307879463\n",
      "rrGG (s): -0.015869017309823204\n",
      "rryy (s): 0.002068617774655138\n",
      "Autos r_0: -0.0010945047629790888\n",
      "Autos r_1: 0.0005905400079000039\n",
      "GGrr (s)^2: 0.08455174881809688\n",
      "GGrr (s) yyrr (s): -0.050669352894662914\n",
      "GGrr (s) rrGG (s): -0.15325582552343284\n",
      "GGrr (s) rryy (s): 0.06137719917407413\n",
      "GGrr (s) Autos r_0: -2.4755754804305836e-05\n",
      "GGrr (s) Autos r_1: -1.2885250257825357e-05\n",
      "yyrr (s)^2: 0.012452529951519707\n",
      "yyrr (s) rrGG (s): -0.06070685759317243\n",
      "yyrr (s) rryy (s): 0.0072904965246612646\n",
      "yyrr (s) Autos r_0: 0.0007952020755282537\n",
      "yyrr (s) Autos r_1: -7.523441925534147e-05\n",
      "rrGG (s)^2: 0.0713430892277824\n",
      "rrGG (s) rryy (s): -0.07293088605065869\n",
      "rrGG (s) Autos r_0: -6.159506407528944e-06\n",
      "rrGG (s) Autos r_1: -2.4329570114965532e-05\n",
      "rryy (s)^2: 0.015713658581326735\n",
      "rryy (s) Autos r_0: -6.074962508493563e-05\n",
      "rryy (s) Autos r_1: 0.00022758809676376505\n",
      "Autos r_0^2: 3.7544236468399496e-08\n",
      "Autos r_0 Autos r_1: 9.950285195024976e-09\n",
      "Autos r_1^2: -1.0292226668121056e-08\n",
      "GGrr (s)^3: -0.0010100531870743945\n",
      "GGrr (s)^2 yyrr (s): 0.001355830042078237\n",
      "GGrr (s)^2 rrGG (s): 0.0012027947213225478\n",
      "GGrr (s)^2 rryy (s): 0.0003671181491483479\n",
      "GGrr (s)^2 Autos r_0: 1.8638492145056506e-07\n",
      "GGrr (s)^2 Autos r_1: 6.542292924072157e-08\n",
      "GGrr (s) yyrr (s)^2: -0.011258277022665302\n",
      "GGrr (s) yyrr (s) rrGG (s): 0.001459462283847512\n",
      "GGrr (s) yyrr (s) rryy (s): -0.022716595355600788\n",
      "GGrr (s) yyrr (s) Autos r_0: 1.679019060431275e-06\n",
      "GGrr (s) yyrr (s) Autos r_1: 1.5871274143758676e-06\n",
      "GGrr (s) rrGG (s)^2: 0.0001835966886403498\n",
      "GGrr (s) rrGG (s) rryy (s): 0.0019258780397735508\n",
      "GGrr (s) rrGG (s) Autos r_0: 2.1987779753526726e-07\n",
      "GGrr (s) rrGG (s) Autos r_1: 1.6042310715252972e-07\n",
      "GGrr (s) rryy (s)^2: -0.0111543610093969\n",
      "GGrr (s) rryy (s) Autos r_0: 1.973708170163735e-08\n",
      "GGrr (s) rryy (s) Autos r_1: -9.738545226432166e-07\n",
      "GGrr (s) Autos r_0^2: -1.203720456643964e-10\n",
      "GGrr (s) Autos r_0 Autos r_1: -7.777622990090549e-11\n",
      "GGrr (s) Autos r_1^2: 5.6923261243513323e-11\n",
      "yyrr (s)^3: 0.12243196853564693\n",
      "yyrr (s)^2 rrGG (s): -0.008682093075171659\n",
      "yyrr (s)^2 rryy (s): 0.058550762541996225\n",
      "yyrr (s)^2 Autos r_0: -9.038809328780657e-05\n",
      "yyrr (s)^2 Autos r_1: 3.0728700689194866e-06\n",
      "yyrr (s) rrGG (s)^2: 0.0003540955836697644\n",
      "yyrr (s) rrGG (s) rryy (s): 0.011774007465213326\n",
      "yyrr (s) rrGG (s) Autos r_0: -4.6731461992178397e-07\n",
      "yyrr (s) rrGG (s) Autos r_1: -1.270774207959291e-06\n",
      "yyrr (s) rryy (s)^2: 0.044458106384945885\n",
      "yyrr (s) rryy (s) Autos r_0: -2.5077414008338114e-05\n",
      "yyrr (s) rryy (s) Autos r_1: -3.6172444991336428e-06\n",
      "yyrr (s) Autos r_0^2: -3.6384228511987526e-09\n",
      "yyrr (s) Autos r_0 Autos r_1: -2.867396777157284e-09\n",
      "yyrr (s) Autos r_1^2: 2.8437322080465677e-09\n",
      "rrGG (s)^3: -0.00047588935680673364\n",
      "rrGG (s)^2 rryy (s): 3.201255593889474e-05\n",
      "rrGG (s)^2 Autos r_0: -5.475180829550563e-08\n",
      "rrGG (s)^2 Autos r_1: 9.058349231816365e-08\n",
      "rrGG (s) rryy (s)^2: -0.01365105048969619\n",
      "rrGG (s) rryy (s) Autos r_0: 1.70523644428891e-07\n",
      "rrGG (s) rryy (s) Autos r_1: 1.7878730541927984e-06\n",
      "rrGG (s) Autos r_0^2: -3.846929025330681e-11\n",
      "rrGG (s) Autos r_0 Autos r_1: 6.771697091956241e-11\n",
      "rrGG (s) Autos r_1^2: 2.6527786824853683e-10\n",
      "rryy (s)^3: 0.0948074340206264\n",
      "rryy (s)^2 Autos r_0: 8.398349551970441e-06\n",
      "rryy (s)^2 Autos r_1: -1.679447118714192e-05\n",
      "rryy (s) Autos r_0^2: 2.1353574602978043e-09\n",
      "rryy (s) Autos r_0 Autos r_1: 1.445606759298279e-09\n",
      "rryy (s) Autos r_1^2: -4.776927034488843e-09\n",
      "Autos r_0^3: -3.583088686864855e-13\n",
      "Autos r_0^2 Autos r_1: -6.601060843769435e-13\n",
      "Autos r_0 Autos r_1^2: 4.3204329003287967e-13\n",
      "Autos r_1^3: -8.160312703342498e-14\n"
     ]
    }
   ],
   "source": [
    "# Obtener los nombres de las características transformadas\n",
    "modelo_p3 = modelo3.named_steps['linearregression']\n",
    "transformador = modelo3.named_steps['polynomialfeatures']\n",
    "nombres_variables = transformador.get_feature_names_out(input_features=X_train.columns)\n",
    "\n",
    "# Asociar coeficientes a los nombres de las variables\n",
    "for nombre, coef in zip(nombres_variables, modelo_p3.coef_):\n",
    "    print(f\"{nombre}: {coef}\")"
   ]
  },
  {
   "cell_type": "code",
   "execution_count": 25,
   "id": "718abe13",
   "metadata": {},
   "outputs": [
    {
     "data": {
      "text/plain": [
       "array(['1', 'GGrr (s)', 'yyrr (s)', 'rrGG (s)', 'rryy (s)', 'Autos r_0',\n",
       "       'Autos r_1', 'GGrr (s)^2', 'GGrr (s) yyrr (s)',\n",
       "       'GGrr (s) rrGG (s)', 'GGrr (s) rryy (s)', 'GGrr (s) Autos r_0',\n",
       "       'GGrr (s) Autos r_1', 'yyrr (s)^2', 'yyrr (s) rrGG (s)',\n",
       "       'yyrr (s) rryy (s)', 'yyrr (s) Autos r_0', 'yyrr (s) Autos r_1',\n",
       "       'rrGG (s)^2', 'rrGG (s) rryy (s)', 'rrGG (s) Autos r_0',\n",
       "       'rrGG (s) Autos r_1', 'rryy (s)^2', 'rryy (s) Autos r_0',\n",
       "       'rryy (s) Autos r_1', 'Autos r_0^2', 'Autos r_0 Autos r_1',\n",
       "       'Autos r_1^2', 'GGrr (s)^3', 'GGrr (s)^2 yyrr (s)',\n",
       "       'GGrr (s)^2 rrGG (s)', 'GGrr (s)^2 rryy (s)',\n",
       "       'GGrr (s)^2 Autos r_0', 'GGrr (s)^2 Autos r_1',\n",
       "       'GGrr (s) yyrr (s)^2', 'GGrr (s) yyrr (s) rrGG (s)',\n",
       "       'GGrr (s) yyrr (s) rryy (s)', 'GGrr (s) yyrr (s) Autos r_0',\n",
       "       'GGrr (s) yyrr (s) Autos r_1', 'GGrr (s) rrGG (s)^2',\n",
       "       'GGrr (s) rrGG (s) rryy (s)', 'GGrr (s) rrGG (s) Autos r_0',\n",
       "       'GGrr (s) rrGG (s) Autos r_1', 'GGrr (s) rryy (s)^2',\n",
       "       'GGrr (s) rryy (s) Autos r_0', 'GGrr (s) rryy (s) Autos r_1',\n",
       "       'GGrr (s) Autos r_0^2', 'GGrr (s) Autos r_0 Autos r_1',\n",
       "       'GGrr (s) Autos r_1^2', 'yyrr (s)^3', 'yyrr (s)^2 rrGG (s)',\n",
       "       'yyrr (s)^2 rryy (s)', 'yyrr (s)^2 Autos r_0',\n",
       "       'yyrr (s)^2 Autos r_1', 'yyrr (s) rrGG (s)^2',\n",
       "       'yyrr (s) rrGG (s) rryy (s)', 'yyrr (s) rrGG (s) Autos r_0',\n",
       "       'yyrr (s) rrGG (s) Autos r_1', 'yyrr (s) rryy (s)^2',\n",
       "       'yyrr (s) rryy (s) Autos r_0', 'yyrr (s) rryy (s) Autos r_1',\n",
       "       'yyrr (s) Autos r_0^2', 'yyrr (s) Autos r_0 Autos r_1',\n",
       "       'yyrr (s) Autos r_1^2', 'rrGG (s)^3', 'rrGG (s)^2 rryy (s)',\n",
       "       'rrGG (s)^2 Autos r_0', 'rrGG (s)^2 Autos r_1',\n",
       "       'rrGG (s) rryy (s)^2', 'rrGG (s) rryy (s) Autos r_0',\n",
       "       'rrGG (s) rryy (s) Autos r_1', 'rrGG (s) Autos r_0^2',\n",
       "       'rrGG (s) Autos r_0 Autos r_1', 'rrGG (s) Autos r_1^2',\n",
       "       'rryy (s)^3', 'rryy (s)^2 Autos r_0', 'rryy (s)^2 Autos r_1',\n",
       "       'rryy (s) Autos r_0^2', 'rryy (s) Autos r_0 Autos r_1',\n",
       "       'rryy (s) Autos r_1^2', 'Autos r_0^3', 'Autos r_0^2 Autos r_1',\n",
       "       'Autos r_0 Autos r_1^2', 'Autos r_1^3'], dtype=object)"
      ]
     },
     "execution_count": 25,
     "metadata": {},
     "output_type": "execute_result"
    }
   ],
   "source": [
    "nombres_variables"
   ]
  },
  {
   "cell_type": "code",
   "execution_count": 23,
   "id": "6ac141cc",
   "metadata": {},
   "outputs": [],
   "source": [
    "coeficientes = modelo_p3.coef_"
   ]
  },
  {
   "cell_type": "code",
   "execution_count": 22,
   "id": "c50f8ff9",
   "metadata": {},
   "outputs": [],
   "source": [
    "ordenada=modelo_p3.intercept_"
   ]
  },
  {
   "cell_type": "code",
   "execution_count": 27,
   "id": "2d4332bc",
   "metadata": {},
   "outputs": [
    {
     "data": {
      "text/plain": [
       "84"
      ]
     },
     "execution_count": 27,
     "metadata": {},
     "output_type": "execute_result"
    }
   ],
   "source": [
    "len(nombres_variables)"
   ]
  },
  {
   "cell_type": "code",
   "execution_count": 114,
   "id": "75cf6d00",
   "metadata": {},
   "outputs": [],
   "source": [
    "import numpy as np\n",
    "from scipy.optimize import minimize\n",
    "\n",
    "\n",
    "\n",
    "def modelo_predict(vars_to_optimize, r0, r1):\n",
    "    GGrr, yyrr, rrGG, rryy = vars_to_optimize\n",
    "    df_input = pd.DataFrame([{\n",
    "        'GGrr (s)': GGrr,\n",
    "        'yyrr (s)': yyrr,\n",
    "        'rrGG (s)': rrGG,\n",
    "        'rryy (s)': rryy,\n",
    "        'Autos r_0': r0,\n",
    "        'Autos r_1': r1\n",
    "    }])\n",
    "    return modelo3.predict(df_input)[0]\n",
    "\n",
    "# Esta función hace la optimización\n",
    "def minimizar_modelo(r0, r1):\n",
    "    def objective(x):  # x contiene GGrr, yyrr, rrGG, rryy\n",
    "        return modelo_predict(x, r0, r1)\n",
    "\n",
    "    x0 = np.array([35, 3.5, 35, 3.5])  # valores iniciales arbitrarios\n",
    "    bounds = [(10, 60), (2, 5), (10, 60), (2, 5)]  \n",
    "\n",
    "    result = minimize(objective, x0, bounds=bounds)\n",
    "\n",
    "    if result.success:\n",
    "        #GGrr, yyrr, rrGG, rryy = result.x\n",
    "        #print(f\"Valores óptimos para r0 = {r0}, r1 = {r1}:\")\n",
    "        #print(f\"GGrr  = {GGrr}\")\n",
    "        #print(f\"yyrr  = {yyrr}\")\n",
    "        #print(f\"rrGG  = {rrGG}\")\n",
    "        #print(f\"rryy  = {rryy}\")\n",
    "        #print(f\"Valor mínimo del modelo: {result.fun}\")\n",
    "        return result.x, result.fun\n",
    "    else:\n",
    "        raise RuntimeError(\"Optimización fallida:\", result.message)\n"
   ]
  },
  {
   "cell_type": "code",
   "execution_count": 115,
   "id": "50c81610",
   "metadata": {},
   "outputs": [
    {
     "data": {
      "text/plain": [
       "np.float64(41.28885210770856)"
      ]
     },
     "execution_count": 115,
     "metadata": {},
     "output_type": "execute_result"
    }
   ],
   "source": [
    "minimizar_modelo(9500, 12000)[1]"
   ]
  },
  {
   "cell_type": "code",
   "execution_count": 123,
   "id": "47696b6a",
   "metadata": {},
   "outputs": [],
   "source": [
    "f0 = [i for i in range(1500,25000, 2000)]\n",
    "f1 = [i for i in range(2000,30000, 2000)]\n",
    "\n",
    "tiempos = []\n",
    "\n",
    "for r0, r1 in zip(f0, f1):\n",
    "    tiempos.append(minimizar_modelo(r0, r1)[1])"
   ]
  },
  {
   "cell_type": "code",
   "execution_count": null,
   "id": "1c7d64a3",
   "metadata": {},
   "outputs": [
    {
     "data": {
      "text/plain": [
       "np.float64(-5469.626775270933)"
      ]
     },
     "execution_count": 131,
     "metadata": {},
     "output_type": "execute_result"
    }
   ],
   "source": []
  },
  {
   "cell_type": "code",
   "execution_count": 124,
   "id": "83075fae",
   "metadata": {},
   "outputs": [
    {
     "data": {
      "text/plain": [
       "[np.float64(43.45073714077768),\n",
       " np.float64(43.0683290983893),\n",
       " np.float64(42.54734416420806),\n",
       " np.float64(41.90318097252192),\n",
       " np.float64(41.37216537696287),\n",
       " np.float64(40.94246389468273),\n",
       " np.float64(40.595303470498095),\n",
       " np.float64(40.307469878901244),\n",
       " np.float64(40.0526840571337),\n",
       " np.float64(39.80239928888994),\n",
       " np.float64(39.52632974927957),\n",
       " np.float64(39.026102612316144)]"
      ]
     },
     "execution_count": 124,
     "metadata": {},
     "output_type": "execute_result"
    }
   ],
   "source": [
    "tiempos"
   ]
  },
  {
   "cell_type": "code",
   "execution_count": 102,
   "id": "95e6dee8",
   "metadata": {},
   "outputs": [
    {
     "data": {
      "text/plain": [
       "np.float64(58.99380588231478)"
      ]
     },
     "execution_count": 102,
     "metadata": {},
     "output_type": "execute_result"
    }
   ],
   "source": [
    "modelo3.predict(X_test[:1])[0]"
   ]
  },
  {
   "cell_type": "code",
   "execution_count": 128,
   "id": "94d68887",
   "metadata": {},
   "outputs": [
    {
     "data": {
      "text/plain": [
       "array([39.19635706])"
      ]
     },
     "execution_count": 128,
     "metadata": {},
     "output_type": "execute_result"
    }
   ],
   "source": [
    "df_input = pd.DataFrame([{\n",
    "        'GGrr (s)': 36.30056414,\n",
    "        'yyrr (s)': 5,\n",
    "        'rrGG (s)': 51.12195142,\n",
    "        'rryy (s)': 2,\n",
    "        'Autos r_0': 25000,\n",
    "        'Autos r_1': 30000\n",
    "    }])\n",
    "\n",
    "modelo3.predict(df_input)"
   ]
  },
  {
   "cell_type": "code",
   "execution_count": 265,
   "id": "5b0ee1a2-6cec-4c23-a75e-e552dae97d9b",
   "metadata": {},
   "outputs": [
    {
     "name": "stdout",
     "output_type": "stream",
     "text": [
      "1: 0.002949855025857981\n",
      "GGrr (s): 0.0010682007740936506\n",
      "yyrr (s): -0.0035062499792441054\n",
      "rrGG (s): -0.0019689094232114633\n",
      "rryy (s): -0.0016531165192788977\n",
      "Autos r_0: -0.02123915025153512\n",
      "Autos r_1: -0.02616343249285227\n",
      "GGrr (s)^2: -0.0018750148008878293\n",
      "GGrr (s) yyrr (s): -0.00043365042815369197\n",
      "GGrr (s) rrGG (s): -0.0036874071065245307\n",
      "GGrr (s) rryy (s): -5.41009194062043e-09\n",
      "GGrr (s) Autos r_0: 0.0013774124634169166\n",
      "GGrr (s) Autos r_1: -0.0009718756724435955\n",
      "yyrr (s)^2: 4.75530237829716e-05\n",
      "yyrr (s) rrGG (s): 0.0001002573105683158\n",
      "yyrr (s) rryy (s): 6.133225807662306e-05\n",
      "yyrr (s) Autos r_0: -0.00611229025942471\n",
      "yyrr (s) Autos r_1: 0.017326799572025754\n",
      "rrGG (s)^2: 4.663191369241735e-05\n",
      "rrGG (s) rryy (s): 0.00035820535249433564\n",
      "rrGG (s) Autos r_0: 0.000433791448786956\n",
      "rrGG (s) Autos r_1: 0.00034989658252505303\n",
      "rryy (s)^2: 8.387057826063726e-05\n",
      "rryy (s) Autos r_0: 0.004438881920956218\n",
      "rryy (s) Autos r_1: -0.008731863293646506\n",
      "Autos r_0^2: -1.5297526403984478e-06\n",
      "Autos r_0 Autos r_1: 4.01547052617449e-06\n",
      "Autos r_1^2: 1.801553075208123e-06\n",
      "GGrr (s)^3: 0.0013555809654533543\n",
      "GGrr (s)^2 yyrr (s): -0.010835036704971298\n",
      "GGrr (s)^2 rrGG (s): 0.0022282609444837305\n",
      "GGrr (s)^2 rryy (s): -0.0014345004955973204\n",
      "GGrr (s)^2 Autos r_0: -1.1971715212454202e-05\n",
      "GGrr (s)^2 Autos r_1: 1.1285893994692173e-05\n",
      "GGrr (s) yyrr (s)^2: -0.0022882309076960538\n",
      "GGrr (s) yyrr (s) rrGG (s): -0.014271365160068002\n",
      "GGrr (s) yyrr (s) rryy (s): -0.001017849284096063\n",
      "GGrr (s) yyrr (s) Autos r_0: -0.00014694156428927616\n",
      "GGrr (s) yyrr (s) Autos r_1: 0.0001140346529899249\n",
      "GGrr (s) rrGG (s)^2: -0.003568700167923417\n",
      "GGrr (s) rrGG (s) rryy (s): -0.0055065137393626494\n",
      "GGrr (s) rrGG (s) Autos r_0: -1.6807136827471134e-05\n",
      "GGrr (s) rrGG (s) Autos r_1: 9.973805860937268e-07\n",
      "GGrr (s) rryy (s)^2: 0.0003203436699378273\n",
      "GGrr (s) rryy (s) Autos r_0: -0.0002763828007404112\n",
      "GGrr (s) rryy (s) Autos r_1: 0.00023162604072834376\n",
      "GGrr (s) Autos r_0^2: 3.0369071124264384e-08\n",
      "GGrr (s) Autos r_0 Autos r_1: -3.14477677907505e-08\n",
      "GGrr (s) Autos r_1^2: 6.198296741286921e-09\n",
      "yyrr (s)^3: -1.1785449698412263e-06\n",
      "yyrr (s)^2 rrGG (s): 0.00015335380972421355\n",
      "yyrr (s)^2 rryy (s): 1.7917527701532026e-05\n",
      "yyrr (s)^2 Autos r_0: 0.0024113022668964413\n",
      "yyrr (s)^2 Autos r_1: -0.0024046701834281687\n",
      "yyrr (s) rrGG (s)^2: -0.008777410654752578\n",
      "yyrr (s) rrGG (s) rryy (s): 0.001072652619381311\n",
      "yyrr (s) rrGG (s) Autos r_0: 9.553843051187206e-06\n",
      "yyrr (s) rrGG (s) Autos r_1: -0.00015046298314211055\n",
      "yyrr (s) rryy (s)^2: 0.00016145704339540687\n",
      "yyrr (s) rryy (s) Autos r_0: -0.0011138021355266577\n",
      "yyrr (s) rryy (s) Autos r_1: -0.0006791550124981186\n",
      "yyrr (s) Autos r_0^2: 4.5750892684355047e-07\n",
      "yyrr (s) Autos r_0 Autos r_1: -7.656456345763846e-07\n",
      "yyrr (s) Autos r_1^2: -2.6893977314565176e-07\n",
      "rrGG (s)^3: 0.0009040370053439073\n",
      "rrGG (s)^2 rryy (s): -0.0003684585341370119\n",
      "rrGG (s)^2 Autos r_0: -5.723085143070256e-06\n",
      "rrGG (s)^2 Autos r_1: 2.4066703551937388e-05\n",
      "rrGG (s) rryy (s)^2: 0.0015390157491190976\n",
      "rrGG (s) rryy (s) Autos r_0: 0.00010648029573121366\n",
      "rrGG (s) rryy (s) Autos r_1: -0.0003255016191423637\n",
      "rrGG (s) Autos r_0^2: 2.688751500946669e-09\n",
      "rrGG (s) Autos r_0 Autos r_1: -2.3709149142775373e-08\n",
      "rrGG (s) Autos r_1^2: -2.4059287155667847e-08\n",
      "rryy (s)^3: 0.0003010167454606535\n",
      "rryy (s)^2 Autos r_0: 0.0008701334504119104\n",
      "rryy (s)^2 Autos r_1: 0.003384763999344097\n",
      "rryy (s) Autos r_0^2: 1.5795721036435627e-08\n",
      "rryy (s) Autos r_0 Autos r_1: -4.2679776048216076e-07\n",
      "rryy (s) Autos r_1^2: 3.9238421974061964e-08\n",
      "Autos r_0^3: 1.4849574017259878e-11\n",
      "Autos r_0^2 Autos r_1: -6.999276090896393e-11\n",
      "Autos r_0 Autos r_1^2: -4.0702073913416285e-11\n",
      "Autos r_1^3: -6.405414507181309e-11\n",
      "GGrr (s)^4: -2.0856581506030098e-05\n",
      "GGrr (s)^3 yyrr (s): -0.00014743039225353485\n",
      "GGrr (s)^3 rrGG (s): 2.937044816622235e-05\n",
      "GGrr (s)^3 rryy (s): -9.735074534034109e-05\n",
      "GGrr (s)^3 Autos r_0: 1.4720066054834441e-08\n",
      "GGrr (s)^3 Autos r_1: 3.210910398203747e-09\n",
      "GGrr (s)^2 yyrr (s)^2: 0.005471788573018674\n",
      "GGrr (s)^2 yyrr (s) rrGG (s): 3.322922489668381e-05\n",
      "GGrr (s)^2 yyrr (s) rryy (s): -0.00203993014592491\n",
      "GGrr (s)^2 yyrr (s) Autos r_0: 9.848390630511065e-08\n",
      "GGrr (s)^2 yyrr (s) Autos r_1: -4.212087031075002e-07\n",
      "GGrr (s)^2 rrGG (s)^2: -8.115964086391174e-05\n",
      "GGrr (s)^2 rrGG (s) rryy (s): 0.0003482995036102222\n",
      "GGrr (s)^2 rrGG (s) Autos r_0: -9.617308977841627e-10\n",
      "GGrr (s)^2 rrGG (s) Autos r_1: 2.9275898253011684e-09\n",
      "GGrr (s)^2 rryy (s)^2: 0.0019182458691302854\n",
      "GGrr (s)^2 rryy (s) Autos r_0: 2.125529876718934e-06\n",
      "GGrr (s)^2 rryy (s) Autos r_1: -2.577943682987459e-06\n",
      "GGrr (s)^2 Autos r_0^2: -1.0471112481459004e-10\n",
      "GGrr (s)^2 Autos r_0 Autos r_1: 3.435893032219771e-10\n",
      "GGrr (s)^2 Autos r_1^2: -1.3666423649352647e-10\n",
      "GGrr (s) yyrr (s)^3: -0.011694126834413959\n",
      "GGrr (s) yyrr (s)^2 rrGG (s): -0.004144256617797614\n",
      "GGrr (s) yyrr (s)^2 rryy (s): -0.005769797634654134\n",
      "GGrr (s) yyrr (s)^2 Autos r_0: 6.021155323350219e-06\n",
      "GGrr (s) yyrr (s)^2 Autos r_1: -6.267421481765101e-06\n",
      "GGrr (s) yyrr (s) rrGG (s)^2: 0.0010308647559814526\n",
      "GGrr (s) yyrr (s) rrGG (s) rryy (s): -0.0015291207265354454\n",
      "GGrr (s) yyrr (s) rrGG (s) Autos r_0: -9.690126079610428e-10\n",
      "GGrr (s) yyrr (s) rrGG (s) Autos r_1: -1.0903135869751775e-06\n",
      "GGrr (s) yyrr (s) rryy (s)^2: -0.0008995985278310626\n",
      "GGrr (s) yyrr (s) rryy (s) Autos r_0: 3.745188544733216e-05\n",
      "GGrr (s) yyrr (s) rryy (s) Autos r_1: -6.057907620546916e-06\n",
      "GGrr (s) yyrr (s) Autos r_0^2: -2.9606292866825627e-09\n",
      "GGrr (s) yyrr (s) Autos r_0 Autos r_1: 1.1964389924660495e-10\n",
      "GGrr (s) yyrr (s) Autos r_1^2: 1.5355102390053451e-09\n",
      "GGrr (s) rrGG (s)^3: 6.385908857531311e-05\n",
      "GGrr (s) rrGG (s)^2 rryy (s): -0.00022091254307265054\n",
      "GGrr (s) rrGG (s)^2 Autos r_0: 1.427406148421642e-07\n",
      "GGrr (s) rrGG (s)^2 Autos r_1: -1.484660900011232e-07\n",
      "GGrr (s) rrGG (s) rryy (s)^2: -0.002403343927772178\n",
      "GGrr (s) rrGG (s) rryy (s) Autos r_0: 7.299560658320706e-07\n",
      "GGrr (s) rrGG (s) rryy (s) Autos r_1: 2.6414829301507974e-06\n",
      "GGrr (s) rrGG (s) Autos r_0^2: 1.830047945848627e-10\n",
      "GGrr (s) rrGG (s) Autos r_0 Autos r_1: 1.2720445631296458e-10\n",
      "GGrr (s) rrGG (s) Autos r_1^2: 4.597005498143428e-11\n",
      "GGrr (s) rryy (s)^3: 0.0031766598282175046\n",
      "GGrr (s) rryy (s)^2 Autos r_0: -3.4823365485852804e-06\n",
      "GGrr (s) rryy (s)^2 Autos r_1: -7.608831065144515e-06\n",
      "GGrr (s) rryy (s) Autos r_0^2: -6.504680387722444e-10\n",
      "GGrr (s) rryy (s) Autos r_0 Autos r_1: 1.895991189324463e-09\n",
      "GGrr (s) rryy (s) Autos r_1^2: -3.804395693397505e-09\n",
      "GGrr (s) Autos r_0^3: -4.725378074943443e-13\n",
      "GGrr (s) Autos r_0^2 Autos r_1: -4.640107742481803e-13\n",
      "GGrr (s) Autos r_0 Autos r_1^2: 2.313366512241011e-13\n",
      "GGrr (s) Autos r_1^3: 2.3872744059350026e-13\n",
      "yyrr (s)^4: -0.0008719001741805412\n",
      "yyrr (s)^3 rrGG (s): 0.0020685058147674107\n",
      "yyrr (s)^3 rryy (s): -0.0008336801374087951\n",
      "yyrr (s)^3 Autos r_0: -2.3710241009932062e-05\n",
      "yyrr (s)^3 Autos r_1: 3.6621407625366824e-05\n",
      "yyrr (s)^2 rrGG (s)^2: 0.0009054065668389157\n",
      "yyrr (s)^2 rrGG (s) rryy (s): 0.003746395996057894\n",
      "yyrr (s)^2 rrGG (s) Autos r_0: -1.8975146877471314e-06\n",
      "yyrr (s)^2 rrGG (s) Autos r_1: 1.5314140841601944e-05\n",
      "yyrr (s)^2 rryy (s)^2: -0.0002797643274628952\n",
      "yyrr (s)^2 rryy (s) Autos r_0: -0.00037907911649895994\n",
      "yyrr (s)^2 rryy (s) Autos r_1: 0.00036743746446347926\n",
      "yyrr (s)^2 Autos r_0^2: -6.721248818208098e-08\n",
      "yyrr (s)^2 Autos r_0 Autos r_1: 6.831785907593494e-08\n",
      "yyrr (s)^2 Autos r_1^2: -2.0759375109164803e-08\n",
      "yyrr (s) rrGG (s)^3: -0.00028786812631377296\n",
      "yyrr (s) rrGG (s)^2 rryy (s): 0.0022781562974343553\n",
      "yyrr (s) rrGG (s)^2 Autos r_0: 2.0952380397215866e-07\n",
      "yyrr (s) rrGG (s)^2 Autos r_1: -6.449295651886403e-07\n",
      "yyrr (s) rrGG (s) rryy (s)^2: 0.008373913037590726\n",
      "yyrr (s) rrGG (s) rryy (s) Autos r_0: -2.0355598421091577e-05\n",
      "yyrr (s) rrGG (s) rryy (s) Autos r_1: 1.4206041923381703e-05\n",
      "yyrr (s) rrGG (s) Autos r_0^2: 2.7073307365549743e-09\n",
      "yyrr (s) rrGG (s) Autos r_0 Autos r_1: 2.6102864115767237e-10\n",
      "yyrr (s) rrGG (s) Autos r_1^2: 4.1243076941069386e-09\n",
      "yyrr (s) rryy (s)^3: 0.0006278642424392917\n",
      "yyrr (s) rryy (s)^2 Autos r_0: 0.0004296354428132026\n",
      "yyrr (s) rryy (s)^2 Autos r_1: -0.0004254827934228075\n",
      "yyrr (s) rryy (s) Autos r_0^2: -1.9974674319375838e-09\n",
      "yyrr (s) rryy (s) Autos r_0 Autos r_1: 6.211589667110907e-08\n",
      "yyrr (s) rryy (s) Autos r_1^2: 1.527988741391647e-08\n",
      "yyrr (s) Autos r_0^3: -1.5047592696960433e-12\n",
      "yyrr (s) Autos r_0^2 Autos r_1: 4.590180964275312e-12\n",
      "yyrr (s) Autos r_0 Autos r_1^2: 6.91896843638129e-13\n",
      "yyrr (s) Autos r_1^3: 3.5534588509536502e-12\n",
      "rrGG (s)^4: -1.278635054489372e-05\n",
      "rrGG (s)^3 rryy (s): 7.347933960595803e-05\n",
      "rrGG (s)^3 Autos r_0: 4.910067394042144e-08\n",
      "rrGG (s)^3 Autos r_1: -1.6026610940736944e-07\n",
      "rrGG (s)^2 rryy (s)^2: 0.0004105010492712787\n",
      "rrGG (s)^2 rryy (s) Autos r_0: -1.1612131575284162e-06\n",
      "rrGG (s)^2 rryy (s) Autos r_1: 7.818507266802631e-07\n",
      "rrGG (s)^2 Autos r_0^2: -1.5206022731798679e-10\n",
      "rrGG (s)^2 Autos r_0 Autos r_1: 1.6011079206977152e-10\n",
      "rrGG (s)^2 Autos r_1^2: -2.2163966700779495e-10\n",
      "rrGG (s) rryy (s)^3: 0.00948865316795436\n",
      "rrGG (s) rryy (s)^2 Autos r_0: -8.64907500518448e-06\n",
      "rrGG (s) rryy (s)^2 Autos r_1: 4.14230914228467e-06\n",
      "rrGG (s) rryy (s) Autos r_0^2: 2.949090530986311e-09\n",
      "rrGG (s) rryy (s) Autos r_0 Autos r_1: 1.435145616495152e-09\n",
      "rrGG (s) rryy (s) Autos r_1^2: 5.453434308955746e-09\n",
      "rrGG (s) Autos r_0^3: -6.251821976777094e-13\n",
      "rrGG (s) Autos r_0^2 Autos r_1: 3.2421981766006525e-14\n",
      "rrGG (s) Autos r_0 Autos r_1^2: 2.139607935269794e-14\n",
      "rrGG (s) Autos r_1^3: 1.5933782071542169e-13\n",
      "rryy (s)^4: 0.0012934840345980225\n",
      "rryy (s)^3 Autos r_0: -0.00025737415379899686\n",
      "rryy (s)^3 Autos r_1: -0.00017724554856192784\n",
      "rryy (s)^2 Autos r_0^2: 1.6501127606531757e-08\n",
      "rryy (s)^2 Autos r_0 Autos r_1: 1.1561688797442442e-08\n",
      "rryy (s)^2 Autos r_1^2: -5.619683951961008e-10\n",
      "rryy (s) Autos r_0^3: -7.340132435239635e-12\n",
      "rryy (s) Autos r_0^2 Autos r_1: 6.551144555218963e-12\n",
      "rryy (s) Autos r_0 Autos r_1^2: -4.295378045219775e-12\n",
      "rryy (s) Autos r_1^3: -2.1354670961225286e-12\n",
      "Autos r_0^4: 1.5460722979643293e-15\n",
      "Autos r_0^3 Autos r_1: 1.1102230246251565e-16\n",
      "Autos r_0^2 Autos r_1^2: 2.1198320876436583e-15\n",
      "Autos r_0 Autos r_1^3: -4.683753385137379e-17\n",
      "Autos r_1^4: 1.1388459619787739e-15\n"
     ]
    }
   ],
   "source": [
    "# Obtener los nombres de las características transformadas\n",
    "modelo_p4 = modelo4.named_steps['linearregression']\n",
    "transformador = modelo4.named_steps['polynomialfeatures']\n",
    "nombres_variables = transformador.get_feature_names_out(input_features=X_train.columns)\n",
    "\n",
    "# Asociar coeficientes a los nombres de las variables\n",
    "for nombre, coef in zip(nombres_variables, modelo_p4.coef_):\n",
    "    print(f\"{nombre}: {coef}\")"
   ]
  },
  {
   "cell_type": "code",
   "execution_count": 267,
   "id": "6c220e41-7837-4b7b-b261-33b71f46a9c5",
   "metadata": {},
   "outputs": [
    {
     "data": {
      "text/plain": [
       "array([ 2.94985503e-03,  1.06820077e-03, -3.50624998e-03, -1.96890942e-03,\n",
       "       -1.65311652e-03, -2.12391503e-02, -2.61634325e-02, -1.87501480e-03,\n",
       "       -4.33650428e-04, -3.68740711e-03, -5.41009194e-09,  1.37741246e-03,\n",
       "       -9.71875672e-04,  4.75530238e-05,  1.00257311e-04,  6.13322581e-05,\n",
       "       -6.11229026e-03,  1.73267996e-02,  4.66319137e-05,  3.58205352e-04,\n",
       "        4.33791449e-04,  3.49896583e-04,  8.38705783e-05,  4.43888192e-03,\n",
       "       -8.73186329e-03, -1.52975264e-06,  4.01547053e-06,  1.80155308e-06,\n",
       "        1.35558097e-03, -1.08350367e-02,  2.22826094e-03, -1.43450050e-03,\n",
       "       -1.19717152e-05,  1.12858940e-05, -2.28823091e-03, -1.42713652e-02,\n",
       "       -1.01784928e-03, -1.46941564e-04,  1.14034653e-04, -3.56870017e-03,\n",
       "       -5.50651374e-03, -1.68071368e-05,  9.97380586e-07,  3.20343670e-04,\n",
       "       -2.76382801e-04,  2.31626041e-04,  3.03690711e-08, -3.14477678e-08,\n",
       "        6.19829674e-09, -1.17854497e-06,  1.53353810e-04,  1.79175277e-05,\n",
       "        2.41130227e-03, -2.40467018e-03, -8.77741065e-03,  1.07265262e-03,\n",
       "        9.55384305e-06, -1.50462983e-04,  1.61457043e-04, -1.11380214e-03,\n",
       "       -6.79155012e-04,  4.57508927e-07, -7.65645635e-07, -2.68939773e-07,\n",
       "        9.04037005e-04, -3.68458534e-04, -5.72308514e-06,  2.40667036e-05,\n",
       "        1.53901575e-03,  1.06480296e-04, -3.25501619e-04,  2.68875150e-09,\n",
       "       -2.37091491e-08, -2.40592872e-08,  3.01016745e-04,  8.70133450e-04,\n",
       "        3.38476400e-03,  1.57957210e-08, -4.26797760e-07,  3.92384220e-08,\n",
       "        1.48495740e-11, -6.99927609e-11, -4.07020739e-11, -6.40541451e-11,\n",
       "       -2.08565815e-05, -1.47430392e-04,  2.93704482e-05, -9.73507453e-05,\n",
       "        1.47200661e-08,  3.21091040e-09,  5.47178857e-03,  3.32292249e-05,\n",
       "       -2.03993015e-03,  9.84839063e-08, -4.21208703e-07, -8.11596409e-05,\n",
       "        3.48299504e-04, -9.61730898e-10,  2.92758983e-09,  1.91824587e-03,\n",
       "        2.12552988e-06, -2.57794368e-06, -1.04711125e-10,  3.43589303e-10,\n",
       "       -1.36664236e-10, -1.16941268e-02, -4.14425662e-03, -5.76979763e-03,\n",
       "        6.02115532e-06, -6.26742148e-06,  1.03086476e-03, -1.52912073e-03,\n",
       "       -9.69012608e-10, -1.09031359e-06, -8.99598528e-04,  3.74518854e-05,\n",
       "       -6.05790762e-06, -2.96062929e-09,  1.19643899e-10,  1.53551024e-09,\n",
       "        6.38590886e-05, -2.20912543e-04,  1.42740615e-07, -1.48466090e-07,\n",
       "       -2.40334393e-03,  7.29956066e-07,  2.64148293e-06,  1.83004795e-10,\n",
       "        1.27204456e-10,  4.59700550e-11,  3.17665983e-03, -3.48233655e-06,\n",
       "       -7.60883107e-06, -6.50468039e-10,  1.89599119e-09, -3.80439569e-09,\n",
       "       -4.72537807e-13, -4.64010774e-13,  2.31336651e-13,  2.38727441e-13,\n",
       "       -8.71900174e-04,  2.06850581e-03, -8.33680137e-04, -2.37102410e-05,\n",
       "        3.66214076e-05,  9.05406567e-04,  3.74639600e-03, -1.89751469e-06,\n",
       "        1.53141408e-05, -2.79764327e-04, -3.79079116e-04,  3.67437464e-04,\n",
       "       -6.72124882e-08,  6.83178591e-08, -2.07593751e-08, -2.87868126e-04,\n",
       "        2.27815630e-03,  2.09523804e-07, -6.44929565e-07,  8.37391304e-03,\n",
       "       -2.03555984e-05,  1.42060419e-05,  2.70733074e-09,  2.61028641e-10,\n",
       "        4.12430769e-09,  6.27864242e-04,  4.29635443e-04, -4.25482793e-04,\n",
       "       -1.99746743e-09,  6.21158967e-08,  1.52798874e-08, -1.50475927e-12,\n",
       "        4.59018096e-12,  6.91896844e-13,  3.55345885e-12, -1.27863505e-05,\n",
       "        7.34793396e-05,  4.91006739e-08, -1.60266109e-07,  4.10501049e-04,\n",
       "       -1.16121316e-06,  7.81850727e-07, -1.52060227e-10,  1.60110792e-10,\n",
       "       -2.21639667e-10,  9.48865317e-03, -8.64907501e-06,  4.14230914e-06,\n",
       "        2.94909053e-09,  1.43514562e-09,  5.45343431e-09, -6.25182198e-13,\n",
       "        3.24219818e-14,  2.13960794e-14,  1.59337821e-13,  1.29348403e-03,\n",
       "       -2.57374154e-04, -1.77245549e-04,  1.65011276e-08,  1.15616888e-08,\n",
       "       -5.61968395e-10, -7.34013244e-12,  6.55114456e-12, -4.29537805e-12,\n",
       "       -2.13546710e-12,  1.54607230e-15,  1.11022302e-16,  2.11983209e-15,\n",
       "       -4.68375339e-17,  1.13884596e-15])"
      ]
     },
     "execution_count": 267,
     "metadata": {},
     "output_type": "execute_result"
    }
   ],
   "source": [
    "modelo_p4.coef_"
   ]
  },
  {
   "cell_type": "code",
   "execution_count": 237,
   "id": "c6304237-52fc-4caa-8a22-1922645d1683",
   "metadata": {},
   "outputs": [],
   "source": [
    "\n",
    "variables_independientes = ['GGrr (s)','yyrr (s)','rrGG (s)','rryy (s)','Autos r_0', 'Autos r_1']\n",
    "variable_dependiente = 'Tiempo promedio'\n",
    "\n",
    "X = data[variables_independientes]\n",
    "y = data[variable_dependiente]"
   ]
  },
  {
   "cell_type": "code",
   "execution_count": 181,
   "id": "6f0ae3d2",
   "metadata": {},
   "outputs": [
    {
     "ename": "NameError",
     "evalue": "name 'lin_reg' is not defined",
     "output_type": "error",
     "traceback": [
      "\u001b[1;31m---------------------------------------------------------------------------\u001b[0m",
      "\u001b[1;31mNameError\u001b[0m                                 Traceback (most recent call last)",
      "Cell \u001b[1;32mIn[181], line 1\u001b[0m\n\u001b[1;32m----> 1\u001b[0m coefs \u001b[38;5;241m=\u001b[39m lin_reg\u001b[38;5;241m.\u001b[39mcoef_\n\u001b[0;32m      2\u001b[0m intercept \u001b[38;5;241m=\u001b[39m lin_reg\u001b[38;5;241m.\u001b[39mintercept_\n",
      "\u001b[1;31mNameError\u001b[0m: name 'lin_reg' is not defined"
     ]
    }
   ],
   "source": [
    "coefs = lin_reg.coef_\n",
    "intercept = lin_reg.intercept_\n"
   ]
  },
  {
   "cell_type": "code",
   "execution_count": null,
   "id": "57366e4f",
   "metadata": {},
   "outputs": [],
   "source": [
    "feature_names = poly_feat.get_feature_names_out(['GGrr (s)', 'yyrr (s)', 'rrGG (s)', 'rryy (s)'])"
   ]
  },
  {
   "cell_type": "code",
   "execution_count": null,
   "id": "3da742fe",
   "metadata": {},
   "outputs": [],
   "source": [
    "feature_names"
   ]
  },
  {
   "cell_type": "code",
   "execution_count": 17,
   "id": "17d8400b",
   "metadata": {},
   "outputs": [
    {
     "name": "stdout",
     "output_type": "stream",
     "text": [
      "1: 4.2459171097966867e-10\n",
      "GGrr (s): -1.5789641314316465\n",
      "yyrr (s): 4.379137192455784\n",
      "rrGG (s): -2.424496698961665\n",
      "rryy (s): 0.992596308500289\n",
      "GGrr (s)^2: 0.0702239429890443\n",
      "GGrr (s) yyrr (s): 0.1480918723605229\n",
      "GGrr (s) rrGG (s): -0.05043377662273085\n",
      "GGrr (s) rryy (s): -0.05705583027890128\n",
      "yyrr (s)^2: -2.4850525715399656\n",
      "yyrr (s) rrGG (s): 0.2128693314071999\n",
      "yyrr (s) rryy (s): -1.176908422604607\n",
      "rrGG (s)^2: 0.0722995806474964\n",
      "rrGG (s) rryy (s): 0.08232436597283863\n",
      "rryy (s)^2: 0.3118854688300427\n",
      "GGrr (s)^3: -0.0007059832102051522\n",
      "GGrr (s)^2 yyrr (s): -0.0006434202531074955\n",
      "GGrr (s)^2 rrGG (s): 0.0003528369998931913\n",
      "GGrr (s)^2 rryy (s): 0.0011605350477642828\n",
      "GGrr (s) yyrr (s)^2: -0.010436152753095944\n",
      "GGrr (s) yyrr (s) rrGG (s): -0.0005638983321411342\n",
      "GGrr (s) yyrr (s) rryy (s): -0.00283681993564934\n",
      "GGrr (s) rrGG (s)^2: 0.0002475403104067464\n",
      "GGrr (s) rrGG (s) rryy (s): 0.0005306238418423814\n",
      "GGrr (s) rryy (s)^2: -0.006035615960955554\n",
      "yyrr (s)^3: 0.28528647617484304\n",
      "yyrr (s)^2 rrGG (s): -0.019383286143070937\n",
      "yyrr (s)^2 rryy (s): 0.19092202997875252\n",
      "yyrr (s) rrGG (s)^2: -0.0005034755152364678\n",
      "yyrr (s) rrGG (s) rryy (s): -0.006246109995571759\n",
      "yyrr (s) rryy (s)^2: 0.034183033915832925\n",
      "rrGG (s)^3: -0.0005927785559349807\n",
      "rrGG (s)^2 rryy (s): -0.0003520037903611273\n",
      "rrGG (s) rryy (s)^2: -0.008787480706603477\n",
      "rryy (s)^3: 0.01154966155728587\n",
      "intercepto: 70.83349323351281\n"
     ]
    }
   ],
   "source": [
    "for name, coef in zip(feature_names, coefs):\n",
    "    print(f\"{name}: {coef}\")\n",
    "print(f\"intercepto: {intercept}\")"
   ]
  },
  {
   "cell_type": "code",
   "execution_count": 30,
   "id": "7dc2211f",
   "metadata": {},
   "outputs": [],
   "source": [
    "data2 = pd.read_csv(\"Nuevos_valores.csv\")"
   ]
  },
  {
   "cell_type": "code",
   "execution_count": 32,
   "id": "994e7056",
   "metadata": {},
   "outputs": [],
   "source": [
    "variables_independientes = ['GGrr (s)','yyrr (s)','rrGG (s)','rryy (s)']\n",
    "variable_dependiente = 'Tiempo promedio'\n",
    "\n",
    "X_test = data2[variables_independientes]\n",
    "y_test = data2[variable_dependiente]"
   ]
  },
  {
   "cell_type": "code",
   "execution_count": 33,
   "id": "366a12c2",
   "metadata": {},
   "outputs": [],
   "source": [
    "y_pred= modelo.predict(X_test)"
   ]
  },
  {
   "cell_type": "code",
   "execution_count": null,
   "id": "2127bcb0",
   "metadata": {},
   "outputs": [
    {
     "name": "stdout",
     "output_type": "stream",
     "text": [
      "Error cuadrático medio: 4.613579314259931\n",
      "R^2 = 0.8355874111670565\n"
     ]
    }
   ],
   "source": [
    "from sklearn.metrics import mean_squared_error, r2_score\n",
    "\n",
    "mse = mean_squared_error(y_test, y_pred)\n",
    "r2 = r2_score(y_test, y_pred)\n",
    "print(f\"Error cuadrático medio: {mse}\")\n",
    "print(f\"R^2 = {r2}\")"
   ]
  },
  {
   "cell_type": "code",
   "execution_count": 69,
   "id": "e3749e61",
   "metadata": {},
   "outputs": [
    {
     "name": "stdout",
     "output_type": "stream",
     "text": [
      "Error cuadrático medio: 36.20859007224315\n",
      "R^2 = 0.8433922069869837\n"
     ]
    }
   ],
   "source": [
    "modelo4 = make_pipeline( PolynomialFeatures(degree=4), LinearRegression())\n",
    "modelo4.fit(X_train_scaled, y_train)\n",
    "y_pred4= modelo4.predict(X_test_scaled)\n",
    "\n",
    "\n",
    "mse = mean_squared_error(y_test, y_pred4)\n",
    "r2 = r2_score(y_test, y_pred4)\n",
    "print(f\"Error cuadrático medio: {mse}\")\n",
    "print(f\"R^2 = {r2}\")"
   ]
  },
  {
   "cell_type": "code",
   "execution_count": null,
   "id": "a1b5a051",
   "metadata": {},
   "outputs": [],
   "source": []
  }
 ],
 "metadata": {
  "kernelspec": {
   "display_name": "Python 3",
   "language": "python",
   "name": "python3"
  },
  "language_info": {
   "codemirror_mode": {
    "name": "ipython",
    "version": 3
   },
   "file_extension": ".py",
   "mimetype": "text/x-python",
   "name": "python",
   "nbconvert_exporter": "python",
   "pygments_lexer": "ipython3",
   "version": "3.9.0"
  }
 },
 "nbformat": 4,
 "nbformat_minor": 5
}
