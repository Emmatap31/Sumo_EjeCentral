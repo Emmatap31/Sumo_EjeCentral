{
 "cells": [
  {
   "cell_type": "code",
   "execution_count": 5,
   "id": "d8708a42",
   "metadata": {},
   "outputs": [],
   "source": [
    "import pandas as pd\n",
    "import numpy as np\n",
    "\n",
    "y1 = np.loadtxt('y_test.csv', delimiter=',')\n",
    "y2 = np.loadtxt('yreg4.csv', delimiter=',')\n",
    "y3 = np.loadtxt('yarb1.csv', delimiter=',')\n",
    "\n",
    "df = pd.DataFrame({\n",
    "    'Y_test': y1,\n",
    "    'Regresion_grado_4': y2,\n",
    "    'Arbol_de_decision': y3\n",
    "})"
   ]
  },
  {
   "cell_type": "code",
   "execution_count": 7,
   "id": "1d007f15",
   "metadata": {},
   "outputs": [],
   "source": [
    "df.to_excel('predicciones2.xlsx', index=False)"
   ]
  }
 ],
 "metadata": {
  "kernelspec": {
   "display_name": "Python 3",
   "language": "python",
   "name": "python3"
  },
  "language_info": {
   "codemirror_mode": {
    "name": "ipython",
    "version": 3
   },
   "file_extension": ".py",
   "mimetype": "text/x-python",
   "name": "python",
   "nbconvert_exporter": "python",
   "pygments_lexer": "ipython3",
   "version": "3.13.0"
  }
 },
 "nbformat": 4,
 "nbformat_minor": 5
}
