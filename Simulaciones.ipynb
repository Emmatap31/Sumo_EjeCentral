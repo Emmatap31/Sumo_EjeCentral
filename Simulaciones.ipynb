{
 "cells": [
  {
   "cell_type": "code",
   "execution_count": 4,
   "metadata": {},
   "outputs": [],
   "source": [
    "import traci\n",
    "import sumolib"
   ]
  },
  {
   "cell_type": "code",
   "execution_count": 3,
   "metadata": {},
   "outputs": [
    {
     "ename": "TraCIException",
     "evalue": "Connection 'default' is already active.",
     "output_type": "error",
     "traceback": [
      "\u001b[1;31m---------------------------------------------------------------------------\u001b[0m",
      "\u001b[1;31mTraCIException\u001b[0m                            Traceback (most recent call last)",
      "Cell \u001b[1;32mIn[3], line 4\u001b[0m\n\u001b[0;32m      1\u001b[0m sumoBinary \u001b[38;5;241m=\u001b[39m \u001b[38;5;124m\"\u001b[39m\u001b[38;5;124msumo\u001b[39m\u001b[38;5;124m\"\u001b[39m\n\u001b[0;32m      2\u001b[0m sumoCmd \u001b[38;5;241m=\u001b[39m [sumoBinary, \u001b[38;5;124m\"\u001b[39m\u001b[38;5;124m-c\u001b[39m\u001b[38;5;124m\"\u001b[39m, \u001b[38;5;124m\"\u001b[39m\u001b[38;5;124mnt1.sumocfg\u001b[39m\u001b[38;5;124m\"\u001b[39m]\n\u001b[1;32m----> 4\u001b[0m \u001b[43mtraci\u001b[49m\u001b[38;5;241;43m.\u001b[39;49m\u001b[43mstart\u001b[49m\u001b[43m(\u001b[49m\u001b[43msumoCmd\u001b[49m\u001b[43m)\u001b[49m\n",
      "File \u001b[1;32mC:\\Program Files (x86)\\Eclipse\\Sumo\\tools\\traci\\main.py:139\u001b[0m, in \u001b[0;36mstart\u001b[1;34m(cmd, port, numRetries, label, verbose, traceFile, traceGetters, stdout, doSwitch)\u001b[0m\n\u001b[0;32m    124\u001b[0m \u001b[38;5;250m\u001b[39m\u001b[38;5;124;03m\"\"\"\u001b[39;00m\n\u001b[0;32m    125\u001b[0m \u001b[38;5;124;03mStart a sumo server using cmd, establish a connection to it and\u001b[39;00m\n\u001b[0;32m    126\u001b[0m \u001b[38;5;124;03mstore it under the given label. This method is not thread-safe.\u001b[39;00m\n\u001b[1;32m   (...)\u001b[0m\n\u001b[0;32m    136\u001b[0m \u001b[38;5;124;03m- stdout (iostream): where to pipe sumo process stdout\u001b[39;00m\n\u001b[0;32m    137\u001b[0m \u001b[38;5;124;03m\"\"\"\u001b[39;00m\n\u001b[0;32m    138\u001b[0m \u001b[38;5;28;01mif\u001b[39;00m connection\u001b[38;5;241m.\u001b[39mhas(label):\n\u001b[1;32m--> 139\u001b[0m     \u001b[38;5;28;01mraise\u001b[39;00m TraCIException(\u001b[38;5;124m\"\u001b[39m\u001b[38;5;124mConnection \u001b[39m\u001b[38;5;124m'\u001b[39m\u001b[38;5;132;01m%s\u001b[39;00m\u001b[38;5;124m'\u001b[39m\u001b[38;5;124m is already active.\u001b[39m\u001b[38;5;124m\"\u001b[39m \u001b[38;5;241m%\u001b[39m label)\n\u001b[0;32m    140\u001b[0m \u001b[38;5;28;01mwhile\u001b[39;00m numRetries \u001b[38;5;241m>\u001b[39m\u001b[38;5;241m=\u001b[39m \u001b[38;5;241m0\u001b[39m \u001b[38;5;129;01mand\u001b[39;00m \u001b[38;5;129;01mnot\u001b[39;00m connection\u001b[38;5;241m.\u001b[39mhas(label):\n\u001b[0;32m    141\u001b[0m     sumoPort \u001b[38;5;241m=\u001b[39m getFreeSocketPort() \u001b[38;5;28;01mif\u001b[39;00m port \u001b[38;5;129;01mis\u001b[39;00m \u001b[38;5;28;01mNone\u001b[39;00m \u001b[38;5;28;01melse\u001b[39;00m port\n",
      "\u001b[1;31mTraCIException\u001b[0m: Connection 'default' is already active."
     ]
    }
   ],
   "source": [
    "sumoBinary = \"sumo\"\n",
    "sumoCmd = [sumoBinary, \"-c\", \"nt1.sumocfg\"]\n",
    "\n",
    "traci.start(sumoCmd)"
   ]
  },
  {
   "cell_type": "code",
   "execution_count": null,
   "metadata": {},
   "outputs": [],
   "source": [
    "tls_ids = traci.trafficlight.getIDList()\n",
    "print(\"Semáforos\", tls_ids)"
   ]
  },
  {
   "cell_type": "code",
   "execution_count": null,
   "metadata": {},
   "outputs": [],
   "source": [
    "id_semaforo = tls_ids[0]\n",
    "programa = traci.trafficlight.getAllProgramLogics(id_semaforo)\n",
    "print(programa)"
   ]
  },
  {
   "cell_type": "code",
   "execution_count": 3,
   "metadata": {},
   "outputs": [
    {
     "ename": "NameError",
     "evalue": "name 'id_semaforo' is not defined",
     "output_type": "error",
     "traceback": [
      "\u001b[1;31m---------------------------------------------------------------------------\u001b[0m",
      "\u001b[1;31mNameError\u001b[0m                                 Traceback (most recent call last)",
      "Cell \u001b[1;32mIn[3], line 11\u001b[0m\n\u001b[0;32m      8\u001b[0m new_logic \u001b[38;5;241m=\u001b[39m Logic(programID\u001b[38;5;241m=\u001b[39m\u001b[38;5;124m\"\u001b[39m\u001b[38;5;124mnuevo_programa\u001b[39m\u001b[38;5;124m\"\u001b[39m, \u001b[38;5;28mtype\u001b[39m\u001b[38;5;241m=\u001b[39m\u001b[38;5;241m0\u001b[39m,currentPhaseIndex\u001b[38;5;241m=\u001b[39m\u001b[38;5;241m0\u001b[39m,phases\u001b[38;5;241m=\u001b[39m[Phase(duration\u001b[38;5;241m=\u001b[39m\u001b[38;5;241m30\u001b[39m, state\u001b[38;5;241m=\u001b[39m\u001b[38;5;124m\"\u001b[39m\u001b[38;5;124mGGrr\u001b[39m\u001b[38;5;124m\"\u001b[39m, minDur\u001b[38;5;241m=\u001b[39m\u001b[38;5;241m30\u001b[39m, maxDur\u001b[38;5;241m=\u001b[39m\u001b[38;5;241m30\u001b[39m ), Phase(duration\u001b[38;5;241m=\u001b[39m\u001b[38;5;241m5\u001b[39m, state\u001b[38;5;241m=\u001b[39m\u001b[38;5;124m'\u001b[39m\u001b[38;5;124myyrr\u001b[39m\u001b[38;5;124m'\u001b[39m, minDur\u001b[38;5;241m=\u001b[39m\u001b[38;5;241m5\u001b[39m, maxDur\u001b[38;5;241m=\u001b[39m\u001b[38;5;241m5\u001b[39m), Phase(duration\u001b[38;5;241m=\u001b[39m\u001b[38;5;241m30\u001b[39m, state\u001b[38;5;241m=\u001b[39m\u001b[38;5;124m'\u001b[39m\u001b[38;5;124mrrGG\u001b[39m\u001b[38;5;124m'\u001b[39m, minDur\u001b[38;5;241m=\u001b[39m\u001b[38;5;241m30\u001b[39m, maxDur\u001b[38;5;241m=\u001b[39m\u001b[38;5;241m30\u001b[39m), Phase(duration\u001b[38;5;241m=\u001b[39m\u001b[38;5;241m5\u001b[39m, state\u001b[38;5;241m=\u001b[39m\u001b[38;5;124m'\u001b[39m\u001b[38;5;124mrryy\u001b[39m\u001b[38;5;124m'\u001b[39m, minDur\u001b[38;5;241m=\u001b[39m\u001b[38;5;241m5\u001b[39m, maxDur\u001b[38;5;241m=\u001b[39m\u001b[38;5;241m5\u001b[39m), Phase(duration\u001b[38;5;241m=\u001b[39m\u001b[38;5;241m1\u001b[39m, state\u001b[38;5;241m=\u001b[39m\u001b[38;5;124m'\u001b[39m\u001b[38;5;124mrrrr\u001b[39m\u001b[38;5;124m'\u001b[39m, minDur\u001b[38;5;241m=\u001b[39m\u001b[38;5;241m1.0\u001b[39m, maxDur\u001b[38;5;241m=\u001b[39m\u001b[38;5;241m1.0\u001b[39m)])\n\u001b[0;32m     10\u001b[0m \u001b[38;5;66;03m#Aplicar el nuevo programa al semáforo\u001b[39;00m\n\u001b[1;32m---> 11\u001b[0m traci\u001b[38;5;241m.\u001b[39mtrafficlight\u001b[38;5;241m.\u001b[39msetProgramLogic(id_semaforo, new_logic)\n\u001b[0;32m     14\u001b[0m traci\u001b[38;5;241m.\u001b[39mtrafficlight\u001b[38;5;241m.\u001b[39msetProgram(id_semaforo, \u001b[38;5;124m\"\u001b[39m\u001b[38;5;124mnuevo_programa\u001b[39m\u001b[38;5;124m\"\u001b[39m)\n",
      "\u001b[1;31mNameError\u001b[0m: name 'id_semaforo' is not defined"
     ]
    }
   ],
   "source": [
    "from traci._trafficlight import Logic, Phase\n",
    "\n",
    "#Crear un nuevo programa con fases personalizadas\n",
    "\n",
    "\n",
    "\n",
    "\n",
    "new_logic = Logic(programID=\"nuevo_programa\", type=0,currentPhaseIndex=0,phases=[Phase(duration=30, state=\"GGrr\", minDur=30, maxDur=30 ), Phase(duration=5, state='yyrr', minDur=5, maxDur=5), Phase(duration=30, state='rrGG', minDur=30, maxDur=30), Phase(duration=5, state='rryy', minDur=5, maxDur=5), Phase(duration=1, state='rrrr', minDur=1.0, maxDur=1.0)])\n",
    "\n",
    "#Aplicar el nuevo programa al semáforo\n",
    "traci.trafficlight.setProgramLogic(id_semaforo, new_logic)\n",
    "\n",
    "\n",
    "traci.trafficlight.setProgram(id_semaforo, \"nuevo_programa\")"
   ]
  },
  {
   "cell_type": "code",
   "execution_count": 5,
   "metadata": {},
   "outputs": [],
   "source": [
    "def new_logic(ggrr, yyrr, rrgg, rryy):\n",
    "\n",
    "    tls_ids = traci.trafficlight.getIDList()\n",
    "    id_semaforo = tls_ids[0]\n",
    "    programa = traci.trafficlight.getAllProgramLogics(id_semaforo)\n",
    "    \n",
    "    from traci._trafficlight import Logic, Phase\n",
    "\n",
    "    new_logic = Logic(programID=\"nuevo_programa\", type=0,currentPhaseIndex=0,phases=[Phase(duration=ggrr, state=\"GGrr\", minDur=ggrr, maxDur=ggrr ), Phase(duration=yyrr, state='yyrr', minDur=yyrr, maxDur=yyrr), Phase(duration=rrgg, state='rrGG', minDur=rrgg, maxDur=rrgg), Phase(duration=rryy, state='rryy', minDur=rryy, maxDur=rryy)])\n",
    "\n",
    "    traci.trafficlight.setProgramLogic(id_semaforo, new_logic)\n",
    "\n",
    "    traci.trafficlight.setProgram(id_semaforo, \"nuevo_programa\")\n",
    "\n",
    "    #print(traci.trafficlight.getCompleteRedYellowGreenDefinition(id_semaforo))\n"
   ]
  },
  {
   "cell_type": "code",
   "execution_count": 6,
   "metadata": {},
   "outputs": [],
   "source": [
    "import numpy as np\n",
    "\n",
    "def n_vehiculos(n0, n1):\n",
    "\n",
    "    t0=0\n",
    "    t1=0\n",
    "\n",
    "    for i in range(n0):\n",
    "\n",
    "        t0+= np.random.exponential(scale=3600/n0)\n",
    "\n",
    "        traci.vehicle.add(\n",
    "            vehID=f\"veh_r0_{i}\",\n",
    "            routeID=\"r_0\", # Asegúrate de tener un tipo definido (por defecto puedes omitir esto si usas default)\n",
    "            depart=t0\n",
    "        )\n",
    "\n",
    "    for i in range(n1):\n",
    "\n",
    "        t1+= np.random.exponential(scale=3600/n1)\n",
    "\n",
    "        traci.vehicle.add(\n",
    "            vehID=f\"veh_r1_{i}\",\n",
    "            routeID=\"r_1\",\n",
    "            depart=t1\n",
    "        )"
   ]
  },
  {
   "cell_type": "code",
   "execution_count": 7,
   "metadata": {},
   "outputs": [],
   "source": [
    "def avg_time():\n",
    "    depart_times = {}\n",
    "    arrival_times = {}\n",
    "    simulation_durations = {}\n",
    "\n",
    "    for step in range(3600):\n",
    "        traci.simulationStep()\n",
    "\n",
    "        departed_vehicles = traci.simulation.getDepartedIDList()\n",
    "        current_time = traci.simulation.getTime()\n",
    "        for veh_id in departed_vehicles:\n",
    "            if veh_id not in depart_times:\n",
    "                depart_times[veh_id] = current_time\n",
    "        \n",
    "        \n",
    "\n",
    "        arrived_vehicles = traci.simulation.getArrivedIDList()\n",
    "        current_time = traci.simulation.getTime()\n",
    "        for veh_id in arrived_vehicles:\n",
    "            if veh_id not in arrival_times:\n",
    "                arrival_times[veh_id] = current_time\n",
    "\n",
    "\n",
    "\n",
    "    for veh_id, arrival_time in arrival_times.items():\n",
    "        if veh_id in depart_times:\n",
    "            departure_time = depart_times[veh_id]\n",
    "            duration = arrival_time - departure_time\n",
    "            simulation_durations[veh_id] = duration\n",
    "\n",
    "    average = sum(simulation_durations.values())/len(simulation_durations)\n",
    "\n",
    "    return average"
   ]
  },
  {
   "cell_type": "code",
   "execution_count": null,
   "metadata": {},
   "outputs": [
    {
     "name": "stdout",
     "output_type": "stream",
     "text": [
      "1\n"
     ]
    },
    {
     "data": {
      "application/vnd.microsoft.datawrangler.viewer.v0+json": {
       "columns": [
        {
         "name": "index",
         "rawType": "int64",
         "type": "integer"
        },
        {
         "name": "Simulation",
         "rawType": "int64",
         "type": "integer"
        },
        {
         "name": "Tiempo promedio",
         "rawType": "float64",
         "type": "float"
        },
        {
         "name": "GGrr (s)",
         "rawType": "int64",
         "type": "integer"
        },
        {
         "name": "yyrr (s)",
         "rawType": "int64",
         "type": "integer"
        },
        {
         "name": "rrGG (s)",
         "rawType": "int64",
         "type": "integer"
        },
        {
         "name": "rryy (s)",
         "rawType": "int64",
         "type": "integer"
        },
        {
         "name": "Autos r_0",
         "rawType": "int64",
         "type": "integer"
        },
        {
         "name": "Autos r_1",
         "rawType": "int64",
         "type": "integer"
        }
       ],
       "ref": "09b9aa99-4ac8-46b9-a588-956ed598851d",
       "rows": [
        [
         "0",
         "1",
         "62.81574239713775",
         "14",
         "4",
         "11",
         "2",
         "13500",
         "28000"
        ]
       ],
       "shape": {
        "columns": 8,
        "rows": 1
       }
      },
      "text/html": [
       "<div>\n",
       "<style scoped>\n",
       "    .dataframe tbody tr th:only-of-type {\n",
       "        vertical-align: middle;\n",
       "    }\n",
       "\n",
       "    .dataframe tbody tr th {\n",
       "        vertical-align: top;\n",
       "    }\n",
       "\n",
       "    .dataframe thead th {\n",
       "        text-align: right;\n",
       "    }\n",
       "</style>\n",
       "<table border=\"1\" class=\"dataframe\">\n",
       "  <thead>\n",
       "    <tr style=\"text-align: right;\">\n",
       "      <th></th>\n",
       "      <th>Simulation</th>\n",
       "      <th>Tiempo promedio</th>\n",
       "      <th>GGrr (s)</th>\n",
       "      <th>yyrr (s)</th>\n",
       "      <th>rrGG (s)</th>\n",
       "      <th>rryy (s)</th>\n",
       "      <th>Autos r_0</th>\n",
       "      <th>Autos r_1</th>\n",
       "    </tr>\n",
       "  </thead>\n",
       "  <tbody>\n",
       "    <tr>\n",
       "      <th>0</th>\n",
       "      <td>1</td>\n",
       "      <td>62.815742</td>\n",
       "      <td>14</td>\n",
       "      <td>4</td>\n",
       "      <td>11</td>\n",
       "      <td>2</td>\n",
       "      <td>13500</td>\n",
       "      <td>28000</td>\n",
       "    </tr>\n",
       "  </tbody>\n",
       "</table>\n",
       "</div>"
      ],
      "text/plain": [
       "   Simulation  Tiempo promedio  GGrr (s)  yyrr (s)  rrGG (s)  rryy (s)  \\\n",
       "0           1        62.815742        14         4        11         2   \n",
       "\n",
       "   Autos r_0  Autos r_1  \n",
       "0      13500      28000  "
      ]
     },
     "execution_count": 7,
     "metadata": {},
     "output_type": "execute_result"
    }
   ],
   "source": [
    "#Se importan algunos de los paquetes requeridos\n",
    "import random as rd\n",
    "import pandas as pd\n",
    "import traci\n",
    "import sumolib\n",
    "\n",
    "avgtimes=[]#tiempos promedio\n",
    "ggrrs = []#(verde Norte-Sur)\n",
    "yyrrs = []#(amarillo Norte-Sur)\n",
    "rrggs = []# (verde Este-Oeste)\n",
    "rryys = []#(amarillo Este-Oeste)\n",
    "n0s = []#Tiempos ruta 0\n",
    "n1s = []#Tiempos ruta 1\n",
    "num_simulations = 1\n",
    "\n",
    "f0 = [i for i in range(1500,25000, 2000)]\n",
    "f1 = [i for i in range(2000,30000, 2000)]\n",
    "\n",
    "\n",
    "for i in range(num_simulations):\n",
    "\n",
    "    n0 = rd.choice(f0)\n",
    "    n1 = rd.choice(f1)\n",
    "\n",
    "    n0s.append(n0)\n",
    "    n1s.append(n1)\n",
    "\n",
    "    sumoBinary = \"sumo\"\n",
    "    sumoCmd = [sumoBinary, \"-c\", \"nt1.sumocfg\"]\n",
    "\n",
    "    traci.start(sumoCmd)\n",
    "\n",
    "    n_vehiculos(n0, n1)\n",
    "\n",
    "    ggrr = rd.randint(20,70) #(verde Norte-Sur) \n",
    "    yyrr = rd.randint(2,7) #(amarillo Norte-Sur)\n",
    "    rrgg = rd.randint(20,70) # (verde Este-Oeste)\n",
    "    rryy = rd.randint(2,7) #(amarillo Este-Oeste)\n",
    "\n",
    "    ggrrs.append(ggrr)\n",
    "    yyrrs.append(yyrr)\n",
    "    rrggs.append(rrgg)\n",
    "    rryys.append(rryy)\n",
    "\n",
    "    new_logic(ggrr, yyrr, rrgg, rryy)\n",
    "    depart_times = {}\n",
    "    arrival_times = {}\n",
    "    simulation_durations = {}\n",
    "\n",
    "    for step in range(3600):\n",
    "        traci.simulationStep()\n",
    "\n",
    "        departed_vehicles = traci.simulation.getDepartedIDList()\n",
    "        current_time = traci.simulation.getTime()\n",
    "        for veh_id in departed_vehicles:\n",
    "            if veh_id not in depart_times:\n",
    "                depart_times[veh_id] = current_time\n",
    "        \n",
    "        \n",
    "\n",
    "        arrived_vehicles = traci.simulation.getArrivedIDList()\n",
    "        current_time = traci.simulation.getTime()\n",
    "        for veh_id in arrived_vehicles:\n",
    "            if veh_id not in arrival_times:\n",
    "                arrival_times[veh_id] = current_time\n",
    "\n",
    "\n",
    "\n",
    "    for veh_id, arrival_time in arrival_times.items():\n",
    "        if veh_id in depart_times:\n",
    "            departure_time = depart_times[veh_id]\n",
    "            duration = arrival_time - departure_time\n",
    "            simulation_durations[veh_id] = duration\n",
    "\n",
    "    average = sum(simulation_durations.values())/len(simulation_durations)\n",
    "\n",
    "    avgtimes.append(average)\n",
    "\n",
    "    traci.close()\n",
    "    print(i+1)\n",
    "data = {\n",
    "    'Simulation' : range(1, num_simulations + 1),\n",
    "    'Tiempo promedio' : avgtimes,\n",
    "    'GGrr (s)' : ggrrs,\n",
    "    'yyrr (s)' : yyrrs,\n",
    "    'rrGG (s)' : rrggs,\n",
    "    'rryy (s)' : rryys,\n",
    "    'Autos r_0': n0s,\n",
    "    'Autos r_1': n1s\n",
    "}\n",
    "\n",
    "df100 = pd.DataFrame(data)\n",
    "df100"
   ]
  },
  {
   "cell_type": "code",
   "execution_count": 77,
   "metadata": {},
   "outputs": [],
   "source": [
    "df100.to_csv('Data800.csv', index=False)"
   ]
  },
  {
   "cell_type": "code",
   "execution_count": 72,
   "metadata": {},
   "outputs": [
    {
     "name": "stdout",
     "output_type": "stream",
     "text": [
      "643\n"
     ]
    }
   ],
   "source": [
    "contador = 0\n",
    "for i in range(1000):\n",
    "    a = rd.choice(f0)\n",
    "    b = rd.choice(f1)\n",
    "    if a<=b:\n",
    "        contador += 1\n",
    "\n",
    "print(contador)"
   ]
  },
  {
   "cell_type": "code",
   "execution_count": 6,
   "metadata": {},
   "outputs": [],
   "source": [
    "traci.close()"
   ]
  },
  {
   "cell_type": "code",
   "execution_count": 17,
   "metadata": {},
   "outputs": [],
   "source": [
    "df_test.to_csv('df_test.csv', index=False)"
   ]
  },
  {
   "cell_type": "code",
   "execution_count": 85,
   "metadata": {},
   "outputs": [],
   "source": [
    "h = df['GGrr (s)']"
   ]
  },
  {
   "cell_type": "code",
   "execution_count": 90,
   "metadata": {},
   "outputs": [
    {
     "data": {
      "image/png": "[encoded data removed]",
      "text/plain": [
       "<Figure size 800x600 with 1 Axes>"
      ]
     },
     "metadata": {},
     "output_type": "display_data"
    }
   ],
   "source": [
    "import matplotlib.pyplot as plt\n",
    "import seaborn as sns\n",
    "\n",
    "\n",
    "plt.figure(figsize=(8, 6))\n",
    "sns.scatterplot(x=df['Autos r_0'], y=df['Tiempo promedio'])\n",
    "plt.grid(True)\n",
    "plt.show()"
   ]
  },
  {
   "cell_type": "code",
   "execution_count": 78,
   "metadata": {},
   "outputs": [],
   "source": [
    "import pandas as pd"
   ]
  },
  {
   "cell_type": "code",
   "execution_count": 79,
   "metadata": {},
   "outputs": [],
   "source": [
    "df1 = pd.read_csv('Data100.csv')\n",
    "df2 = pd.read_csv('Data1002.csv')\n",
    "df3 = pd.read_csv('Data800.csv')"
   ]
  },
  {
   "cell_type": "code",
   "execution_count": 80,
   "metadata": {},
   "outputs": [],
   "source": [
    "df = pd.concat([df1, df2, df3], ignore_index = True)"
   ]
  },
  {
   "cell_type": "code",
   "execution_count": 81,
   "metadata": {},
   "outputs": [
    {
     "data": {
      "application/vnd.microsoft.datawrangler.viewer.v0+json": {
       "columns": [
        {
         "name": "index",
         "rawType": "int64",
         "type": "integer"
        },
        {
         "name": "Simulation",
         "rawType": "int64",
         "type": "integer"
        },
        {
         "name": "Tiempo promedio",
         "rawType": "float64",
         "type": "float"
        },
        {
         "name": "GGrr (s)",
         "rawType": "int64",
         "type": "integer"
        },
        {
         "name": "yyrr (s)",
         "rawType": "int64",
         "type": "integer"
        },
        {
         "name": "rrGG (s)",
         "rawType": "int64",
         "type": "integer"
        },
        {
         "name": "rryy (s)",
         "rawType": "int64",
         "type": "integer"
        },
        {
         "name": "Autos r_0",
         "rawType": "int64",
         "type": "integer"
        },
        {
         "name": "Autos r_1",
         "rawType": "int64",
         "type": "integer"
        }
       ],
       "ref": "7d4f0ac2-6f68-4848-b6c7-512e3c0adebc",
       "rows": [
        [
         "0",
         "1",
         "73.55250905328505",
         "17",
         "4",
         "56",
         "2",
         "4500",
         "26000"
        ],
        [
         "1",
         "2",
         "47.47444021968737",
         "48",
         "5",
         "57",
         "2",
         "18000",
         "10000"
        ],
        [
         "2",
         "3",
         "37.7914551607445",
         "27",
         "2",
         "30",
         "4",
         "15000",
         "2000"
        ],
        [
         "3",
         "4",
         "84.61223312175419",
         "13",
         "4",
         "58",
         "3",
         "25500",
         "26000"
        ],
        [
         "4",
         "5",
         "56.97496763055676",
         "18",
         "3",
         "15",
         "3",
         "6000",
         "12000"
        ],
        [
         "5",
         "6",
         "61.58504331965344",
         "21",
         "3",
         "44",
         "5",
         "25500",
         "24000"
        ],
        [
         "6",
         "7",
         "82.03997779011661",
         "34",
         "4",
         "11",
         "4",
         "16500",
         "12000"
        ],
        [
         "7",
         "8",
         "44.78804578211106",
         "39",
         "5",
         "43",
         "5",
         "12000",
         "4000"
        ],
        [
         "8",
         "9",
         "45.65331083930831",
         "36",
         "4",
         "55",
         "4",
         "27000",
         "4000"
        ],
        [
         "9",
         "10",
         "35.88729421696919",
         "24",
         "2",
         "31",
         "2",
         "6000",
         "14000"
        ],
        [
         "10",
         "11",
         "67.8757946210269",
         "60",
         "3",
         "28",
         "4",
         "12000",
         "2000"
        ],
        [
         "11",
         "12",
         "74.88877338877339",
         "50",
         "2",
         "19",
         "4",
         "4500",
         "28000"
        ],
        [
         "12",
         "13",
         "58.1830035971223",
         "58",
         "3",
         "35",
         "2",
         "7500",
         "6000"
        ],
        [
         "13",
         "14",
         "55.32757876564523",
         "32",
         "4",
         "24",
         "2",
         "16500",
         "2000"
        ],
        [
         "14",
         "15",
         "43.85684210526316",
         "32",
         "2",
         "56",
         "3",
         "6000",
         "2000"
        ],
        [
         "15",
         "16",
         "76.56404849762784",
         "12",
         "2",
         "39",
         "3",
         "3000",
         "4000"
        ],
        [
         "16",
         "17",
         "43.602878916172735",
         "38",
         "5",
         "44",
         "3",
         "19500",
         "6000"
        ],
        [
         "17",
         "18",
         "56.81088196577446",
         "26",
         "5",
         "49",
         "4",
         "16500",
         "16000"
        ],
        [
         "18",
         "19",
         "43.99110922946655",
         "39",
         "2",
         "50",
         "4",
         "22500",
         "16000"
        ],
        [
         "19",
         "20",
         "93.21604548325963",
         "58",
         "2",
         "10",
         "3",
         "25500",
         "20000"
        ],
        [
         "20",
         "21",
         "50.79041154009334",
         "23",
         "5",
         "38",
         "3",
         "15000",
         "14000"
        ],
        [
         "21",
         "22",
         "58.44307149161518",
         "58",
         "5",
         "40",
         "5",
         "12000",
         "22000"
        ],
        [
         "22",
         "23",
         "71.14856307842182",
         "16",
         "5",
         "10",
         "2",
         "27000",
         "6000"
        ],
        [
         "23",
         "24",
         "41.93110735418428",
         "40",
         "5",
         "34",
         "2",
         "24000",
         "2000"
        ],
        [
         "24",
         "25",
         "76.45233050847457",
         "46",
         "4",
         "17",
         "4",
         "10500",
         "10000"
        ],
        [
         "25",
         "26",
         "56.58572058175408",
         "27",
         "5",
         "53",
         "4",
         "22500",
         "4000"
        ],
        [
         "26",
         "27",
         "31.71886872097932",
         "11",
         "2",
         "14",
         "3",
         "18000",
         "4000"
        ],
        [
         "27",
         "28",
         "39.09775708844689",
         "34",
         "3",
         "35",
         "2",
         "16500",
         "22000"
        ],
        [
         "28",
         "29",
         "69.92690058479532",
         "22",
         "2",
         "12",
         "5",
         "1500",
         "4000"
        ],
        [
         "29",
         "30",
         "45.28765379719983",
         "54",
         "2",
         "49",
         "2",
         "15000",
         "28000"
        ],
        [
         "30",
         "31",
         "46.892887383573246",
         "52",
         "2",
         "60",
         "2",
         "6000",
         "22000"
        ],
        [
         "31",
         "32",
         "48.080795262267344",
         "60",
         "3",
         "50",
         "3",
         "9000",
         "2000"
        ],
        [
         "32",
         "33",
         "41.208280523869874",
         "36",
         "2",
         "43",
         "3",
         "22500",
         "6000"
        ],
        [
         "33",
         "34",
         "63.47072278133577",
         "19",
         "5",
         "37",
         "5",
         "10500",
         "16000"
        ],
        [
         "34",
         "35",
         "58.47092511013216",
         "20",
         "3",
         "37",
         "5",
         "19500",
         "16000"
        ],
        [
         "35",
         "36",
         "66.66618566618567",
         "53",
         "3",
         "26",
         "3",
         "16500",
         "20000"
        ],
        [
         "36",
         "37",
         "79.72",
         "14",
         "5",
         "52",
         "4",
         "10500",
         "14000"
        ],
        [
         "37",
         "38",
         "45.76754015215554",
         "51",
         "5",
         "41",
         "2",
         "21000",
         "10000"
        ],
        [
         "38",
         "39",
         "87.90994702766334",
         "48",
         "5",
         "12",
         "4",
         "3000",
         "2000"
        ],
        [
         "39",
         "40",
         "38.81326573722011",
         "25",
         "5",
         "31",
         "3",
         "15000",
         "26000"
        ],
        [
         "40",
         "41",
         "81.2713004484305",
         "14",
         "5",
         "59",
         "2",
         "12000",
         "24000"
        ],
        [
         "41",
         "42",
         "41.444959932517925",
         "38",
         "4",
         "39",
         "2",
         "7500",
         "20000"
        ],
        [
         "42",
         "43",
         "41.22348964934516",
         "41",
         "2",
         "37",
         "3",
         "3000",
         "2000"
        ],
        [
         "43",
         "44",
         "58.34590092064884",
         "34",
         "4",
         "25",
         "4",
         "3000",
         "28000"
        ],
        [
         "44",
         "45",
         "49.92178301093356",
         "58",
         "3",
         "58",
         "5",
         "27000",
         "8000"
        ],
        [
         "45",
         "46",
         "45.437156157427",
         "38",
         "5",
         "46",
         "5",
         "27000",
         "28000"
        ],
        [
         "46",
         "47",
         "64.2550831792976",
         "38",
         "5",
         "23",
         "3",
         "10500",
         "24000"
        ],
        [
         "47",
         "48",
         "62.0503663003663",
         "51",
         "3",
         "30",
         "4",
         "16500",
         "26000"
        ],
        [
         "48",
         "49",
         "79.53451131971286",
         "59",
         "2",
         "17",
         "2",
         "6000",
         "16000"
        ],
        [
         "49",
         "50",
         "77.83484767504008",
         "36",
         "2",
         "12",
         "2",
         "3000",
         "22000"
        ]
       ],
       "shape": {
        "columns": 8,
        "rows": 1000
       }
      },
      "text/html": [
       "<div>\n",
       "<style scoped>\n",
       "    .dataframe tbody tr th:only-of-type {\n",
       "        vertical-align: middle;\n",
       "    }\n",
       "\n",
       "    .dataframe tbody tr th {\n",
       "        vertical-align: top;\n",
       "    }\n",
       "\n",
       "    .dataframe thead th {\n",
       "        text-align: right;\n",
       "    }\n",
       "</style>\n",
       "<table border=\"1\" class=\"dataframe\">\n",
       "  <thead>\n",
       "    <tr style=\"text-align: right;\">\n",
       "      <th></th>\n",
       "      <th>Simulation</th>\n",
       "      <th>Tiempo promedio</th>\n",
       "      <th>GGrr (s)</th>\n",
       "      <th>yyrr (s)</th>\n",
       "      <th>rrGG (s)</th>\n",
       "      <th>rryy (s)</th>\n",
       "      <th>Autos r_0</th>\n",
       "      <th>Autos r_1</th>\n",
       "    </tr>\n",
       "  </thead>\n",
       "  <tbody>\n",
       "    <tr>\n",
       "      <th>0</th>\n",
       "      <td>1</td>\n",
       "      <td>73.552509</td>\n",
       "      <td>17</td>\n",
       "      <td>4</td>\n",
       "      <td>56</td>\n",
       "      <td>2</td>\n",
       "      <td>4500</td>\n",
       "      <td>26000</td>\n",
       "    </tr>\n",
       "    <tr>\n",
       "      <th>1</th>\n",
       "      <td>2</td>\n",
       "      <td>47.474440</td>\n",
       "      <td>48</td>\n",
       "      <td>5</td>\n",
       "      <td>57</td>\n",
       "      <td>2</td>\n",
       "      <td>18000</td>\n",
       "      <td>10000</td>\n",
       "    </tr>\n",
       "    <tr>\n",
       "      <th>2</th>\n",
       "      <td>3</td>\n",
       "      <td>37.791455</td>\n",
       "      <td>27</td>\n",
       "      <td>2</td>\n",
       "      <td>30</td>\n",
       "      <td>4</td>\n",
       "      <td>15000</td>\n",
       "      <td>2000</td>\n",
       "    </tr>\n",
       "    <tr>\n",
       "      <th>3</th>\n",
       "      <td>4</td>\n",
       "      <td>84.612233</td>\n",
       "      <td>13</td>\n",
       "      <td>4</td>\n",
       "      <td>58</td>\n",
       "      <td>3</td>\n",
       "      <td>25500</td>\n",
       "      <td>26000</td>\n",
       "    </tr>\n",
       "    <tr>\n",
       "      <th>4</th>\n",
       "      <td>5</td>\n",
       "      <td>56.974968</td>\n",
       "      <td>18</td>\n",
       "      <td>3</td>\n",
       "      <td>15</td>\n",
       "      <td>3</td>\n",
       "      <td>6000</td>\n",
       "      <td>12000</td>\n",
       "    </tr>\n",
       "    <tr>\n",
       "      <th>...</th>\n",
       "      <td>...</td>\n",
       "      <td>...</td>\n",
       "      <td>...</td>\n",
       "      <td>...</td>\n",
       "      <td>...</td>\n",
       "      <td>...</td>\n",
       "      <td>...</td>\n",
       "      <td>...</td>\n",
       "    </tr>\n",
       "    <tr>\n",
       "      <th>995</th>\n",
       "      <td>796</td>\n",
       "      <td>65.317847</td>\n",
       "      <td>10</td>\n",
       "      <td>5</td>\n",
       "      <td>16</td>\n",
       "      <td>2</td>\n",
       "      <td>15500</td>\n",
       "      <td>18000</td>\n",
       "    </tr>\n",
       "    <tr>\n",
       "      <th>996</th>\n",
       "      <td>797</td>\n",
       "      <td>36.361217</td>\n",
       "      <td>24</td>\n",
       "      <td>2</td>\n",
       "      <td>21</td>\n",
       "      <td>4</td>\n",
       "      <td>7500</td>\n",
       "      <td>20000</td>\n",
       "    </tr>\n",
       "    <tr>\n",
       "      <th>997</th>\n",
       "      <td>798</td>\n",
       "      <td>47.837209</td>\n",
       "      <td>57</td>\n",
       "      <td>2</td>\n",
       "      <td>58</td>\n",
       "      <td>3</td>\n",
       "      <td>3500</td>\n",
       "      <td>28000</td>\n",
       "    </tr>\n",
       "    <tr>\n",
       "      <th>998</th>\n",
       "      <td>799</td>\n",
       "      <td>54.464746</td>\n",
       "      <td>60</td>\n",
       "      <td>4</td>\n",
       "      <td>44</td>\n",
       "      <td>4</td>\n",
       "      <td>13500</td>\n",
       "      <td>4000</td>\n",
       "    </tr>\n",
       "    <tr>\n",
       "      <th>999</th>\n",
       "      <td>800</td>\n",
       "      <td>59.315766</td>\n",
       "      <td>24</td>\n",
       "      <td>4</td>\n",
       "      <td>50</td>\n",
       "      <td>4</td>\n",
       "      <td>21500</td>\n",
       "      <td>16000</td>\n",
       "    </tr>\n",
       "  </tbody>\n",
       "</table>\n",
       "<p>1000 rows × 8 columns</p>\n",
       "</div>"
      ],
      "text/plain": [
       "     Simulation  Tiempo promedio  GGrr (s)  yyrr (s)  rrGG (s)  rryy (s)  \\\n",
       "0             1        73.552509        17         4        56         2   \n",
       "1             2        47.474440        48         5        57         2   \n",
       "2             3        37.791455        27         2        30         4   \n",
       "3             4        84.612233        13         4        58         3   \n",
       "4             5        56.974968        18         3        15         3   \n",
       "..          ...              ...       ...       ...       ...       ...   \n",
       "995         796        65.317847        10         5        16         2   \n",
       "996         797        36.361217        24         2        21         4   \n",
       "997         798        47.837209        57         2        58         3   \n",
       "998         799        54.464746        60         4        44         4   \n",
       "999         800        59.315766        24         4        50         4   \n",
       "\n",
       "     Autos r_0  Autos r_1  \n",
       "0         4500      26000  \n",
       "1        18000      10000  \n",
       "2        15000       2000  \n",
       "3        25500      26000  \n",
       "4         6000      12000  \n",
       "..         ...        ...  \n",
       "995      15500      18000  \n",
       "996       7500      20000  \n",
       "997       3500      28000  \n",
       "998      13500       4000  \n",
       "999      21500      16000  \n",
       "\n",
       "[1000 rows x 8 columns]"
      ]
     },
     "execution_count": 81,
     "metadata": {},
     "output_type": "execute_result"
    }
   ],
   "source": [
    "df"
   ]
  },
  {
   "cell_type": "code",
   "execution_count": 82,
   "metadata": {},
   "outputs": [],
   "source": [
    "df.to_csv('Valores.csv', index = False)"
   ]
  },
  {
   "cell_type": "code",
   "execution_count": 31,
   "metadata": {},
   "outputs": [],
   "source": [
    "x = [i for i in range(2000,30000, 2000)]"
   ]
  },
  {
   "cell_type": "code",
   "execution_count": 45,
   "metadata": {},
   "outputs": [
    {
     "data": {
      "text/plain": [
       "10"
      ]
     },
     "execution_count": 45,
     "metadata": {},
     "output_type": "execute_result"
    }
   ],
   "source": [
    "rd.randint(5,10)"
   ]
  },
  {
   "cell_type": "code",
   "execution_count": 10,
   "metadata": {},
   "outputs": [
    {
     "name": "stdout",
     "output_type": "stream",
     "text": [
      "1\n",
      "2\n",
      "3\n",
      "4\n",
      "5\n",
      "6\n",
      "7\n",
      "8\n",
      "9\n",
      "10\n",
      "11\n",
      "12\n",
      "13\n",
      "14\n",
      "15\n",
      "16\n",
      "17\n",
      "18\n",
      "19\n",
      "20\n",
      "21\n",
      "22\n",
      "23\n",
      "24\n",
      "25\n",
      "26\n",
      "27\n",
      "28\n",
      "29\n",
      "30\n",
      "31\n",
      "32\n",
      "33\n",
      "34\n",
      "35\n",
      "36\n",
      "37\n",
      "38\n",
      "39\n",
      "40\n",
      "41\n",
      "42\n",
      "43\n",
      "44\n",
      "45\n",
      "46\n",
      "47\n",
      "48\n",
      "49\n",
      "50\n",
      "51\n",
      "52\n",
      "53\n",
      "54\n",
      "55\n",
      "56\n",
      "57\n",
      "58\n",
      "59\n",
      "60\n",
      "61\n",
      "62\n",
      "63\n",
      "64\n",
      "65\n",
      "66\n",
      "67\n",
      "68\n",
      "69\n",
      "70\n",
      "71\n",
      "72\n",
      "73\n",
      "74\n",
      "75\n",
      "76\n",
      "77\n",
      "78\n",
      "79\n",
      "80\n",
      "81\n",
      "82\n",
      "83\n",
      "84\n",
      "85\n",
      "86\n",
      "87\n",
      "88\n",
      "89\n",
      "90\n",
      "91\n",
      "92\n",
      "93\n",
      "94\n",
      "95\n",
      "96\n",
      "97\n",
      "98\n",
      "99\n",
      "100\n"
     ]
    },
    {
     "data": {
      "application/vnd.microsoft.datawrangler.viewer.v0+json": {
       "columns": [
        {
         "name": "index",
         "rawType": "int64",
         "type": "integer"
        },
        {
         "name": "Simulation",
         "rawType": "int64",
         "type": "integer"
        },
        {
         "name": "Tiempo promedio",
         "rawType": "float64",
         "type": "float"
        },
        {
         "name": "Autos r_0",
         "rawType": "int64",
         "type": "integer"
        },
        {
         "name": "Autos r_1",
         "rawType": "int64",
         "type": "integer"
        }
       ],
       "ref": "f520c94d-fc88-45e2-a235-494372814419",
       "rows": [
        [
         "0",
         "1",
         "32.73141891891892",
         "19500",
         "14000"
        ],
        [
         "1",
         "2",
         "32.67778716216216",
         "17500",
         "4000"
        ],
        [
         "2",
         "3",
         "32.64683544303797",
         "11500",
         "20000"
        ],
        [
         "3",
         "4",
         "32.552742616033754",
         "3500",
         "2000"
        ],
        [
         "4",
         "5",
         "32.60379746835443",
         "23500",
         "8000"
        ],
        [
         "5",
         "6",
         "32.90743871513102",
         "5500",
         "18000"
        ],
        [
         "6",
         "7",
         "32.60379746835443",
         "23500",
         "20000"
        ],
        [
         "7",
         "8",
         "32.7927548441449",
         "21500",
         "28000"
        ],
        [
         "8",
         "9",
         "32.79198312236287",
         "15500",
         "8000"
        ],
        [
         "9",
         "10",
         "32.846641318124206",
         "9500",
         "28000"
        ],
        [
         "10",
         "11",
         "32.81342338539468",
         "13500",
         "14000"
        ],
        [
         "11",
         "12",
         "32.846641318124206",
         "9500",
         "18000"
        ],
        [
         "12",
         "13",
         "32.823902027027025",
         "5500",
         "14000"
        ],
        [
         "13",
         "14",
         "32.823902027027025",
         "5500",
         "28000"
        ],
        [
         "14",
         "15",
         "32.67778716216216",
         "17500",
         "4000"
        ],
        [
         "15",
         "16",
         "32.7760438633488",
         "19500",
         "8000"
        ],
        [
         "16",
         "17",
         "32.70236087689713",
         "3500",
         "4000"
        ],
        [
         "17",
         "18",
         "32.6718684099536",
         "1500",
         "20000"
        ],
        [
         "18",
         "19",
         "32.711871567384875",
         "7500",
         "10000"
        ],
        [
         "19",
         "20",
         "32.91684254959899",
         "15500",
         "6000"
        ],
        [
         "20",
         "21",
         "32.79198312236287",
         "15500",
         "28000"
        ],
        [
         "21",
         "22",
         "32.79198312236287",
         "15500",
         "12000"
        ],
        [
         "22",
         "23",
         "32.64683544303797",
         "11500",
         "6000"
        ],
        [
         "23",
         "24",
         "32.48523206751055",
         "3500",
         "24000"
        ],
        [
         "24",
         "25",
         "32.64683544303797",
         "11500",
         "22000"
        ],
        [
         "25",
         "26",
         "32.711871567384875",
         "7500",
         "16000"
        ],
        [
         "26",
         "27",
         "32.7927548441449",
         "21500",
         "12000"
        ],
        [
         "27",
         "28",
         "32.73141891891892",
         "19500",
         "18000"
        ],
        [
         "28",
         "29",
         "32.823902027027025",
         "5500",
         "12000"
        ],
        [
         "29",
         "30",
         "32.48037146475306",
         "11500",
         "16000"
        ],
        [
         "30",
         "31",
         "32.823902027027025",
         "5500",
         "26000"
        ],
        [
         "31",
         "32",
         "32.67778716216216",
         "17500",
         "16000"
        ],
        [
         "32",
         "33",
         "32.60379746835443",
         "23500",
         "22000"
        ],
        [
         "33",
         "34",
         "32.60379746835443",
         "23500",
         "12000"
        ],
        [
         "34",
         "35",
         "32.51499788762146",
         "1500",
         "28000"
        ],
        [
         "35",
         "36",
         "32.846641318124206",
         "9500",
         "6000"
        ],
        [
         "36",
         "37",
         "32.81342338539468",
         "13500",
         "22000"
        ],
        [
         "37",
         "38",
         "32.7927548441449",
         "21500",
         "14000"
        ],
        [
         "38",
         "39",
         "32.79198312236287",
         "15500",
         "24000"
        ],
        [
         "39",
         "40",
         "32.7927548441449",
         "21500",
         "24000"
        ],
        [
         "40",
         "41",
         "32.60379746835443",
         "23500",
         "20000"
        ],
        [
         "41",
         "42",
         "32.7927548441449",
         "21500",
         "20000"
        ],
        [
         "42",
         "43",
         "32.81342338539468",
         "13500",
         "8000"
        ],
        [
         "43",
         "44",
         "32.869198312236286",
         "21500",
         "2000"
        ],
        [
         "44",
         "45",
         "32.6718684099536",
         "1500",
         "16000"
        ],
        [
         "45",
         "46",
         "32.60379746835443",
         "23500",
         "2000"
        ],
        [
         "46",
         "47",
         "32.79198312236287",
         "15500",
         "10000"
        ],
        [
         "47",
         "48",
         "32.79198312236287",
         "15500",
         "22000"
        ],
        [
         "48",
         "49",
         "32.46534234995774",
         "5500",
         "6000"
        ],
        [
         "49",
         "50",
         "32.823902027027025",
         "5500",
         "12000"
        ]
       ],
       "shape": {
        "columns": 4,
        "rows": 100
       }
      },
      "text/html": [
       "<div>\n",
       "<style scoped>\n",
       "    .dataframe tbody tr th:only-of-type {\n",
       "        vertical-align: middle;\n",
       "    }\n",
       "\n",
       "    .dataframe tbody tr th {\n",
       "        vertical-align: top;\n",
       "    }\n",
       "\n",
       "    .dataframe thead th {\n",
       "        text-align: right;\n",
       "    }\n",
       "</style>\n",
       "<table border=\"1\" class=\"dataframe\">\n",
       "  <thead>\n",
       "    <tr style=\"text-align: right;\">\n",
       "      <th></th>\n",
       "      <th>Simulation</th>\n",
       "      <th>Tiempo promedio</th>\n",
       "      <th>Autos r_0</th>\n",
       "      <th>Autos r_1</th>\n",
       "    </tr>\n",
       "  </thead>\n",
       "  <tbody>\n",
       "    <tr>\n",
       "      <th>0</th>\n",
       "      <td>1</td>\n",
       "      <td>32.731419</td>\n",
       "      <td>19500</td>\n",
       "      <td>14000</td>\n",
       "    </tr>\n",
       "    <tr>\n",
       "      <th>1</th>\n",
       "      <td>2</td>\n",
       "      <td>32.677787</td>\n",
       "      <td>17500</td>\n",
       "      <td>4000</td>\n",
       "    </tr>\n",
       "    <tr>\n",
       "      <th>2</th>\n",
       "      <td>3</td>\n",
       "      <td>32.646835</td>\n",
       "      <td>11500</td>\n",
       "      <td>20000</td>\n",
       "    </tr>\n",
       "    <tr>\n",
       "      <th>3</th>\n",
       "      <td>4</td>\n",
       "      <td>32.552743</td>\n",
       "      <td>3500</td>\n",
       "      <td>2000</td>\n",
       "    </tr>\n",
       "    <tr>\n",
       "      <th>4</th>\n",
       "      <td>5</td>\n",
       "      <td>32.603797</td>\n",
       "      <td>23500</td>\n",
       "      <td>8000</td>\n",
       "    </tr>\n",
       "    <tr>\n",
       "      <th>...</th>\n",
       "      <td>...</td>\n",
       "      <td>...</td>\n",
       "      <td>...</td>\n",
       "      <td>...</td>\n",
       "    </tr>\n",
       "    <tr>\n",
       "      <th>95</th>\n",
       "      <td>96</td>\n",
       "      <td>32.568958</td>\n",
       "      <td>7500</td>\n",
       "      <td>22000</td>\n",
       "    </tr>\n",
       "    <tr>\n",
       "      <th>96</th>\n",
       "      <td>97</td>\n",
       "      <td>32.646835</td>\n",
       "      <td>11500</td>\n",
       "      <td>18000</td>\n",
       "    </tr>\n",
       "    <tr>\n",
       "      <th>97</th>\n",
       "      <td>98</td>\n",
       "      <td>32.603797</td>\n",
       "      <td>23500</td>\n",
       "      <td>6000</td>\n",
       "    </tr>\n",
       "    <tr>\n",
       "      <th>98</th>\n",
       "      <td>99</td>\n",
       "      <td>32.846641</td>\n",
       "      <td>9500</td>\n",
       "      <td>28000</td>\n",
       "    </tr>\n",
       "    <tr>\n",
       "      <th>99</th>\n",
       "      <td>100</td>\n",
       "      <td>32.485232</td>\n",
       "      <td>3500</td>\n",
       "      <td>10000</td>\n",
       "    </tr>\n",
       "  </tbody>\n",
       "</table>\n",
       "<p>100 rows × 4 columns</p>\n",
       "</div>"
      ],
      "text/plain": [
       "    Simulation  Tiempo promedio  Autos r_0  Autos r_1\n",
       "0            1        32.731419      19500      14000\n",
       "1            2        32.677787      17500       4000\n",
       "2            3        32.646835      11500      20000\n",
       "3            4        32.552743       3500       2000\n",
       "4            5        32.603797      23500       8000\n",
       "..         ...              ...        ...        ...\n",
       "95          96        32.568958       7500      22000\n",
       "96          97        32.646835      11500      18000\n",
       "97          98        32.603797      23500       6000\n",
       "98          99        32.846641       9500      28000\n",
       "99         100        32.485232       3500      10000\n",
       "\n",
       "[100 rows x 4 columns]"
      ]
     },
     "execution_count": 10,
     "metadata": {},
     "output_type": "execute_result"
    }
   ],
   "source": [
    "import random as rd\n",
    "import pandas as pd\n",
    "import traci\n",
    "import sumolib\n",
    "\n",
    "avgtimes=[]#tiempos promedio\n",
    "ggrrs = []#(verde Norte-Sur)\n",
    "yyrrs = []#(amarillo Norte-Sur)\n",
    "rrggs = []# (verde Este-Oeste)\n",
    "rryys = []#(amarillo Este-Oeste)\n",
    "n0s = []#Tiempos ruta 0\n",
    "n1s = []#Tiempos ruta 1\n",
    "num_simulations = 100\n",
    "\n",
    "f0 = [i for i in range(1500,25000, 2000)]\n",
    "f1 = [i for i in range(2000,30000, 2000)]\n",
    "\n",
    "\n",
    "for i in range(num_simulations):\n",
    "\n",
    "    n0 = rd.choice(f0)\n",
    "    n1 = rd.choice(f1)\n",
    "\n",
    "    n0s.append(n0)\n",
    "    n1s.append(n1)\n",
    "\n",
    "    sumoBinary = \"sumo\"\n",
    "    sumoCmd = [sumoBinary, \"-c\", \"nt1.sumocfg\"]\n",
    "\n",
    "    traci.start(sumoCmd)\n",
    "\n",
    "    n_vehiculos(n0, n1)\n",
    "\n",
    "    #ggrr = rd.randint(10,60) #(verde Norte-Sur) \n",
    "    #yyrr = rd.randint(2,5) #(amarillo Norte-Sur)\n",
    "    #rrgg = rd.randint(10,60) # (verde Este-Oeste)\n",
    "    #rryy = rd.randint(2,5) #(amarillo Este-Oeste)\n",
    "\n",
    "    #ggrrs.append(ggrr)\n",
    "    #yyrrs.append(yyrr)\n",
    "    #rrggs.append(rrgg)\n",
    "    #rryys.append(rryy)\n",
    "\n",
    "    #new_logic(ggrr, yyrr, rrgg, rryy)\n",
    "\n",
    "    depart_times = {}\n",
    "    arrival_times = {}\n",
    "    simulation_durations = {}\n",
    "\n",
    "    for step in range(3600):\n",
    "        traci.simulationStep()\n",
    "\n",
    "        departed_vehicles = traci.simulation.getDepartedIDList()\n",
    "        current_time = traci.simulation.getTime()\n",
    "        for veh_id in departed_vehicles:\n",
    "            if veh_id not in depart_times:\n",
    "                depart_times[veh_id] = current_time\n",
    "        \n",
    "        \n",
    "\n",
    "        arrived_vehicles = traci.simulation.getArrivedIDList()\n",
    "        current_time = traci.simulation.getTime()\n",
    "        for veh_id in arrived_vehicles:\n",
    "            if veh_id not in arrival_times:\n",
    "                arrival_times[veh_id] = current_time\n",
    "\n",
    "\n",
    "\n",
    "    for veh_id, arrival_time in arrival_times.items():\n",
    "        if veh_id in depart_times:\n",
    "            departure_time = depart_times[veh_id]\n",
    "            duration = arrival_time - departure_time\n",
    "            simulation_durations[veh_id] = duration\n",
    "\n",
    "    average = sum(simulation_durations.values())/len(simulation_durations)\n",
    "\n",
    "    avgtimes.append(average)\n",
    "\n",
    "    traci.close()\n",
    "    print(i+1)\n",
    "data = {\n",
    "    'Simulation' : range(1, num_simulations + 1),\n",
    "    'Tiempo promedio' : avgtimes,\n",
    "    'Autos r_0': n0s,\n",
    "    'Autos r_1': n1s\n",
    "}\n",
    "\n",
    "df100 = pd.DataFrame(data)\n",
    "df100"
   ]
  },
  {
   "cell_type": "code",
   "execution_count": null,
   "metadata": {},
   "outputs": [
    {
     "data": {
      "image/png": "[encoded data removed]",
      "text/plain": [
       "<Figure size 800x600 with 1 Axes>"
      ]
     },
     "metadata": {},
     "output_type": "display_data"
    }
   ],
   "source": [
    "import matplotlib.pyplot as plt\n",
    "import seaborn as sns\n",
    "\n",
    "\n",
    "plt.figure(figsize=(8, 6))\n",
    "sns.scatterplot(x=df100['Autos r_1'], y=df100['Tiempo promedio'])\n",
    "plt.grid(True)\n",
    "plt.show()"
   ]
  },
  {
   "cell_type": "code",
   "execution_count": null,
   "metadata": {},
   "outputs": [],
   "source": []
  }
 ],
 "metadata": {
  "kernelspec": {
   "display_name": "base",
   "language": "python",
   "name": "python3"
  },
  "language_info": {
   "codemirror_mode": {
    "name": "ipython",
    "version": 3
   },
   "file_extension": ".py",
   "mimetype": "text/x-python",
   "name": "python",
   "nbconvert_exporter": "python",
   "pygments_lexer": "ipython3",
   "version": "3.12.7"
  }
 },
 "nbformat": 4,
 "nbformat_minor": 4
}
