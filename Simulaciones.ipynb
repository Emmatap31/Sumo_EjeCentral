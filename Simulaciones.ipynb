{
 "cells": [
  {
   "cell_type": "code",
   "execution_count": 1,
   "metadata": {},
   "outputs": [],
   "source": [
    "import traci\n",
    "import sumolib"
   ]
  },
  {
   "cell_type": "code",
   "execution_count": 3,
   "metadata": {},
   "outputs": [
    {
     "ename": "TraCIException",
     "evalue": "Connection 'default' is already active.",
     "output_type": "error",
     "traceback": [
      "\u001b[1;31m---------------------------------------------------------------------------\u001b[0m",
      "\u001b[1;31mTraCIException\u001b[0m                            Traceback (most recent call last)",
      "Cell \u001b[1;32mIn[3], line 4\u001b[0m\n\u001b[0;32m      1\u001b[0m sumoBinary \u001b[38;5;241m=\u001b[39m \u001b[38;5;124m\"\u001b[39m\u001b[38;5;124msumo\u001b[39m\u001b[38;5;124m\"\u001b[39m\n\u001b[0;32m      2\u001b[0m sumoCmd \u001b[38;5;241m=\u001b[39m [sumoBinary, \u001b[38;5;124m\"\u001b[39m\u001b[38;5;124m-c\u001b[39m\u001b[38;5;124m\"\u001b[39m, \u001b[38;5;124m\"\u001b[39m\u001b[38;5;124mnt1.sumocfg\u001b[39m\u001b[38;5;124m\"\u001b[39m]\n\u001b[1;32m----> 4\u001b[0m \u001b[43mtraci\u001b[49m\u001b[38;5;241;43m.\u001b[39;49m\u001b[43mstart\u001b[49m\u001b[43m(\u001b[49m\u001b[43msumoCmd\u001b[49m\u001b[43m)\u001b[49m\n",
      "File \u001b[1;32mC:\\Program Files (x86)\\Eclipse\\Sumo\\tools\\traci\\main.py:139\u001b[0m, in \u001b[0;36mstart\u001b[1;34m(cmd, port, numRetries, label, verbose, traceFile, traceGetters, stdout, doSwitch)\u001b[0m\n\u001b[0;32m    124\u001b[0m \u001b[38;5;250m\u001b[39m\u001b[38;5;124;03m\"\"\"\u001b[39;00m\n\u001b[0;32m    125\u001b[0m \u001b[38;5;124;03mStart a sumo server using cmd, establish a connection to it and\u001b[39;00m\n\u001b[0;32m    126\u001b[0m \u001b[38;5;124;03mstore it under the given label. This method is not thread-safe.\u001b[39;00m\n\u001b[1;32m   (...)\u001b[0m\n\u001b[0;32m    136\u001b[0m \u001b[38;5;124;03m- stdout (iostream): where to pipe sumo process stdout\u001b[39;00m\n\u001b[0;32m    137\u001b[0m \u001b[38;5;124;03m\"\"\"\u001b[39;00m\n\u001b[0;32m    138\u001b[0m \u001b[38;5;28;01mif\u001b[39;00m connection\u001b[38;5;241m.\u001b[39mhas(label):\n\u001b[1;32m--> 139\u001b[0m     \u001b[38;5;28;01mraise\u001b[39;00m TraCIException(\u001b[38;5;124m\"\u001b[39m\u001b[38;5;124mConnection \u001b[39m\u001b[38;5;124m'\u001b[39m\u001b[38;5;132;01m%s\u001b[39;00m\u001b[38;5;124m'\u001b[39m\u001b[38;5;124m is already active.\u001b[39m\u001b[38;5;124m\"\u001b[39m \u001b[38;5;241m%\u001b[39m label)\n\u001b[0;32m    140\u001b[0m \u001b[38;5;28;01mwhile\u001b[39;00m numRetries \u001b[38;5;241m>\u001b[39m\u001b[38;5;241m=\u001b[39m \u001b[38;5;241m0\u001b[39m \u001b[38;5;129;01mand\u001b[39;00m \u001b[38;5;129;01mnot\u001b[39;00m connection\u001b[38;5;241m.\u001b[39mhas(label):\n\u001b[0;32m    141\u001b[0m     sumoPort \u001b[38;5;241m=\u001b[39m getFreeSocketPort() \u001b[38;5;28;01mif\u001b[39;00m port \u001b[38;5;129;01mis\u001b[39;00m \u001b[38;5;28;01mNone\u001b[39;00m \u001b[38;5;28;01melse\u001b[39;00m port\n",
      "\u001b[1;31mTraCIException\u001b[0m: Connection 'default' is already active."
     ]
    }
   ],
   "source": [
    "sumoBinary = \"sumo\"\n",
    "sumoCmd = [sumoBinary, \"-c\", \"nt1.sumocfg\"]\n",
    "\n",
    "traci.start(sumoCmd)"
   ]
  },
  {
   "cell_type": "code",
   "execution_count": null,
   "metadata": {},
   "outputs": [],
   "source": [
    "tls_ids = traci.trafficlight.getIDList()\n",
    "print(\"Semáforos\", tls_ids)"
   ]
  },
  {
   "cell_type": "code",
   "execution_count": null,
   "metadata": {},
   "outputs": [],
   "source": [
    "id_semaforo = tls_ids[0]\n",
    "programa = traci.trafficlight.getAllProgramLogics(id_semaforo)\n",
    "print(programa)"
   ]
  },
  {
   "cell_type": "code",
   "execution_count": null,
   "metadata": {},
   "outputs": [],
   "source": [
    "from traci._trafficlight import Logic, Phase\n",
    "\n",
    "#Crear un nuevo programa con fases personalizadas\n",
    "\n",
    "\n",
    "\n",
    "\n",
    "new_logic = Logic(programID=\"nuevo_programa\", type=0,currentPhaseIndex=0,phases=[Phase(duration=30, state=\"GGrr\", minDur=30, maxDur=30 ), Phase(duration=5, state='yyrr', minDur=5, maxDur=5), Phase(duration=30, state='rrGG', minDur=30, maxDur=30), Phase(duration=5, state='rryy', minDur=5, maxDur=5), Phase(duration=1, state='rrrr', minDur=1.0, maxDur=1.0)])\n",
    "\n",
    "#Aplicar el nuevo programa al semáforo\n",
    "traci.trafficlight.setProgramLogic(id_semaforo, new_logic)\n",
    "\n",
    "\n",
    "traci.trafficlight.setProgram(id_semaforo, \"nuevo_programa\")"
   ]
  },
  {
   "cell_type": "code",
   "execution_count": 1,
   "metadata": {},
   "outputs": [],
   "source": [
    "def new_logic(ggrr, yyrr, rrgg, rryy):\n",
    "\n",
    "    tls_ids = traci.trafficlight.getIDList()\n",
    "    id_semaforo = tls_ids[0]\n",
    "    programa = traci.trafficlight.getAllProgramLogics(id_semaforo)\n",
    "    \n",
    "    from traci._trafficlight import Logic, Phase\n",
    "\n",
    "    new_logic = Logic(programID=\"nuevo_programa\", type=0,currentPhaseIndex=0,phases=[Phase(duration=ggrr, state=\"GGrr\", minDur=ggrr, maxDur=ggrr ), Phase(duration=yyrr, state='yyrr', minDur=yyrr, maxDur=yyrr), Phase(duration=rrgg, state='rrGG', minDur=rrgg, maxDur=rrgg), Phase(duration=rryy, state='rryy', minDur=rryy, maxDur=rryy)])\n",
    "\n",
    "    traci.trafficlight.setProgramLogic(id_semaforo, new_logic)\n",
    "\n",
    "    traci.trafficlight.setProgram(id_semaforo, \"nuevo_programa\")\n",
    "\n",
    "    print(traci.trafficlight.getCompleteRedYellowGreenDefinition(id_semaforo))\n"
   ]
  },
  {
   "cell_type": "code",
   "execution_count": 2,
   "metadata": {},
   "outputs": [],
   "source": [
    "def n_vehiculos(n0, n1):\n",
    "\n",
    "    for i in range(n0):\n",
    "        traci.vehicle.add(\n",
    "            vehID=f\"veh_r0_{i}\",\n",
    "            routeID=\"r_0\", # Asegúrate de tener un tipo definido (por defecto puedes omitir esto si usas default)\n",
    "            depart=i*(3600/(n0+1))\n",
    "        )\n",
    "\n",
    "    for i in range(n1):\n",
    "        traci.vehicle.add(\n",
    "            vehID=f\"veh_r1_{i}\",\n",
    "            routeID=\"r_1\",\n",
    "            depart=i*(3600/(n1+1))\n",
    "        )"
   ]
  },
  {
   "cell_type": "code",
   "execution_count": 11,
   "metadata": {},
   "outputs": [],
   "source": [
    "def avg_time():\n",
    "    depart_times = {}\n",
    "    arrival_times = {}\n",
    "    simulation_durations = {}\n",
    "\n",
    "    for step in range(3600):\n",
    "        traci.simulationStep()\n",
    "\n",
    "        departed_vehicles = traci.simulation.getDepartedIDList()\n",
    "        current_time = traci.simulation.getTime()\n",
    "        for veh_id in departed_vehicles:\n",
    "            if veh_id not in depart_times:\n",
    "                depart_times[veh_id] = current_time\n",
    "        \n",
    "        \n",
    "\n",
    "        arrived_vehicles = traci.simulation.getArrivedIDList()\n",
    "        current_time = traci.simulation.getTime()\n",
    "        for veh_id in arrived_vehicles:\n",
    "            if veh_id not in arrival_times:\n",
    "                arrival_times[veh_id] = current_time\n",
    "\n",
    "\n",
    "\n",
    "    for veh_id, arrival_time in arrival_times.items():\n",
    "        if veh_id in depart_times:\n",
    "            departure_time = depart_times[veh_id]\n",
    "            duration = arrival_time - departure_time\n",
    "            simulation_durations[veh_id] = duration\n",
    "\n",
    "    average = sum(simulation_durations.values())/len(simulation_durations)\n",
    "\n",
    "    return average"
   ]
  },
  {
   "cell_type": "code",
   "execution_count": 9,
   "metadata": {},
   "outputs": [
    {
     "name": "stderr",
     "output_type": "stream",
     "text": [
      "C:\\Users\\emman\\AppData\\Local\\Temp\\ipykernel_16692\\193906455.py:15: UserWarning: Call to deprecated function getCompleteRedYellowGreenDefinition, use getAllProgramLogics instead.\n",
      "  print(traci.trafficlight.getCompleteRedYellowGreenDefinition(id_semaforo))\n"
     ]
    },
    {
     "name": "stdout",
     "output_type": "stream",
     "text": [
      "(Logic(programID='0', type=0, currentPhaseIndex=0, phases=(Phase(duration=15.0, state='GGrr', minDur=15.0, maxDur=15.0), Phase(duration=3.0, state='yyrr', minDur=3.0, maxDur=3.0), Phase(duration=15.0, state='rrGG', minDur=15.0, maxDur=15.0), Phase(duration=3.0, state='rryy', minDur=3.0, maxDur=3.0)), subParameter={}), Logic(programID='nuevo_programa', type=0, currentPhaseIndex=0, phases=(Phase(duration=25.959, state='GGrr', minDur=25.959, maxDur=25.959), Phase(duration=4.523, state='yyrr', minDur=4.523, maxDur=4.523), Phase(duration=46.255, state='rrGG', minDur=46.255, maxDur=46.255), Phase(duration=3.309, state='rryy', minDur=3.309, maxDur=3.309)), subParameter={}))\n",
      "(Logic(programID='0', type=0, currentPhaseIndex=0, phases=(Phase(duration=15.0, state='GGrr', minDur=15.0, maxDur=15.0), Phase(duration=3.0, state='yyrr', minDur=3.0, maxDur=3.0), Phase(duration=15.0, state='rrGG', minDur=15.0, maxDur=15.0), Phase(duration=3.0, state='rryy', minDur=3.0, maxDur=3.0)), subParameter={}), Logic(programID='nuevo_programa', type=0, currentPhaseIndex=0, phases=(Phase(duration=35.818, state='GGrr', minDur=35.818, maxDur=35.818), Phase(duration=2.687, state='yyrr', minDur=2.687, maxDur=2.687), Phase(duration=33.185, state='rrGG', minDur=33.185, maxDur=33.185), Phase(duration=4.832, state='rryy', minDur=4.832, maxDur=4.832)), subParameter={}))\n",
      "(Logic(programID='0', type=0, currentPhaseIndex=0, phases=(Phase(duration=15.0, state='GGrr', minDur=15.0, maxDur=15.0), Phase(duration=3.0, state='yyrr', minDur=3.0, maxDur=3.0), Phase(duration=15.0, state='rrGG', minDur=15.0, maxDur=15.0), Phase(duration=3.0, state='rryy', minDur=3.0, maxDur=3.0)), subParameter={}), Logic(programID='nuevo_programa', type=0, currentPhaseIndex=0, phases=(Phase(duration=59.724, state='GGrr', minDur=59.724, maxDur=59.724), Phase(duration=2.83, state='yyrr', minDur=2.83, maxDur=2.83), Phase(duration=52.933, state='rrGG', minDur=52.933, maxDur=52.933), Phase(duration=4.879, state='rryy', minDur=4.879, maxDur=4.879)), subParameter={}))\n",
      "(Logic(programID='0', type=0, currentPhaseIndex=0, phases=(Phase(duration=15.0, state='GGrr', minDur=15.0, maxDur=15.0), Phase(duration=3.0, state='yyrr', minDur=3.0, maxDur=3.0), Phase(duration=15.0, state='rrGG', minDur=15.0, maxDur=15.0), Phase(duration=3.0, state='rryy', minDur=3.0, maxDur=3.0)), subParameter={}), Logic(programID='nuevo_programa', type=0, currentPhaseIndex=0, phases=(Phase(duration=11.6, state='GGrr', minDur=11.6, maxDur=11.6), Phase(duration=3.594, state='yyrr', minDur=3.594, maxDur=3.594), Phase(duration=36.202, state='rrGG', minDur=36.202, maxDur=36.202), Phase(duration=2.434, state='rryy', minDur=2.434, maxDur=2.434)), subParameter={}))\n",
      "(Logic(programID='0', type=0, currentPhaseIndex=0, phases=(Phase(duration=15.0, state='GGrr', minDur=15.0, maxDur=15.0), Phase(duration=3.0, state='yyrr', minDur=3.0, maxDur=3.0), Phase(duration=15.0, state='rrGG', minDur=15.0, maxDur=15.0), Phase(duration=3.0, state='rryy', minDur=3.0, maxDur=3.0)), subParameter={}), Logic(programID='nuevo_programa', type=0, currentPhaseIndex=0, phases=(Phase(duration=41.626, state='GGrr', minDur=41.626, maxDur=41.626), Phase(duration=3.169, state='yyrr', minDur=3.169, maxDur=3.169), Phase(duration=31.939, state='rrGG', minDur=31.939, maxDur=31.939), Phase(duration=2.856, state='rryy', minDur=2.856, maxDur=2.856)), subParameter={}))\n",
      "(Logic(programID='0', type=0, currentPhaseIndex=0, phases=(Phase(duration=15.0, state='GGrr', minDur=15.0, maxDur=15.0), Phase(duration=3.0, state='yyrr', minDur=3.0, maxDur=3.0), Phase(duration=15.0, state='rrGG', minDur=15.0, maxDur=15.0), Phase(duration=3.0, state='rryy', minDur=3.0, maxDur=3.0)), subParameter={}), Logic(programID='nuevo_programa', type=0, currentPhaseIndex=0, phases=(Phase(duration=31.11, state='GGrr', minDur=31.11, maxDur=31.11), Phase(duration=4.39, state='yyrr', minDur=4.39, maxDur=4.39), Phase(duration=15.021, state='rrGG', minDur=15.021, maxDur=15.021), Phase(duration=4.58, state='rryy', minDur=4.58, maxDur=4.58)), subParameter={}))\n",
      "(Logic(programID='0', type=0, currentPhaseIndex=0, phases=(Phase(duration=15.0, state='GGrr', minDur=15.0, maxDur=15.0), Phase(duration=3.0, state='yyrr', minDur=3.0, maxDur=3.0), Phase(duration=15.0, state='rrGG', minDur=15.0, maxDur=15.0), Phase(duration=3.0, state='rryy', minDur=3.0, maxDur=3.0)), subParameter={}), Logic(programID='nuevo_programa', type=0, currentPhaseIndex=0, phases=(Phase(duration=56.706, state='GGrr', minDur=56.706, maxDur=56.706), Phase(duration=3.913, state='yyrr', minDur=3.913, maxDur=3.913), Phase(duration=46.558, state='rrGG', minDur=46.558, maxDur=46.558), Phase(duration=2.086, state='rryy', minDur=2.086, maxDur=2.086)), subParameter={}))\n",
      "(Logic(programID='0', type=0, currentPhaseIndex=0, phases=(Phase(duration=15.0, state='GGrr', minDur=15.0, maxDur=15.0), Phase(duration=3.0, state='yyrr', minDur=3.0, maxDur=3.0), Phase(duration=15.0, state='rrGG', minDur=15.0, maxDur=15.0), Phase(duration=3.0, state='rryy', minDur=3.0, maxDur=3.0)), subParameter={}), Logic(programID='nuevo_programa', type=0, currentPhaseIndex=0, phases=(Phase(duration=11.431, state='GGrr', minDur=11.431, maxDur=11.431), Phase(duration=4.731, state='yyrr', minDur=4.731, maxDur=4.731), Phase(duration=36.484, state='rrGG', minDur=36.484, maxDur=36.484), Phase(duration=3.833, state='rryy', minDur=3.833, maxDur=3.833)), subParameter={}))\n",
      "(Logic(programID='0', type=0, currentPhaseIndex=0, phases=(Phase(duration=15.0, state='GGrr', minDur=15.0, maxDur=15.0), Phase(duration=3.0, state='yyrr', minDur=3.0, maxDur=3.0), Phase(duration=15.0, state='rrGG', minDur=15.0, maxDur=15.0), Phase(duration=3.0, state='rryy', minDur=3.0, maxDur=3.0)), subParameter={}), Logic(programID='nuevo_programa', type=0, currentPhaseIndex=0, phases=(Phase(duration=17.53, state='GGrr', minDur=17.53, maxDur=17.53), Phase(duration=3.423, state='yyrr', minDur=3.423, maxDur=3.423), Phase(duration=26.741, state='rrGG', minDur=26.741, maxDur=26.741), Phase(duration=2.961, state='rryy', minDur=2.961, maxDur=2.961)), subParameter={}))\n",
      "(Logic(programID='0', type=0, currentPhaseIndex=0, phases=(Phase(duration=15.0, state='GGrr', minDur=15.0, maxDur=15.0), Phase(duration=3.0, state='yyrr', minDur=3.0, maxDur=3.0), Phase(duration=15.0, state='rrGG', minDur=15.0, maxDur=15.0), Phase(duration=3.0, state='rryy', minDur=3.0, maxDur=3.0)), subParameter={}), Logic(programID='nuevo_programa', type=0, currentPhaseIndex=0, phases=(Phase(duration=51.807, state='GGrr', minDur=51.807, maxDur=51.807), Phase(duration=4.419, state='yyrr', minDur=4.419, maxDur=4.419), Phase(duration=21.463, state='rrGG', minDur=21.463, maxDur=21.463), Phase(duration=4.485, state='rryy', minDur=4.485, maxDur=4.485)), subParameter={}))\n",
      "(Logic(programID='0', type=0, currentPhaseIndex=0, phases=(Phase(duration=15.0, state='GGrr', minDur=15.0, maxDur=15.0), Phase(duration=3.0, state='yyrr', minDur=3.0, maxDur=3.0), Phase(duration=15.0, state='rrGG', minDur=15.0, maxDur=15.0), Phase(duration=3.0, state='rryy', minDur=3.0, maxDur=3.0)), subParameter={}), Logic(programID='nuevo_programa', type=0, currentPhaseIndex=0, phases=(Phase(duration=36.748, state='GGrr', minDur=36.748, maxDur=36.748), Phase(duration=3.92, state='yyrr', minDur=3.92, maxDur=3.92), Phase(duration=59.118, state='rrGG', minDur=59.118, maxDur=59.118), Phase(duration=3.603, state='rryy', minDur=3.603, maxDur=3.603)), subParameter={}))\n"
     ]
    },
    {
     "ename": "KeyboardInterrupt",
     "evalue": "",
     "output_type": "error",
     "traceback": [
      "\u001b[1;31m---------------------------------------------------------------------------\u001b[0m",
      "\u001b[1;31mKeyboardInterrupt\u001b[0m                         Traceback (most recent call last)",
      "Cell \u001b[1;32mIn[9], line 48\u001b[0m\n\u001b[0;32m     45\u001b[0m simulation_durations \u001b[38;5;241m=\u001b[39m {}\n\u001b[0;32m     47\u001b[0m \u001b[38;5;28;01mfor\u001b[39;00m step \u001b[38;5;129;01min\u001b[39;00m \u001b[38;5;28mrange\u001b[39m(\u001b[38;5;241m3600\u001b[39m):\n\u001b[1;32m---> 48\u001b[0m     traci\u001b[38;5;241m.\u001b[39msimulationStep()\n\u001b[0;32m     50\u001b[0m     departed_vehicles \u001b[38;5;241m=\u001b[39m traci\u001b[38;5;241m.\u001b[39msimulation\u001b[38;5;241m.\u001b[39mgetDepartedIDList()\n\u001b[0;32m     51\u001b[0m     current_time \u001b[38;5;241m=\u001b[39m traci\u001b[38;5;241m.\u001b[39msimulation\u001b[38;5;241m.\u001b[39mgetTime()\n",
      "File \u001b[1;32mC:\\Program Files (x86)\\Eclipse\\Sumo\\tools\\traci\\main.py:198\u001b[0m, in \u001b[0;36msimulationStep\u001b[1;34m(step)\u001b[0m\n\u001b[0;32m    192\u001b[0m \u001b[38;5;28;01mdef\u001b[39;00m \u001b[38;5;21msimulationStep\u001b[39m(step\u001b[38;5;241m=\u001b[39m\u001b[38;5;241m0\u001b[39m):\n\u001b[0;32m    193\u001b[0m \u001b[38;5;250m    \u001b[39m\u001b[38;5;124;03m\"\"\"simulationStep(float) -> None\u001b[39;00m\n\u001b[0;32m    194\u001b[0m \u001b[38;5;124;03m    Make a simulation step and simulate up to the given second in sim time.\u001b[39;00m\n\u001b[0;32m    195\u001b[0m \u001b[38;5;124;03m    If the given value is 0 or absent, exactly one step is performed.\u001b[39;00m\n\u001b[0;32m    196\u001b[0m \u001b[38;5;124;03m    Values smaller than or equal to the current sim time result in no action.\u001b[39;00m\n\u001b[0;32m    197\u001b[0m \u001b[38;5;124;03m    \"\"\"\u001b[39;00m\n\u001b[1;32m--> 198\u001b[0m     connection\u001b[38;5;241m.\u001b[39mcheck()\u001b[38;5;241m.\u001b[39msimulationStep(step)\n",
      "File \u001b[1;32mC:\\Program Files (x86)\\Eclipse\\Sumo\\tools\\traci\\connection.py:369\u001b[0m, in \u001b[0;36mConnection.simulationStep\u001b[1;34m(self, step)\u001b[0m\n\u001b[0;32m    367\u001b[0m \u001b[38;5;28;01mif\u001b[39;00m \u001b[38;5;28mtype\u001b[39m(step) \u001b[38;5;129;01mis\u001b[39;00m \u001b[38;5;28mint\u001b[39m \u001b[38;5;129;01mand\u001b[39;00m step \u001b[38;5;241m>\u001b[39m\u001b[38;5;241m=\u001b[39m \u001b[38;5;241m1000\u001b[39m:\n\u001b[0;32m    368\u001b[0m     warnings\u001b[38;5;241m.\u001b[39mwarn(\u001b[38;5;124m\"\u001b[39m\u001b[38;5;124mAPI change now handles step as floating point seconds\u001b[39m\u001b[38;5;124m\"\u001b[39m, stacklevel\u001b[38;5;241m=\u001b[39m\u001b[38;5;241m2\u001b[39m)\n\u001b[1;32m--> 369\u001b[0m result \u001b[38;5;241m=\u001b[39m \u001b[38;5;28mself\u001b[39m\u001b[38;5;241m.\u001b[39m_sendCmd(tc\u001b[38;5;241m.\u001b[39mCMD_SIMSTEP, \u001b[38;5;28;01mNone\u001b[39;00m, \u001b[38;5;28;01mNone\u001b[39;00m, \u001b[38;5;124m\"\u001b[39m\u001b[38;5;124mD\u001b[39m\u001b[38;5;124m\"\u001b[39m, step)\n\u001b[0;32m    370\u001b[0m \u001b[38;5;28;01mfor\u001b[39;00m subscriptionResults \u001b[38;5;129;01min\u001b[39;00m \u001b[38;5;28mself\u001b[39m\u001b[38;5;241m.\u001b[39m_subscriptionMapping\u001b[38;5;241m.\u001b[39mvalues():\n\u001b[0;32m    371\u001b[0m     subscriptionResults\u001b[38;5;241m.\u001b[39mreset()\n",
      "File \u001b[1;32mC:\\Program Files (x86)\\Eclipse\\Sumo\\tools\\traci\\connection.py:232\u001b[0m, in \u001b[0;36mConnection._sendCmd\u001b[1;34m(self, cmdID, varID, objID, format, *values)\u001b[0m\n\u001b[0;32m    230\u001b[0m     \u001b[38;5;28mself\u001b[39m\u001b[38;5;241m.\u001b[39m_string \u001b[38;5;241m+\u001b[39m\u001b[38;5;241m=\u001b[39m struct\u001b[38;5;241m.\u001b[39mpack(\u001b[38;5;124m\"\u001b[39m\u001b[38;5;124m!i\u001b[39m\u001b[38;5;124m\"\u001b[39m, \u001b[38;5;28mlen\u001b[39m(objID)) \u001b[38;5;241m+\u001b[39m objID\n\u001b[0;32m    231\u001b[0m \u001b[38;5;28mself\u001b[39m\u001b[38;5;241m.\u001b[39m_string \u001b[38;5;241m+\u001b[39m\u001b[38;5;241m=\u001b[39m packed\n\u001b[1;32m--> 232\u001b[0m \u001b[38;5;28;01mreturn\u001b[39;00m \u001b[38;5;28mself\u001b[39m\u001b[38;5;241m.\u001b[39m_sendExact()\n",
      "File \u001b[1;32mC:\\Program Files (x86)\\Eclipse\\Sumo\\tools\\traci\\connection.py:131\u001b[0m, in \u001b[0;36mConnection._sendExact\u001b[1;34m(self)\u001b[0m\n\u001b[0;32m    129\u001b[0m     \u001b[38;5;28mprint\u001b[39m(\u001b[38;5;124m\"\u001b[39m\u001b[38;5;124msending\u001b[39m\u001b[38;5;124m\"\u001b[39m, Storage(length \u001b[38;5;241m+\u001b[39m \u001b[38;5;28mself\u001b[39m\u001b[38;5;241m.\u001b[39m_string)\u001b[38;5;241m.\u001b[39mgetDebugString())\n\u001b[0;32m    130\u001b[0m \u001b[38;5;28mself\u001b[39m\u001b[38;5;241m.\u001b[39m_socket\u001b[38;5;241m.\u001b[39msend(length \u001b[38;5;241m+\u001b[39m \u001b[38;5;28mself\u001b[39m\u001b[38;5;241m.\u001b[39m_string)\n\u001b[1;32m--> 131\u001b[0m result \u001b[38;5;241m=\u001b[39m \u001b[38;5;28mself\u001b[39m\u001b[38;5;241m.\u001b[39m_recvExact()\n\u001b[0;32m    132\u001b[0m \u001b[38;5;28;01mif\u001b[39;00m _DEBUG:\n\u001b[0;32m    133\u001b[0m     \u001b[38;5;28mprint\u001b[39m(\u001b[38;5;124m\"\u001b[39m\u001b[38;5;124mreceiving\u001b[39m\u001b[38;5;124m\"\u001b[39m, result\u001b[38;5;241m.\u001b[39mgetDebugString())\n",
      "File \u001b[1;32mC:\\Program Files (x86)\\Eclipse\\Sumo\\tools\\traci\\connection.py:109\u001b[0m, in \u001b[0;36mConnection._recvExact\u001b[1;34m(self)\u001b[0m\n\u001b[0;32m    107\u001b[0m result \u001b[38;5;241m=\u001b[39m \u001b[38;5;28mbytes\u001b[39m()\n\u001b[0;32m    108\u001b[0m \u001b[38;5;28;01mwhile\u001b[39;00m \u001b[38;5;28mlen\u001b[39m(result) \u001b[38;5;241m<\u001b[39m \u001b[38;5;241m4\u001b[39m:\n\u001b[1;32m--> 109\u001b[0m     t \u001b[38;5;241m=\u001b[39m \u001b[38;5;28mself\u001b[39m\u001b[38;5;241m.\u001b[39m_socket\u001b[38;5;241m.\u001b[39mrecv(\u001b[38;5;241m4\u001b[39m \u001b[38;5;241m-\u001b[39m \u001b[38;5;28mlen\u001b[39m(result))\n\u001b[0;32m    110\u001b[0m     \u001b[38;5;28;01mif\u001b[39;00m \u001b[38;5;129;01mnot\u001b[39;00m t:\n\u001b[0;32m    111\u001b[0m         \u001b[38;5;28;01mreturn\u001b[39;00m \u001b[38;5;28;01mNone\u001b[39;00m\n",
      "\u001b[1;31mKeyboardInterrupt\u001b[0m: "
     ]
    }
   ],
   "source": [
    "#Se importan algunos de los paquetes requeridos\n",
    "import random as rd\n",
    "import pandas as pd\n",
    "import traci\n",
    "import sumolib\n",
    "\n",
    "avgtimes=[]#tiempos promedio\n",
    "ggrrs = []#(verde Norte-Sur)\n",
    "yyrrs = []#(amarillo Norte-Sur)\n",
    "rrggs = []# (verde Este-Oeste)\n",
    "rryys = []#(amarillo Este-Oeste)\n",
    "n0s = []#Tiempos ruta 0\n",
    "n1s = []#Tiempos ruta 1\n",
    "num_simulations = 50\n",
    "\n",
    "\n",
    "for i in range(num_simulations):\n",
    "\n",
    "    n0 = rd.randint(1000,5000)\n",
    "    n1 = rd.randint(1000,5000)\n",
    "\n",
    "    n0s.append(n0)\n",
    "    n1s.append(n1)\n",
    "\n",
    "    sumoBinary = \"sumo\"\n",
    "    sumoCmd = [sumoBinary, \"-c\", \"nt1.sumocfg\"]\n",
    "\n",
    "    traci.start(sumoCmd)\n",
    "\n",
    "    n_vehiculos(n0, n0)\n",
    "\n",
    "    ggrr = rd.uniform(10,60) #(verde Norte-Sur) \n",
    "    yyrr = rd.uniform(2,5) #(amarillo Norte-Sur)\n",
    "    rrgg = rd.uniform(10,60) # (verde Este-Oeste)\n",
    "    rryy = rd.uniform(2,5) #(amarillo Este-Oeste)\n",
    "\n",
    "    ggrrs.append(ggrr)\n",
    "    yyrrs.append(yyrr)\n",
    "    rrggs.append(rrgg)\n",
    "    rryys.append(rryy)\n",
    "\n",
    "    new_logic(ggrr, yyrr, rrgg, rryy)\n",
    "    depart_times = {}\n",
    "    arrival_times = {}\n",
    "    simulation_durations = {}\n",
    "\n",
    "    for step in range(3600):\n",
    "        traci.simulationStep()\n",
    "\n",
    "        departed_vehicles = traci.simulation.getDepartedIDList()\n",
    "        current_time = traci.simulation.getTime()\n",
    "        for veh_id in departed_vehicles:\n",
    "            if veh_id not in depart_times:\n",
    "                depart_times[veh_id] = current_time\n",
    "        \n",
    "        \n",
    "\n",
    "        arrived_vehicles = traci.simulation.getArrivedIDList()\n",
    "        current_time = traci.simulation.getTime()\n",
    "        for veh_id in arrived_vehicles:\n",
    "            if veh_id not in arrival_times:\n",
    "                arrival_times[veh_id] = current_time\n",
    "\n",
    "\n",
    "\n",
    "    for veh_id, arrival_time in arrival_times.items():\n",
    "        if veh_id in depart_times:\n",
    "            departure_time = depart_times[veh_id]\n",
    "            duration = arrival_time - departure_time\n",
    "            simulation_durations[veh_id] = duration\n",
    "\n",
    "    average = sum(simulation_durations.values())/len(simulation_durations)\n",
    "\n",
    "    avgtimes.append(average)\n",
    "\n",
    "    traci.close()\n",
    "data = {\n",
    "    'Simulation' : range(1, num_simulations + 1),\n",
    "    'Tiempo promedio' : avgtimes,\n",
    "    'GGrr (s)' : ggrrs,\n",
    "    'yyrr (s)' : yyrrs,\n",
    "    'rrGG (s)' : rrggs,\n",
    "    'rryy (s)' : rryys,\n",
    "    'Autos r_0': n0s,\n",
    "    'Autos r_1': n1s\n",
    "}\n",
    "\n",
    "df = pd.DataFrame(data)\n",
    "df"
   ]
  },
  {
   "cell_type": "code",
   "execution_count": 13,
   "metadata": {},
   "outputs": [],
   "source": [
    "df.to_csv('Nuevos_valores2.csv', index=False)"
   ]
  },
  {
   "cell_type": "code",
   "execution_count": 14,
   "metadata": {},
   "outputs": [],
   "source": [
    "df2 = pd.read_csv('Nuevos_valores.csv')\n",
    "df3 = pd.read_csv('Nuevos_valores2.csv')\n",
    "\n",
    "df_test = pd.concat([df2, df3], ignore_index=True)"
   ]
  },
  {
   "cell_type": "code",
   "execution_count": 15,
   "metadata": {},
   "outputs": [
    {
     "data": {
      "text/html": [
       "<div>\n",
       "<style scoped>\n",
       "    .dataframe tbody tr th:only-of-type {\n",
       "        vertical-align: middle;\n",
       "    }\n",
       "\n",
       "    .dataframe tbody tr th {\n",
       "        vertical-align: top;\n",
       "    }\n",
       "\n",
       "    .dataframe thead th {\n",
       "        text-align: right;\n",
       "    }\n",
       "</style>\n",
       "<table border=\"1\" class=\"dataframe\">\n",
       "  <thead>\n",
       "    <tr style=\"text-align: right;\">\n",
       "      <th></th>\n",
       "      <th>Simulation</th>\n",
       "      <th>Tiempo promedio</th>\n",
       "      <th>GGrr (s)</th>\n",
       "      <th>yyrr (s)</th>\n",
       "      <th>rrGG (s)</th>\n",
       "      <th>rryy (s)</th>\n",
       "    </tr>\n",
       "  </thead>\n",
       "  <tbody>\n",
       "    <tr>\n",
       "      <th>0</th>\n",
       "      <td>1</td>\n",
       "      <td>42.273792</td>\n",
       "      <td>54.379963</td>\n",
       "      <td>2.275228</td>\n",
       "      <td>45.521003</td>\n",
       "      <td>2.452633</td>\n",
       "    </tr>\n",
       "    <tr>\n",
       "      <th>1</th>\n",
       "      <td>2</td>\n",
       "      <td>47.816987</td>\n",
       "      <td>21.506975</td>\n",
       "      <td>4.334561</td>\n",
       "      <td>10.419554</td>\n",
       "      <td>2.988516</td>\n",
       "    </tr>\n",
       "    <tr>\n",
       "      <th>2</th>\n",
       "      <td>3</td>\n",
       "      <td>37.672950</td>\n",
       "      <td>32.006911</td>\n",
       "      <td>3.209169</td>\n",
       "      <td>39.412099</td>\n",
       "      <td>4.236100</td>\n",
       "    </tr>\n",
       "    <tr>\n",
       "      <th>3</th>\n",
       "      <td>4</td>\n",
       "      <td>41.208770</td>\n",
       "      <td>41.769052</td>\n",
       "      <td>2.230724</td>\n",
       "      <td>51.537889</td>\n",
       "      <td>3.413446</td>\n",
       "    </tr>\n",
       "    <tr>\n",
       "      <th>4</th>\n",
       "      <td>5</td>\n",
       "      <td>44.885861</td>\n",
       "      <td>53.764795</td>\n",
       "      <td>2.604055</td>\n",
       "      <td>58.150533</td>\n",
       "      <td>2.981233</td>\n",
       "    </tr>\n",
       "    <tr>\n",
       "      <th>...</th>\n",
       "      <td>...</td>\n",
       "      <td>...</td>\n",
       "      <td>...</td>\n",
       "      <td>...</td>\n",
       "      <td>...</td>\n",
       "      <td>...</td>\n",
       "    </tr>\n",
       "    <tr>\n",
       "      <th>120</th>\n",
       "      <td>21</td>\n",
       "      <td>36.594094</td>\n",
       "      <td>29.795930</td>\n",
       "      <td>2.934714</td>\n",
       "      <td>42.411125</td>\n",
       "      <td>2.958799</td>\n",
       "    </tr>\n",
       "    <tr>\n",
       "      <th>121</th>\n",
       "      <td>22</td>\n",
       "      <td>38.672269</td>\n",
       "      <td>15.532804</td>\n",
       "      <td>2.468803</td>\n",
       "      <td>35.100084</td>\n",
       "      <td>3.105625</td>\n",
       "    </tr>\n",
       "    <tr>\n",
       "      <th>122</th>\n",
       "      <td>23</td>\n",
       "      <td>35.886336</td>\n",
       "      <td>27.340851</td>\n",
       "      <td>3.555902</td>\n",
       "      <td>24.147868</td>\n",
       "      <td>3.140026</td>\n",
       "    </tr>\n",
       "    <tr>\n",
       "      <th>123</th>\n",
       "      <td>24</td>\n",
       "      <td>38.795082</td>\n",
       "      <td>30.466068</td>\n",
       "      <td>4.343339</td>\n",
       "      <td>47.943494</td>\n",
       "      <td>2.271605</td>\n",
       "    </tr>\n",
       "    <tr>\n",
       "      <th>124</th>\n",
       "      <td>25</td>\n",
       "      <td>38.685061</td>\n",
       "      <td>47.074713</td>\n",
       "      <td>3.283856</td>\n",
       "      <td>33.650381</td>\n",
       "      <td>2.030147</td>\n",
       "    </tr>\n",
       "  </tbody>\n",
       "</table>\n",
       "<p>125 rows × 6 columns</p>\n",
       "</div>"
      ],
      "text/plain": [
       "     Simulation  Tiempo promedio   GGrr (s)  yyrr (s)   rrGG (s)  rryy (s)\n",
       "0             1        42.273792  54.379963  2.275228  45.521003  2.452633\n",
       "1             2        47.816987  21.506975  4.334561  10.419554  2.988516\n",
       "2             3        37.672950  32.006911  3.209169  39.412099  4.236100\n",
       "3             4        41.208770  41.769052  2.230724  51.537889  3.413446\n",
       "4             5        44.885861  53.764795  2.604055  58.150533  2.981233\n",
       "..          ...              ...        ...       ...        ...       ...\n",
       "120          21        36.594094  29.795930  2.934714  42.411125  2.958799\n",
       "121          22        38.672269  15.532804  2.468803  35.100084  3.105625\n",
       "122          23        35.886336  27.340851  3.555902  24.147868  3.140026\n",
       "123          24        38.795082  30.466068  4.343339  47.943494  2.271605\n",
       "124          25        38.685061  47.074713  3.283856  33.650381  2.030147\n",
       "\n",
       "[125 rows x 6 columns]"
      ]
     },
     "execution_count": 15,
     "metadata": {},
     "output_type": "execute_result"
    }
   ],
   "source": [
    "df_test"
   ]
  },
  {
   "cell_type": "code",
   "execution_count": 17,
   "metadata": {},
   "outputs": [],
   "source": [
    "df_test.to_csv('df_test.csv', index=False)"
   ]
  },
  {
   "cell_type": "code",
   "execution_count": 5,
   "metadata": {},
   "outputs": [
    {
     "data": {
      "application/vnd.microsoft.datawrangler.viewer.v0+json": {
       "columns": [
        {
         "name": "index",
         "rawType": "int64",
         "type": "integer"
        },
        {
         "name": "Autos r_0",
         "rawType": "int64",
         "type": "integer"
        }
       ],
       "ref": "7e054f58-3529-4588-8387-6fed2746a950",
       "rows": [
        [
         "0",
         "2884"
        ],
        [
         "1",
         "2991"
        ],
        [
         "2",
         "3245"
        ],
        [
         "3",
         "2550"
        ],
        [
         "4",
         "1392"
        ],
        [
         "5",
         "3682"
        ],
        [
         "6",
         "1639"
        ],
        [
         "7",
         "2785"
        ],
        [
         "8",
         "4313"
        ],
        [
         "9",
         "1052"
        ]
       ],
       "shape": {
        "columns": 1,
        "rows": 10
       }
      },
      "text/plain": [
       "0    2884\n",
       "1    2991\n",
       "2    3245\n",
       "3    2550\n",
       "4    1392\n",
       "5    3682\n",
       "6    1639\n",
       "7    2785\n",
       "8    4313\n",
       "9    1052\n",
       "Name: Autos r_0, dtype: int64"
      ]
     },
     "execution_count": 5,
     "metadata": {},
     "output_type": "execute_result"
    }
   ],
   "source": [
    "df['Autos r_0']"
   ]
  },
  {
   "cell_type": "code",
   "execution_count": 8,
   "metadata": {},
   "outputs": [
    {
     "data": {
      "image/png": "[encoded data removed]",
      "text/plain": [
       "<Figure size 800x600 with 1 Axes>"
      ]
     },
     "metadata": {},
     "output_type": "display_data"
    }
   ],
   "source": [
    "import matplotlib.pyplot as plt\n",
    "import seaborn as sns\n",
    "\n",
    "\n",
    "plt.figure(figsize=(8, 6))\n",
    "sns.scatterplot(x=df['Autos r_0'], y=df['Tiempo promedio'])\n",
    "plt.grid(True)\n",
    "plt.show()"
   ]
  },
  {
   "cell_type": "code",
   "execution_count": null,
   "metadata": {},
   "outputs": [],
   "source": []
  }
 ],
 "metadata": {
  "kernelspec": {
   "display_name": "base",
   "language": "python",
   "name": "python3"
  },
  "language_info": {
   "codemirror_mode": {
    "name": "ipython",
    "version": 3
   },
   "file_extension": ".py",
   "mimetype": "text/x-python",
   "name": "python",
   "nbconvert_exporter": "python",
   "pygments_lexer": "ipython3",
   "version": "3.12.7"
  }
 },
 "nbformat": 4,
 "nbformat_minor": 2
}
