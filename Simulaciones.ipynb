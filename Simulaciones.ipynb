{
 "cells": [
  {
   "cell_type": "code",
   "execution_count": null,
   "metadata": {},
   "outputs": [],
   "source": [
    "import traci\n",
    "import sumolib"
   ]
  },
  {
   "cell_type": "code",
   "execution_count": null,
   "metadata": {},
   "outputs": [],
   "source": [
    "sumoBinary = \"sumo\"\n",
    "sumoCmd = [sumoBinary, \"-c\", \"nt1.sumocfg\"]\n",
    "\n",
    "traci.start(sumoCmd)"
   ]
  },
  {
   "cell_type": "code",
   "execution_count": null,
   "metadata": {},
   "outputs": [],
   "source": [
    "tls_ids = traci.trafficlight.getIDList()\n",
    "print(\"Semáforos\", tls_ids)"
   ]
  },
  {
   "cell_type": "code",
   "execution_count": null,
   "metadata": {},
   "outputs": [],
   "source": [
    "id_semaforo = tls_ids[0]\n",
    "programa = traci.trafficlight.getAllProgramLogics(id_semaforo)\n",
    "print(programa)"
   ]
  },
  {
   "cell_type": "code",
   "execution_count": null,
   "metadata": {},
   "outputs": [],
   "source": [
    "from traci._trafficlight import Logic, Phase\n",
    "\n",
    "#Crear un nuevo programa con fases personalizadas\n",
    "\n",
    "\n",
    "\n",
    "\n",
    "new_logic = Logic(programID=\"nuevo_programa\", type=0,currentPhaseIndex=0,phases=[Phase(duration=30, state=\"GGrr\", minDur=30, maxDur=30 ), Phase(duration=5, state='yyrr', minDur=5, maxDur=5), Phase(duration=30, state='rrGG', minDur=30, maxDur=30), Phase(duration=5, state='rryy', minDur=5, maxDur=5), Phase(duration=1, state='rrrr', minDur=1.0, maxDur=1.0)])\n",
    "\n",
    "#Aplicar el nuevo programa al semáforo\n",
    "traci.trafficlight.setProgramLogic(id_semaforo, new_logic)\n",
    "\n",
    "\n",
    "traci.trafficlight.setProgram(id_semaforo, \"nuevo_programa\")"
   ]
  },
  {
   "cell_type": "code",
   "execution_count": 88,
   "metadata": {},
   "outputs": [],
   "source": [
    "def new_logic(ggrr, yyrr, rrgg, rryy, rrrr):\n",
    "\n",
    "    tls_ids = traci.trafficlight.getIDList()\n",
    "    id_semaforo = tls_ids[0]\n",
    "    programa = traci.trafficlight.getAllProgramLogics(id_semaforo)\n",
    "    \n",
    "    from traci._trafficlight import Logic, Phase\n",
    "\n",
    "    new_logic = Logic(programID=\"nuevo_programa\", type=0,currentPhaseIndex=0,phases=[Phase(duration=ggrr, state=\"GGrr\", minDur=ggrr, maxDur=ggrr ), Phase(duration=yyrr, state='yyrr', minDur=yyrr, maxDur=yyrr), Phase(duration=rrgg, state='rrGG', minDur=rrgg, maxDur=rrgg), Phase(duration=rryy, state='rryy', minDur=rryy, maxDur=rryy), Phase(duration=rrrr, state='rrrr', minDur=rrrr, maxDur=rrrr)])\n",
    "\n",
    "    traci.trafficlight.setProgramLogic(id_semaforo, new_logic)\n",
    "\n",
    "    traci.trafficlight.setProgram(id_semaforo, \"nuevo_programa\")\n",
    "\n",
    "    print(traci.trafficlight.getCompleteRedYellowGreenDefinition(id_semaforo))\n"
   ]
  },
  {
   "cell_type": "code",
   "execution_count": null,
   "metadata": {},
   "outputs": [],
   "source": [
    "new_logic(30,5,30,5,1)"
   ]
  },
  {
   "cell_type": "code",
   "execution_count": null,
   "metadata": {},
   "outputs": [],
   "source": [
    "def avg_time():\n",
    "    depart_times = {}\n",
    "    arrival_times = {}\n",
    "    simulation_durations = {}\n",
    "\n",
    "    for step in range(3600):\n",
    "        traci.simulationStep()\n",
    "\n",
    "        departed_vehicles = traci.simulation.getDepartedIDList()\n",
    "        current_time = traci.simulation.getTime()\n",
    "        for veh_id in departed_vehicles:\n",
    "            if veh_id not in depart_times:\n",
    "                depart_times[veh_id] = current_time\n",
    "        \n",
    "        \n",
    "\n",
    "        arrived_vehicles = traci.simulation.getArrivedIDList()\n",
    "        current_time = traci.simulation.getTime()\n",
    "        for veh_id in arrived_vehicles:\n",
    "            if veh_id not in arrival_times:\n",
    "                arrival_times[veh_id] = current_time\n",
    "\n",
    "\n",
    "\n",
    "    for veh_id, arrival_time in arrival_times.items():\n",
    "        if veh_id in depart_times:\n",
    "            departure_time = depart_times[veh_id]\n",
    "            duration = arrival_time - departure_time\n",
    "            simulation_durations[veh_id] = duration\n",
    "\n",
    "    average = sum(simulation_durations.values())/len(simulation_durations)\n",
    "\n",
    "    return average"
   ]
  },
  {
   "cell_type": "code",
   "execution_count": 91,
   "metadata": {},
   "outputs": [
    {
     "name": "stderr",
     "output_type": "stream",
     "text": [
      "C:\\Users\\Erasmo\\AppData\\Local\\Temp\\ipykernel_7924\\96164663.py:15: UserWarning: Call to deprecated function getCompleteRedYellowGreenDefinition, use getAllProgramLogics instead.\n",
      "  print(traci.trafficlight.getCompleteRedYellowGreenDefinition(id_semaforo))\n"
     ]
    },
    {
     "name": "stdout",
     "output_type": "stream",
     "text": [
      "(Logic(programID='0', type=0, currentPhaseIndex=0, phases=(Phase(duration=15.0, state='GGrr', minDur=15.0, maxDur=15.0), Phase(duration=3.0, state='yyrr', minDur=3.0, maxDur=3.0), Phase(duration=15.0, state='rrGG', minDur=15.0, maxDur=15.0), Phase(duration=3.0, state='rryy', minDur=3.0, maxDur=3.0), Phase(duration=1.0, state='rrrr', minDur=1.0, maxDur=1.0)), subParameter={}), Logic(programID='nuevo_programa', type=0, currentPhaseIndex=0, phases=(Phase(duration=28.33, state='GGrr', minDur=28.33, maxDur=28.33), Phase(duration=3.673, state='yyrr', minDur=3.673, maxDur=3.673), Phase(duration=17.62, state='rrGG', minDur=17.62, maxDur=17.62), Phase(duration=2.826, state='rryy', minDur=2.826, maxDur=2.826), Phase(duration=4.352, state='rrrr', minDur=4.352, maxDur=4.352)), subParameter={}))\n",
      "(Logic(programID='0', type=0, currentPhaseIndex=0, phases=(Phase(duration=15.0, state='GGrr', minDur=15.0, maxDur=15.0), Phase(duration=3.0, state='yyrr', minDur=3.0, maxDur=3.0), Phase(duration=15.0, state='rrGG', minDur=15.0, maxDur=15.0), Phase(duration=3.0, state='rryy', minDur=3.0, maxDur=3.0), Phase(duration=1.0, state='rrrr', minDur=1.0, maxDur=1.0)), subParameter={}), Logic(programID='nuevo_programa', type=0, currentPhaseIndex=0, phases=(Phase(duration=40.061, state='GGrr', minDur=40.061, maxDur=40.061), Phase(duration=3.516, state='yyrr', minDur=3.516, maxDur=3.516), Phase(duration=15.082, state='rrGG', minDur=15.082, maxDur=15.082), Phase(duration=4.096, state='rryy', minDur=4.096, maxDur=4.096), Phase(duration=4.347, state='rrrr', minDur=4.347, maxDur=4.347)), subParameter={}))\n"
     ]
    },
    {
     "data": {
      "text/html": [
       "<div>\n",
       "<style scoped>\n",
       "    .dataframe tbody tr th:only-of-type {\n",
       "        vertical-align: middle;\n",
       "    }\n",
       "\n",
       "    .dataframe tbody tr th {\n",
       "        vertical-align: top;\n",
       "    }\n",
       "\n",
       "    .dataframe thead th {\n",
       "        text-align: right;\n",
       "    }\n",
       "</style>\n",
       "<table border=\"1\" class=\"dataframe\">\n",
       "  <thead>\n",
       "    <tr style=\"text-align: right;\">\n",
       "      <th></th>\n",
       "      <th>Simulation</th>\n",
       "      <th>Tiempo promedio</th>\n",
       "      <th>GGrr (s)</th>\n",
       "      <th>yyrr (s)</th>\n",
       "      <th>rrGG (s)</th>\n",
       "      <th>rryy (s)</th>\n",
       "      <th>rrrr (s)</th>\n",
       "    </tr>\n",
       "  </thead>\n",
       "  <tbody>\n",
       "    <tr>\n",
       "      <th>0</th>\n",
       "      <td>1</td>\n",
       "      <td>44.874882</td>\n",
       "      <td>28.330029</td>\n",
       "      <td>3.672601</td>\n",
       "      <td>17.620279</td>\n",
       "      <td>2.825557</td>\n",
       "      <td>4.351837</td>\n",
       "    </tr>\n",
       "    <tr>\n",
       "      <th>1</th>\n",
       "      <td>2</td>\n",
       "      <td>51.785984</td>\n",
       "      <td>40.061354</td>\n",
       "      <td>3.515616</td>\n",
       "      <td>15.082120</td>\n",
       "      <td>4.095562</td>\n",
       "      <td>4.346871</td>\n",
       "    </tr>\n",
       "  </tbody>\n",
       "</table>\n",
       "</div>"
      ],
      "text/plain": [
       "   Simulation  Tiempo promedio   GGrr (s)  yyrr (s)   rrGG (s)  rryy (s)  \\\n",
       "0           1        44.874882  28.330029  3.672601  17.620279  2.825557   \n",
       "1           2        51.785984  40.061354  3.515616  15.082120  4.095562   \n",
       "\n",
       "   rrrr (s)  \n",
       "0  4.351837  \n",
       "1  4.346871  "
      ]
     },
     "execution_count": 91,
     "metadata": {},
     "output_type": "execute_result"
    }
   ],
   "source": [
    "import random as rd\n",
    "import pandas as pd\n",
    "import traci\n",
    "import sumolib\n",
    "\n",
    "avgtimes=[]\n",
    "ggrrs = []\n",
    "yyrrs = []\n",
    "rrggs = []\n",
    "rryys = []\n",
    "rrrrs = []\n",
    "num_simulations = 2\n",
    "\n",
    "for i in range(num_simulations):\n",
    "    sumoBinary = \"sumo\"\n",
    "    sumoCmd = [sumoBinary, \"-c\", \"nt1.sumocfg\"]\n",
    "\n",
    "    traci.start(sumoCmd)\n",
    "\n",
    "    ggrr = rd.uniform(10,60) #(verde Norte-Sur) \n",
    "    yyrr = rd.uniform(2,5) #(amarillo Norte-Sur)\n",
    "    rrgg = rd.uniform(10,60) # (verde Este-Oeste)\n",
    "    rryy = rd.uniform(2,5) #(amarillo Este-Oeste)\n",
    "    rrrr = rd.uniform(1,5) #(rojo total)\n",
    "\n",
    "    ggrrs.append(ggrr)\n",
    "    yyrrs.append(yyrr)\n",
    "    rrggs.append(rrgg)\n",
    "    rryys.append(rryy)\n",
    "    rrrrs.append(rrrr)\n",
    "\n",
    "    new_logic(ggrr, yyrr, rrgg, rryy, rrrr)\n",
    "    depart_times = {}\n",
    "    arrival_times = {}\n",
    "    simulation_durations = {}\n",
    "\n",
    "    for step in range(3600):\n",
    "        traci.simulationStep()\n",
    "\n",
    "        departed_vehicles = traci.simulation.getDepartedIDList()\n",
    "        current_time = traci.simulation.getTime()\n",
    "        for veh_id in departed_vehicles:\n",
    "            if veh_id not in depart_times:\n",
    "                depart_times[veh_id] = current_time\n",
    "        \n",
    "        \n",
    "\n",
    "        arrived_vehicles = traci.simulation.getArrivedIDList()\n",
    "        current_time = traci.simulation.getTime()\n",
    "        for veh_id in arrived_vehicles:\n",
    "            if veh_id not in arrival_times:\n",
    "                arrival_times[veh_id] = current_time\n",
    "\n",
    "\n",
    "\n",
    "    for veh_id, arrival_time in arrival_times.items():\n",
    "        if veh_id in depart_times:\n",
    "            departure_time = depart_times[veh_id]\n",
    "            duration = arrival_time - departure_time\n",
    "            simulation_durations[veh_id] = duration\n",
    "\n",
    "    average = sum(simulation_durations.values())/len(simulation_durations)\n",
    "\n",
    "    avgtimes.append(average)\n",
    "\n",
    "    traci.close()\n",
    "data = {\n",
    "    'Simulation' : range(1, num_simulations + 1),\n",
    "    'Tiempo promedio' : avgtimes,\n",
    "    'GGrr (s)' : ggrrs,\n",
    "    'yyrr (s)' : yyrrs,\n",
    "    'rrGG (s)' : rrggs,\n",
    "    'rryy (s)' : rryys,\n",
    "    'rrrr (s)' : rrrrs\n",
    "}\n",
    "\n",
    "df = pd.DataFrame(data)\n",
    "df"
   ]
  },
  {
   "cell_type": "code",
   "execution_count": 90,
   "metadata": {},
   "outputs": [],
   "source": [
    "traci.close()"
   ]
  },
  {
   "cell_type": "code",
   "execution_count": null,
   "metadata": {},
   "outputs": [],
   "source": [
    "df.to_csv('Tiempos_promedio.csv', index=False)"
   ]
  }
 ],
 "metadata": {
  "kernelspec": {
   "display_name": "Python 3",
   "language": "python",
   "name": "python3"
  },
  "language_info": {
   "codemirror_mode": {
    "name": "ipython",
    "version": 3
   },
   "file_extension": ".py",
   "mimetype": "text/x-python",
   "name": "python",
   "nbconvert_exporter": "python",
   "pygments_lexer": "ipython3",
   "version": "3.13.0"
  }
 },
 "nbformat": 4,
 "nbformat_minor": 2
}
